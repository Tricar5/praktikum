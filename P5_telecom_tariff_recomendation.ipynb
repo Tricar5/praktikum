{
 "cells": [
  {
   "cell_type": "markdown",
   "metadata": {},
   "source": [
    "# Рекомендация тарифов"
   ]
  },
  {
   "cell_type": "markdown",
   "metadata": {},
   "source": [
    "Преамбула:\n",
    "\n",
    "В вашем распоряжении данные о поведении клиентов, которые уже перешли на эти тарифы (из проекта курса «Статистический анализ данных»). Нужно построить модель для задачи классификации, которая выберет подходящий тариф. Предобработка данных не понадобится — вы её уже сделали.\n",
    "\n",
    "Постройте модель с максимально большим значением *accuracy*. Чтобы сдать проект успешно, нужно довести долю правильных ответов по крайней мере до 0.75. Проверьте *accuracy* на тестовой выборке самостоятельно.\n",
    "\n",
    "Комментарий исследователя:\n",
    "\n",
    "Основная цель - **получение наиболее оптимальной модели принятия решений в рекомендательной системе по соотношению цена и качество**\n",
    "\n",
    "**Задачи:**\n",
    "\n",
    "1) Оценка массива полученных данных\n",
    "\n",
    "2) Выбор метода разбиения (кросс-валидация или 3 выборки)\n",
    "\n",
    "4) Подбор гиперпараметров моделей для обучения\n",
    "\n",
    "5) Тестирование\n",
    "\n",
    "6) Оценка адекватности модели"
   ]
  },
  {
   "cell_type": "markdown",
   "metadata": {},
   "source": [
    "## 1. Открытие файла"
   ]
  },
  {
   "cell_type": "code",
   "execution_count": 1,
   "metadata": {},
   "outputs": [
    {
     "data": {
      "text/html": [
       "<div>\n",
       "<style scoped>\n",
       "    .dataframe tbody tr th:only-of-type {\n",
       "        vertical-align: middle;\n",
       "    }\n",
       "\n",
       "    .dataframe tbody tr th {\n",
       "        vertical-align: top;\n",
       "    }\n",
       "\n",
       "    .dataframe thead th {\n",
       "        text-align: right;\n",
       "    }\n",
       "</style>\n",
       "<table border=\"1\" class=\"dataframe\">\n",
       "  <thead>\n",
       "    <tr style=\"text-align: right;\">\n",
       "      <th></th>\n",
       "      <th>calls</th>\n",
       "      <th>minutes</th>\n",
       "      <th>messages</th>\n",
       "      <th>mb_used</th>\n",
       "      <th>is_ultra</th>\n",
       "    </tr>\n",
       "  </thead>\n",
       "  <tbody>\n",
       "    <tr>\n",
       "      <td>0</td>\n",
       "      <td>40.0</td>\n",
       "      <td>311.90</td>\n",
       "      <td>83.0</td>\n",
       "      <td>19915.42</td>\n",
       "      <td>0</td>\n",
       "    </tr>\n",
       "    <tr>\n",
       "      <td>1</td>\n",
       "      <td>85.0</td>\n",
       "      <td>516.75</td>\n",
       "      <td>56.0</td>\n",
       "      <td>22696.96</td>\n",
       "      <td>0</td>\n",
       "    </tr>\n",
       "    <tr>\n",
       "      <td>2</td>\n",
       "      <td>77.0</td>\n",
       "      <td>467.66</td>\n",
       "      <td>86.0</td>\n",
       "      <td>21060.45</td>\n",
       "      <td>0</td>\n",
       "    </tr>\n",
       "    <tr>\n",
       "      <td>3</td>\n",
       "      <td>106.0</td>\n",
       "      <td>745.53</td>\n",
       "      <td>81.0</td>\n",
       "      <td>8437.39</td>\n",
       "      <td>1</td>\n",
       "    </tr>\n",
       "    <tr>\n",
       "      <td>4</td>\n",
       "      <td>66.0</td>\n",
       "      <td>418.74</td>\n",
       "      <td>1.0</td>\n",
       "      <td>14502.75</td>\n",
       "      <td>0</td>\n",
       "    </tr>\n",
       "  </tbody>\n",
       "</table>\n",
       "</div>"
      ],
      "text/plain": [
       "   calls  minutes  messages   mb_used  is_ultra\n",
       "0   40.0   311.90      83.0  19915.42         0\n",
       "1   85.0   516.75      56.0  22696.96         0\n",
       "2   77.0   467.66      86.0  21060.45         0\n",
       "3  106.0   745.53      81.0   8437.39         1\n",
       "4   66.0   418.74       1.0  14502.75         0"
      ]
     },
     "execution_count": 1,
     "metadata": {},
     "output_type": "execute_result"
    }
   ],
   "source": [
    "import pandas as pd\n",
    "import numpy as np\n",
    "from sklearn.model_selection import train_test_split\n",
    "from sklearn.metrics import accuracy_score\n",
    "import matplotlib.pyplot as plt\n",
    "\n",
    "\n",
    "df = pd.read_csv('/datasets/users_behavior.csv')\n",
    "\n",
    "#Выведем первые 5 строк массива данных\n",
    "\n",
    "df.head()"
   ]
  },
  {
   "cell_type": "markdown",
   "metadata": {},
   "source": [
    "Данные уже размечены, выведем размер полученного нами массива"
   ]
  },
  {
   "cell_type": "code",
   "execution_count": 2,
   "metadata": {},
   "outputs": [
    {
     "data": {
      "text/plain": [
       "(3214, 5)"
      ]
     },
     "execution_count": 2,
     "metadata": {},
     "output_type": "execute_result"
    }
   ],
   "source": [
    "df.shape"
   ]
  },
  {
   "cell_type": "code",
   "execution_count": 3,
   "metadata": {},
   "outputs": [
    {
     "data": {
      "text/plain": [
       "count    3214.000000\n",
       "mean        0.306472\n",
       "std         0.461100\n",
       "min         0.000000\n",
       "25%         0.000000\n",
       "50%         0.000000\n",
       "75%         1.000000\n",
       "max         1.000000\n",
       "Name: is_ultra, dtype: float64"
      ]
     },
     "execution_count": 3,
     "metadata": {},
     "output_type": "execute_result"
    }
   ],
   "source": [
    "df['is_ultra'].describe()"
   ]
  },
  {
   "cell_type": "markdown",
   "metadata": {},
   "source": [
    "Среднее значение - 0.3, таким образом в исходном наборе данных классы распределены неравномерно, что будет затруднять качество обучения модели.\n",
    "\n",
    "**Более того, данных оказалось не так много, однако мы постараемся применить несколько методов, чтобы повысить проверку качества нашей модели. В связи с этим, мы предлагаем использовать кросс-валидацию для подбора гиперпараметров моделей, а не разбитие на 3 выборки, то есть разбиение на 2 выборки**"
   ]
  },
  {
   "cell_type": "markdown",
   "metadata": {},
   "source": [
    "## 2. Разбейте данные на выборки\n",
    "\n",
    "Отведем 80% (~2600 объектов) для обучения и отложим 20% (~600 объектов) для тестов"
   ]
  },
  {
   "cell_type": "code",
   "execution_count": 4,
   "metadata": {},
   "outputs": [],
   "source": [
    "df_train, df_hold = train_test_split(df, test_size=.20, random_state=42)\n",
    "\n",
    "# Если бы выборка разбивалась на 3, то добавили бы этот шаг\n",
    "#df_test, df_val = train_test_split(df_hold, test_size=.5, random_state=42)"
   ]
  },
  {
   "cell_type": "markdown",
   "metadata": {},
   "source": [
    "Отделим факторы от целевых признаков в каждом из наборов данных:"
   ]
  },
  {
   "cell_type": "code",
   "execution_count": 5,
   "metadata": {},
   "outputs": [],
   "source": [
    "features = df_train.drop('is_ultra', axis=1)\n",
    "target = df_train['is_ultra']\n",
    "\n",
    "features_test = df_hold.drop('is_ultra', axis=1)\n",
    "target_test = df_hold['is_ultra']\n"
   ]
  },
  {
   "cell_type": "markdown",
   "metadata": {},
   "source": [
    "## 3. Исследуйте модели\n",
    "\n",
    "Исходная задача - задача классификации, соответственно, будут использоваться популярные алгоритмы машинного обучения для классификации по бинарному признаку (в данному случае `is_ultra`)"
   ]
  },
  {
   "cell_type": "code",
   "execution_count": 6,
   "metadata": {},
   "outputs": [],
   "source": [
    "#импортируем модели: дерево решений, классификатор случайного леса, логистическую регрессию, \n",
    "from sklearn.tree import DecisionTreeClassifier, plot_tree\n",
    "from sklearn.ensemble import RandomForestClassifier\n",
    "from sklearn.linear_model import LogisticRegression\n",
    "from sklearn.model_selection import GridSearchCV\n",
    "from sklearn.ensemble import GradientBoostingClassifier\n",
    "\n"
   ]
  },
  {
   "cell_type": "code",
   "execution_count": 7,
   "metadata": {},
   "outputs": [],
   "source": [
    "# подготавливаем словарь для перебора характеристик гипепараметров различных моделей, random_state везде выставляем одинаковый\n",
    "\n",
    "model_params = {\n",
    "    'decision_tree':{\n",
    "        'model': DecisionTreeClassifier(random_state=42),\n",
    "        'params':{\n",
    "            'max_depth' : [3, 5, 7]\n",
    "        }\n",
    "    },\n",
    "    'random_forest': {\n",
    "        'model': RandomForestClassifier(random_state = 42), \n",
    "        'params' : {\n",
    "            'n_estimators': [5,10],\n",
    "            'max_depth' : [2,3,5] # выставим диапазон вариаций для отдельных деревьев по лучшим из теста предыдущей модели\n",
    "            \n",
    "        }\n",
    "    },\n",
    "    'logistic_regression' : {\n",
    "        'model': LogisticRegression(solver='liblinear', multi_class='auto', random_state=42),\n",
    "        'params': {\n",
    "            'C': [1,5,10],\n",
    "        }\n",
    "    },\n",
    "    'gradient_boosting' : {\n",
    "    'model' : GradientBoostingClassifier(random_state = 42),\n",
    "    'params': {\n",
    "       'n_estimators': [50,100,150],\n",
    "       'max_depth':[1,2]\n",
    "        }\n",
    "    }\n",
    "}"
   ]
  },
  {
   "cell_type": "code",
   "execution_count": 8,
   "metadata": {},
   "outputs": [
    {
     "data": {
      "text/html": [
       "<div>\n",
       "<style scoped>\n",
       "    .dataframe tbody tr th:only-of-type {\n",
       "        vertical-align: middle;\n",
       "    }\n",
       "\n",
       "    .dataframe tbody tr th {\n",
       "        vertical-align: top;\n",
       "    }\n",
       "\n",
       "    .dataframe thead th {\n",
       "        text-align: right;\n",
       "    }\n",
       "</style>\n",
       "<table border=\"1\" class=\"dataframe\">\n",
       "  <thead>\n",
       "    <tr style=\"text-align: right;\">\n",
       "      <th></th>\n",
       "      <th>model</th>\n",
       "      <th>best_score</th>\n",
       "      <th>best_params</th>\n",
       "    </tr>\n",
       "  </thead>\n",
       "  <tbody>\n",
       "    <tr>\n",
       "      <td>0</td>\n",
       "      <td>decision_tree</td>\n",
       "      <td>0.784520</td>\n",
       "      <td>{'max_depth': 3}</td>\n",
       "    </tr>\n",
       "    <tr>\n",
       "      <td>1</td>\n",
       "      <td>random_forest</td>\n",
       "      <td>0.795410</td>\n",
       "      <td>{'max_depth': 5, 'n_estimators': 10}</td>\n",
       "    </tr>\n",
       "    <tr>\n",
       "      <td>2</td>\n",
       "      <td>logistic_regression</td>\n",
       "      <td>0.711785</td>\n",
       "      <td>{'C': 1}</td>\n",
       "    </tr>\n",
       "    <tr>\n",
       "      <td>3</td>\n",
       "      <td>gradient_boosting</td>\n",
       "      <td>0.800856</td>\n",
       "      <td>{'max_depth': 2, 'n_estimators': 150}</td>\n",
       "    </tr>\n",
       "  </tbody>\n",
       "</table>\n",
       "</div>"
      ],
      "text/plain": [
       "                 model  best_score                            best_params\n",
       "0        decision_tree    0.784520                       {'max_depth': 3}\n",
       "1        random_forest    0.795410   {'max_depth': 5, 'n_estimators': 10}\n",
       "2  logistic_regression    0.711785                               {'C': 1}\n",
       "3    gradient_boosting    0.800856  {'max_depth': 2, 'n_estimators': 150}"
      ]
     },
     "execution_count": 8,
     "metadata": {},
     "output_type": "execute_result"
    }
   ],
   "source": [
    "#Замеряем скоринг качества на кросс-валидации по сетке с помощью GridSearch\n",
    "\n",
    "scores = []\n",
    "\n",
    "for model_name, mp in model_params.items():\n",
    "    clf =  GridSearchCV(mp['model'], mp['params'], cv=4, return_train_score=False)\n",
    "    clf.fit(features, target)\n",
    "    scores.append({\n",
    "        'model': model_name,\n",
    "        'best_score': clf.best_score_,\n",
    "        'best_params': clf.best_params_\n",
    "    })\n",
    "\n",
    "# Пушим массив массивов в DataFrame и выводим на экран\n",
    "result = pd.DataFrame(scores,columns=['model','best_score','best_params'])\n",
    "result"
   ]
  },
  {
   "cell_type": "markdown",
   "metadata": {},
   "source": [
    "Таким образом, мы получили лучшие параметры для моделей с помощью кросс валидации. Лучшей моделью оказался классификатор градиентного бустинга, следом - случайный лес и решающее дерево. Наихудший результат на кросс валидации показала Логистическая регрессия - 0.71.\n",
    "\n",
    "**Далее, мы предлагаем замерить время обучения моделей бустинга и случайного леса по лучшим параметрам**"
   ]
  },
  {
   "cell_type": "markdown",
   "metadata": {},
   "source": [
    "### Классификатор градиентного бустинга: замеры и обучение"
   ]
  },
  {
   "cell_type": "code",
   "execution_count": 9,
   "metadata": {},
   "outputs": [
    {
     "name": "stdout",
     "output_type": "stream",
     "text": [
      "149 ms ± 3.86 ms per loop (mean ± std. dev. of 7 runs, 10 loops each)\n"
     ]
    }
   ],
   "source": [
    "model_boost =  GradientBoostingClassifier(random_state=42, n_estimators = 100, max_depth = 2)\n",
    "\n",
    "%timeit model_boost.fit(features, target)"
   ]
  },
  {
   "cell_type": "markdown",
   "metadata": {},
   "source": [
    "**1,1 секунды - в принципе, допустимо при таких хороших показателях**"
   ]
  },
  {
   "cell_type": "code",
   "execution_count": 10,
   "metadata": {},
   "outputs": [
    {
     "data": {
      "text/plain": [
       "GradientBoostingClassifier(criterion='friedman_mse', init=None,\n",
       "                           learning_rate=0.1, loss='deviance', max_depth=2,\n",
       "                           max_features=None, max_leaf_nodes=None,\n",
       "                           min_impurity_decrease=0.0, min_impurity_split=None,\n",
       "                           min_samples_leaf=1, min_samples_split=2,\n",
       "                           min_weight_fraction_leaf=0.0, n_estimators=100,\n",
       "                           n_iter_no_change=None, presort='auto',\n",
       "                           random_state=42, subsample=1.0, tol=0.0001,\n",
       "                           validation_fraction=0.1, verbose=0,\n",
       "                           warm_start=False)"
      ]
     },
     "execution_count": 10,
     "metadata": {},
     "output_type": "execute_result"
    }
   ],
   "source": [
    "model_boost.fit(features, target)"
   ]
  },
  {
   "cell_type": "markdown",
   "metadata": {},
   "source": [
    "### Случайный лес: замеры и обучение"
   ]
  },
  {
   "cell_type": "code",
   "execution_count": 11,
   "metadata": {},
   "outputs": [],
   "source": [
    "model_rand_forest =  RandomForestClassifier(random_state=42,\n",
    "                                                       n_estimators = 10,\n",
    "                                                       max_depth = 5)\n",
    "                                                       "
   ]
  },
  {
   "cell_type": "code",
   "execution_count": 12,
   "metadata": {},
   "outputs": [
    {
     "name": "stdout",
     "output_type": "stream",
     "text": [
      "41 ms ± 1.1 ms per loop (mean ± std. dev. of 7 runs, 10 loops each)\n"
     ]
    }
   ],
   "source": [
    "%timeit model_rand_forest.fit(features, target)"
   ]
  },
  {
   "cell_type": "markdown",
   "metadata": {},
   "source": [
    "**Обучение случайного леса заняло бы гораздо меньше времени, чем градиентного бустинга. Обучаем модель:**"
   ]
  },
  {
   "cell_type": "code",
   "execution_count": 13,
   "metadata": {},
   "outputs": [
    {
     "data": {
      "text/plain": [
       "RandomForestClassifier(bootstrap=True, class_weight=None, criterion='gini',\n",
       "                       max_depth=5, max_features='auto', max_leaf_nodes=None,\n",
       "                       min_impurity_decrease=0.0, min_impurity_split=None,\n",
       "                       min_samples_leaf=1, min_samples_split=2,\n",
       "                       min_weight_fraction_leaf=0.0, n_estimators=10,\n",
       "                       n_jobs=None, oob_score=False, random_state=42, verbose=0,\n",
       "                       warm_start=False)"
      ]
     },
     "execution_count": 13,
     "metadata": {},
     "output_type": "execute_result"
    }
   ],
   "source": [
    "model_rand_forest.fit(features, target)"
   ]
  },
  {
   "cell_type": "markdown",
   "metadata": {},
   "source": [
    "### Дерево решений: замеры и обучение"
   ]
  },
  {
   "cell_type": "code",
   "execution_count": 14,
   "metadata": {},
   "outputs": [],
   "source": [
    "model_dec_tree = DecisionTreeClassifier(random_state=42, max_depth = 3)"
   ]
  },
  {
   "cell_type": "code",
   "execution_count": 15,
   "metadata": {},
   "outputs": [
    {
     "name": "stdout",
     "output_type": "stream",
     "text": [
      "5.11 ms ± 83.6 µs per loop (mean ± std. dev. of 7 runs, 100 loops each)\n"
     ]
    }
   ],
   "source": [
    "%timeit model_dec_tree.fit(features, target)"
   ]
  },
  {
   "cell_type": "markdown",
   "metadata": {},
   "source": [
    "**Наименьшее время обучения - 0,3 секунды**"
   ]
  },
  {
   "cell_type": "code",
   "execution_count": 16,
   "metadata": {},
   "outputs": [
    {
     "data": {
      "text/plain": [
       "DecisionTreeClassifier(class_weight=None, criterion='gini', max_depth=3,\n",
       "                       max_features=None, max_leaf_nodes=None,\n",
       "                       min_impurity_decrease=0.0, min_impurity_split=None,\n",
       "                       min_samples_leaf=1, min_samples_split=2,\n",
       "                       min_weight_fraction_leaf=0.0, presort=False,\n",
       "                       random_state=42, splitter='best')"
      ]
     },
     "execution_count": 16,
     "metadata": {},
     "output_type": "execute_result"
    }
   ],
   "source": [
    "model_dec_tree.fit(features, target)"
   ]
  },
  {
   "cell_type": "markdown",
   "metadata": {},
   "source": [
    "***3 модели \"лидеров\" обучены и готовы к тестам на отложенной выборке.***"
   ]
  },
  {
   "cell_type": "markdown",
   "metadata": {},
   "source": [
    "## 4. Проверьте модель на тестовой выборке\n",
    "\n",
    "На данном этапе, мы должны проверить эффективность моделей в решении поставленных задач при помощи метрик оценки качества моделей. В качестве основой нами была взята метрика Accuracy (процент правильных ответов), вспомогательной - F1 Score (***хотя она должна быть основной на самом деле***)"
   ]
  },
  {
   "cell_type": "code",
   "execution_count": 17,
   "metadata": {},
   "outputs": [],
   "source": [
    "# Пусть каждая модель сделает предсказания\n",
    "\n",
    "predictions_boost = model_boost.predict(features_test)\n",
    "predictions_rand_forest = model_rand_forest.predict(features_test)\n",
    "predictions_dec_tree = model_dec_tree.predict(features_test)"
   ]
  },
  {
   "cell_type": "code",
   "execution_count": 18,
   "metadata": {},
   "outputs": [],
   "source": [
    "# сделаем словарь с предсказаниями\n",
    "model_predictions = {\n",
    "    'GradientBoosting' : predictions_boost,\n",
    "    'RandomForest' : predictions_rand_forest,\n",
    "    'DecisionTree' : predictions_dec_tree\n",
    "}"
   ]
  },
  {
   "cell_type": "code",
   "execution_count": 19,
   "metadata": {},
   "outputs": [
    {
     "name": "stdout",
     "output_type": "stream",
     "text": [
      "GradientBoosting имеет Accuracy : 0.81 и F1 Score: 0.62\n",
      "RandomForest имеет Accuracy : 0.81 и F1 Score: 0.59\n",
      "DecisionTree имеет Accuracy : 0.80 и F1 Score: 0.59\n"
     ]
    }
   ],
   "source": [
    "from sklearn.metrics import accuracy_score\n",
    "from sklearn.metrics import f1_score\n",
    "\n",
    "\n",
    "for key in model_predictions:\n",
    "    prediction = model_predictions[key]\n",
    "    accuracy = accuracy_score(prediction, target_test)\n",
    "    f1 = f1_score(prediction, target_test)\n",
    "    print(f'{key} имеет Accuracy : {accuracy:.2f} и F1 Score: {f1:.2f}')"
   ]
  },
  {
   "cell_type": "markdown",
   "metadata": {},
   "source": [
    "Таким образом, нам удалось подтвердить результаты кросс-валидации, полученные ранее. Наиболее результативным оказался алгоритм Градиентного бустинга, однако по соотношениям времени обучения он проигрывает Случайному лесу (111 ms против 32 у случайного леса).\n",
    "\n",
    "Однако несмотря на применение более сложных алгоритмов машинного обучения, неожиданно хорошо показал обобщающую способность **классификатор дерева решений**. Он имеет такие же показатели Accuracy и метрики F1 для тестовой выборки, что и случайный лес. \n",
    "\n",
    "**Визуализируем данную модель:**"
   ]
  },
  {
   "cell_type": "code",
   "execution_count": 20,
   "metadata": {},
   "outputs": [
    {
     "data": {
      "image/png": "[encoded data removed]",
      "text/plain": [
       "<Figure size 1440x936 with 1 Axes>"
      ]
     },
     "metadata": {
      "needs_background": "light"
     },
     "output_type": "display_data"
    }
   ],
   "source": [
    "plt.figure(figsize=((20,13)))\n",
    "plot_tree(model_dec_tree, \n",
    "          filled=True, \n",
    "          feature_names=features.columns, \n",
    "          class_names= ['smart','ultra'], \n",
    "          rounded=True)\n",
    "plt.show()"
   ]
  },
  {
   "cell_type": "markdown",
   "metadata": {},
   "source": [
    "Интерпретация почему дерево решений оказалось таким эффективным сводится к тому, что мы имеем небольшой объем признаков (4),наиболее сильным влиянием которые обладают 3 из них. \n",
    "По результатам проекта анализа тарифов ключевыми статьями использования пакетов и тарификации по ним являются:\n",
    " \n",
    " - Количество минут;\n",
    " \n",
    " - Объем потребляемого интернет трафика\n",
    " \n",
    " - Количество сообщений\n",
    " "
   ]
  },
  {
   "cell_type": "markdown",
   "metadata": {},
   "source": [
    "## 5. (бонус) Проверьте модели на адекватность"
   ]
  },
  {
   "cell_type": "code",
   "execution_count": 21,
   "metadata": {},
   "outputs": [
    {
     "name": "stdout",
     "output_type": "stream",
     "text": [
      "Размер исходных целевых характеристик - 643\n",
      "Размер созданного массива случайных - 643\n"
     ]
    }
   ],
   "source": [
    "import numpy as np\n",
    "\n",
    "#создаем случайный массив и считаем метрики\n",
    "predictions_random = pd.Series(np.random.randint(0, 2, len(target_test)), index=target_test.index)\n",
    "\n",
    "# Проверяем массивы на соответствие размеров:\n",
    "print(f'Размер исходных целевых характеристик - {len(target_test)}\\n\\\n",
    "Размер созданного массива случайных - {len(predictions_random)}')"
   ]
  },
  {
   "cell_type": "code",
   "execution_count": 22,
   "metadata": {},
   "outputs": [
    {
     "name": "stdout",
     "output_type": "stream",
     "text": [
      "При случайных значениях ответов Accuracy : 0.49\n"
     ]
    }
   ],
   "source": [
    "accuracy_rand = accuracy_score(predictions_random, target_test)\n",
    "\n",
    "print(f'При случайных значениях ответов Accuracy : {accuracy_rand:.2f}')"
   ]
  },
  {
   "cell_type": "markdown",
   "metadata": {},
   "source": [
    "**В ходе данного тестирования мы получили, что применение машинного обучение может улучшить показатели классификации почти на 10%**"
   ]
  },
  {
   "cell_type": "markdown",
   "metadata": {},
   "source": [
    "## Вывод\n",
    "\n",
    "Таким образом, мы:\n",
    "\n",
    "1) Рассмотрели 4 модели машинного обучения\n",
    "\n",
    "2) Оценили их эффективность с помощью кроссвалидации прогона параметров по сетке\n",
    "\n",
    "3) Отобрали 3 модели (градиентный бустинг, случайный лес, дерево решений)\n",
    "\n",
    "3) Оценили затраты времени на обучение каждой из моделей машинного обучения\n",
    "\n",
    "4) Оценили их эффективность \n",
    "\n",
    "5) Рассмотрели на примере дерева решений вклад признаков и выделили 3 из них, которые повлияли на эффективность данного алгоритма\n",
    "\n",
    "6) Оценили адекватность. Выигрыш - 10% по accuracy\n",
    "\n",
    "\n",
    "***В связи с этим, мы предлагаем рассмотреть применение классификатора дерева решений для формирования персональных предложений о переходе на новые тарифы для клиентов оператора в связи с его простотой и эффективностью, показанной на тестах. Более того, он является простым в реализации, что сократит затраты компании для внедрения данной системы***"
   ]
  }
 ],
 "metadata": {
  "kernelspec": {
   "display_name": "Python 3",
   "language": "python",
   "name": "python3"
  },
  "language_info": {
   "codemirror_mode": {
    "name": "ipython",
    "version": 3
   },
   "file_extension": ".py",
   "mimetype": "text/x-python",
   "name": "python",
   "nbconvert_exporter": "python",
   "pygments_lexer": "ipython3",
   "version": "3.9.4"
  }
 },
 "nbformat": 4,
 "nbformat_minor": 2
}
