{
 "cells": [
  {
   "cell_type": "markdown",
   "metadata": {},
   "source": [
    "# Проект матричное кодирование\n",
    "\n",
    "### Аннотация\n",
    "\n",
    "Вам нужно защитить данные клиентов страховой компании «Хоть потоп». Разработайте такой метод преобразования данных, чтобы по ним было сложно восстановить персональную информацию. Обоснуйте корректность его работы.\n",
    "\n",
    "Нужно защитить данные, чтобы при преобразовании качество моделей машинного обучения не ухудшилось. Подбирать наилучшую модель не требуется."
   ]
  },
  {
   "cell_type": "markdown",
   "metadata": {},
   "source": [
    "## 1. Загрузка данных"
   ]
  },
  {
   "cell_type": "code",
   "execution_count": 1,
   "metadata": {
    "scrolled": false
   },
   "outputs": [
    {
     "name": "stdout",
     "output_type": "stream",
     "text": [
      "<class 'pandas.core.frame.DataFrame'>\n",
      "RangeIndex: 5000 entries, 0 to 4999\n",
      "Data columns (total 5 columns):\n",
      "Пол                  5000 non-null int64\n",
      "Возраст              5000 non-null float64\n",
      "Зарплата             5000 non-null float64\n",
      "Члены семьи          5000 non-null int64\n",
      "Страховые выплаты    5000 non-null int64\n",
      "dtypes: float64(2), int64(3)\n",
      "memory usage: 195.4 KB\n"
     ]
    }
   ],
   "source": [
    "import pandas as pd\n",
    "import numpy as np\n",
    "import scipy\n",
    "from sklearn.metrics import r2_score\n",
    "from sklearn.linear_model import LinearRegression\n",
    "from sklearn.model_selection import train_test_split\n",
    "\n",
    "df = pd.read_csv('/datasets/insurance.csv')\n",
    "\n",
    "df.info()"
   ]
  },
  {
   "cell_type": "code",
   "execution_count": 2,
   "metadata": {},
   "outputs": [
    {
     "data": {
      "text/html": [
       "<div>\n",
       "<style scoped>\n",
       "    .dataframe tbody tr th:only-of-type {\n",
       "        vertical-align: middle;\n",
       "    }\n",
       "\n",
       "    .dataframe tbody tr th {\n",
       "        vertical-align: top;\n",
       "    }\n",
       "\n",
       "    .dataframe thead th {\n",
       "        text-align: right;\n",
       "    }\n",
       "</style>\n",
       "<table border=\"1\" class=\"dataframe\">\n",
       "  <thead>\n",
       "    <tr style=\"text-align: right;\">\n",
       "      <th></th>\n",
       "      <th>Пол</th>\n",
       "      <th>Возраст</th>\n",
       "      <th>Зарплата</th>\n",
       "      <th>Члены семьи</th>\n",
       "      <th>Страховые выплаты</th>\n",
       "    </tr>\n",
       "  </thead>\n",
       "  <tbody>\n",
       "    <tr>\n",
       "      <td>4438</td>\n",
       "      <td>1</td>\n",
       "      <td>36.0</td>\n",
       "      <td>48700.0</td>\n",
       "      <td>1</td>\n",
       "      <td>0</td>\n",
       "    </tr>\n",
       "    <tr>\n",
       "      <td>3875</td>\n",
       "      <td>1</td>\n",
       "      <td>32.0</td>\n",
       "      <td>65900.0</td>\n",
       "      <td>0</td>\n",
       "      <td>0</td>\n",
       "    </tr>\n",
       "    <tr>\n",
       "      <td>3436</td>\n",
       "      <td>0</td>\n",
       "      <td>47.0</td>\n",
       "      <td>29600.0</td>\n",
       "      <td>1</td>\n",
       "      <td>1</td>\n",
       "    </tr>\n",
       "    <tr>\n",
       "      <td>3984</td>\n",
       "      <td>1</td>\n",
       "      <td>37.0</td>\n",
       "      <td>29800.0</td>\n",
       "      <td>0</td>\n",
       "      <td>0</td>\n",
       "    </tr>\n",
       "    <tr>\n",
       "      <td>4392</td>\n",
       "      <td>0</td>\n",
       "      <td>36.0</td>\n",
       "      <td>35400.0</td>\n",
       "      <td>1</td>\n",
       "      <td>0</td>\n",
       "    </tr>\n",
       "    <tr>\n",
       "      <td>4857</td>\n",
       "      <td>1</td>\n",
       "      <td>36.0</td>\n",
       "      <td>43000.0</td>\n",
       "      <td>4</td>\n",
       "      <td>0</td>\n",
       "    </tr>\n",
       "    <tr>\n",
       "      <td>3024</td>\n",
       "      <td>0</td>\n",
       "      <td>31.0</td>\n",
       "      <td>36600.0</td>\n",
       "      <td>2</td>\n",
       "      <td>0</td>\n",
       "    </tr>\n",
       "    <tr>\n",
       "      <td>4667</td>\n",
       "      <td>0</td>\n",
       "      <td>27.0</td>\n",
       "      <td>42500.0</td>\n",
       "      <td>2</td>\n",
       "      <td>0</td>\n",
       "    </tr>\n",
       "    <tr>\n",
       "      <td>1849</td>\n",
       "      <td>1</td>\n",
       "      <td>18.0</td>\n",
       "      <td>39200.0</td>\n",
       "      <td>2</td>\n",
       "      <td>0</td>\n",
       "    </tr>\n",
       "    <tr>\n",
       "      <td>4000</td>\n",
       "      <td>1</td>\n",
       "      <td>19.0</td>\n",
       "      <td>43000.0</td>\n",
       "      <td>0</td>\n",
       "      <td>0</td>\n",
       "    </tr>\n",
       "    <tr>\n",
       "      <td>3556</td>\n",
       "      <td>0</td>\n",
       "      <td>46.0</td>\n",
       "      <td>34700.0</td>\n",
       "      <td>1</td>\n",
       "      <td>1</td>\n",
       "    </tr>\n",
       "    <tr>\n",
       "      <td>4668</td>\n",
       "      <td>0</td>\n",
       "      <td>18.0</td>\n",
       "      <td>25800.0</td>\n",
       "      <td>0</td>\n",
       "      <td>0</td>\n",
       "    </tr>\n",
       "    <tr>\n",
       "      <td>1969</td>\n",
       "      <td>0</td>\n",
       "      <td>22.0</td>\n",
       "      <td>34200.0</td>\n",
       "      <td>4</td>\n",
       "      <td>0</td>\n",
       "    </tr>\n",
       "    <tr>\n",
       "      <td>3019</td>\n",
       "      <td>0</td>\n",
       "      <td>33.0</td>\n",
       "      <td>33700.0</td>\n",
       "      <td>2</td>\n",
       "      <td>0</td>\n",
       "    </tr>\n",
       "    <tr>\n",
       "      <td>2814</td>\n",
       "      <td>0</td>\n",
       "      <td>36.0</td>\n",
       "      <td>40100.0</td>\n",
       "      <td>1</td>\n",
       "      <td>0</td>\n",
       "    </tr>\n",
       "    <tr>\n",
       "      <td>2892</td>\n",
       "      <td>1</td>\n",
       "      <td>31.0</td>\n",
       "      <td>54500.0</td>\n",
       "      <td>0</td>\n",
       "      <td>0</td>\n",
       "    </tr>\n",
       "    <tr>\n",
       "      <td>2769</td>\n",
       "      <td>1</td>\n",
       "      <td>23.0</td>\n",
       "      <td>32800.0</td>\n",
       "      <td>4</td>\n",
       "      <td>0</td>\n",
       "    </tr>\n",
       "    <tr>\n",
       "      <td>2617</td>\n",
       "      <td>0</td>\n",
       "      <td>32.0</td>\n",
       "      <td>50400.0</td>\n",
       "      <td>1</td>\n",
       "      <td>0</td>\n",
       "    </tr>\n",
       "    <tr>\n",
       "      <td>4568</td>\n",
       "      <td>0</td>\n",
       "      <td>44.0</td>\n",
       "      <td>43700.0</td>\n",
       "      <td>2</td>\n",
       "      <td>1</td>\n",
       "    </tr>\n",
       "    <tr>\n",
       "      <td>3368</td>\n",
       "      <td>1</td>\n",
       "      <td>49.0</td>\n",
       "      <td>42600.0</td>\n",
       "      <td>0</td>\n",
       "      <td>2</td>\n",
       "    </tr>\n",
       "  </tbody>\n",
       "</table>\n",
       "</div>"
      ],
      "text/plain": [
       "      Пол  Возраст  Зарплата  Члены семьи  Страховые выплаты\n",
       "4438    1     36.0   48700.0            1                  0\n",
       "3875    1     32.0   65900.0            0                  0\n",
       "3436    0     47.0   29600.0            1                  1\n",
       "3984    1     37.0   29800.0            0                  0\n",
       "4392    0     36.0   35400.0            1                  0\n",
       "4857    1     36.0   43000.0            4                  0\n",
       "3024    0     31.0   36600.0            2                  0\n",
       "4667    0     27.0   42500.0            2                  0\n",
       "1849    1     18.0   39200.0            2                  0\n",
       "4000    1     19.0   43000.0            0                  0\n",
       "3556    0     46.0   34700.0            1                  1\n",
       "4668    0     18.0   25800.0            0                  0\n",
       "1969    0     22.0   34200.0            4                  0\n",
       "3019    0     33.0   33700.0            2                  0\n",
       "2814    0     36.0   40100.0            1                  0\n",
       "2892    1     31.0   54500.0            0                  0\n",
       "2769    1     23.0   32800.0            4                  0\n",
       "2617    0     32.0   50400.0            1                  0\n",
       "4568    0     44.0   43700.0            2                  1\n",
       "3368    1     49.0   42600.0            0                  2"
      ]
     },
     "execution_count": 2,
     "metadata": {},
     "output_type": "execute_result"
    }
   ],
   "source": [
    "df.sample(20)"
   ]
  },
  {
   "cell_type": "code",
   "execution_count": 3,
   "metadata": {},
   "outputs": [],
   "source": [
    "df.columns = ['sex','age','income','family_size', 'payment']"
   ]
  },
  {
   "cell_type": "markdown",
   "metadata": {},
   "source": [
    "## 2. Умножение матриц"
   ]
  },
  {
   "cell_type": "markdown",
   "metadata": {},
   "source": [
    "В этом задании вы можете записывать формулы в *Jupyter Notebook.*\n",
    "\n",
    "Чтобы записать формулу внутри текста, окружите её символами доллара \\\\$; если снаружи —  двойными символами \\\\$\\\\$. Эти формулы записываются на языке вёрстки *LaTeX.* \n",
    "\n",
    "Для примера мы записали формулы линейной регрессии. Можете их скопировать и отредактировать, чтобы решить задачу.\n",
    "\n",
    "Работать в *LaTeX* необязательно."
   ]
  },
  {
   "cell_type": "markdown",
   "metadata": {},
   "source": [
    "Обозначения:\n",
    "\n",
    "- $X$ — матрица признаков (нулевой столбец состоит из единиц)\n",
    "\n",
    "- $y$ — вектор целевого признака\n",
    "\n",
    "- $P$ — матрица, на которую умножаются признаки\n",
    "\n",
    "- $w$ — вектор весов линейной регрессии (нулевой элемент равен сдвигу)"
   ]
  },
  {
   "cell_type": "markdown",
   "metadata": {},
   "source": [
    "Предсказания:\n",
    "\n",
    "$$\n",
    "a = Xw\n",
    "$$\n",
    "\n",
    "Задача обучения:\n",
    "\n",
    "$$\n",
    "w = \\arg\\min_w MSE(Xw, y)\n",
    "$$\n",
    "\n",
    "Формула обучения:\n",
    "\n",
    "$$\n",
    "w = (X^T X)^{-1} X^T y\n",
    "$$"
   ]
  },
  {
   "cell_type": "markdown",
   "metadata": {},
   "source": [
    "**Ответ:** не изменится,\n",
    "\n",
    "\n",
    "**Обоснование:**\n",
    "\n",
    "**Рассмотрим пошаговые преобразования, опираясь на свойства матричных операций:**\n",
    "\n",
    "- Домножим матрицу X на квадратную матрицу Z (Z - обратимая матрица), тогда заменяя X в исходном уравнении обучения получим:\n",
    "\n",
    "$$\n",
    "w = ((XZ)^T XZ)^{-1} (XZ)^T y\n",
    "$$\n",
    "\n",
    "- Отсюда уравнения предсказаний принимают такой вид:\n",
    "\n",
    "$$\n",
    "a = XZ (((XZ)^T XZ)^{-1} (XZ)^T y)\n",
    "$$\n",
    "\n",
    "- Свойство произведения транспонированных матриц: $(AB)^T = B^T A^T $, значит:\n",
    "\n",
    "$$\n",
    "a = XZ ((Z^T X^T XZ)^{-1} Z^T X^T y)\n",
    "$$\n",
    "\n",
    "- Свойство произведения обратных матриц $(AB)^{-1} = B^{-1}A^{-1}$, тогда:\n",
    "\n",
    "$$\n",
    "a = XZZ^{-1}(X^TX)^{-1}(Z^T)^{-1}Z^TX^Ty\n",
    "$$\n",
    "\n",
    "\n",
    "- По свойству произведения обратных матриц: $A^{-1}A = AA^{-1} = E $ (единичная матрица), значит:\n",
    "\n",
    "$$\n",
    "a = XE(X^TX)^{-1}EX^Ty\n",
    "$$\n",
    "\n",
    "- Произведение матрицы на единичную матрицу E: $AE = EA = A$, соответственно:\n",
    "\n",
    "$$\n",
    "a = X(X^T)^{-1}X^T y\n",
    "$$\n",
    "\n",
    "- Исходная формула - $w = (X^T X)^{-1} X^T y$, значит мы получили исходную формулу предсказаний:\n",
    "$$\n",
    "a = Xw\n",
    "$$"
   ]
  },
  {
   "cell_type": "markdown",
   "metadata": {},
   "source": [
    "## 3. Алгоритм преобразования"
   ]
  },
  {
   "cell_type": "markdown",
   "metadata": {},
   "source": [
    "**Алгоритм**\n",
    "\n",
    "\n",
    "1) Делим исходный датасет фичеры и таргеты\n",
    "\n",
    "2) Создаем обратную квадратную матрицу размеру 4x4 (поскольку ширина фрейма признаков - 4), которая будет являться ключом кодирования\n",
    "\n",
    "3) Умножаем на данный ключ матрицу с признаками, оставляя таргет прежним"
   ]
  },
  {
   "cell_type": "markdown",
   "metadata": {},
   "source": [
    "**Обоснование**\n",
    "\n",
    "Таким образом, мы сохраняем целостность эксперимента у нас будут варьировать w & w0, чтобы получить один и тот же таргет.\n",
    "\n",
    "А декодировать преобразованную матрицу мы сможем с помощью умножения на обратную ей.\n",
    "\n",
    "Таким образом, мы на практике реализуем обоснование данное выше"
   ]
  },
  {
   "cell_type": "markdown",
   "metadata": {},
   "source": [
    "## 4. Проверка алгоритма"
   ]
  },
  {
   "cell_type": "code",
   "execution_count": 4,
   "metadata": {},
   "outputs": [
    {
     "data": {
      "text/html": [
       "<div>\n",
       "<style scoped>\n",
       "    .dataframe tbody tr th:only-of-type {\n",
       "        vertical-align: middle;\n",
       "    }\n",
       "\n",
       "    .dataframe tbody tr th {\n",
       "        vertical-align: top;\n",
       "    }\n",
       "\n",
       "    .dataframe thead th {\n",
       "        text-align: right;\n",
       "    }\n",
       "</style>\n",
       "<table border=\"1\" class=\"dataframe\">\n",
       "  <thead>\n",
       "    <tr style=\"text-align: right;\">\n",
       "      <th></th>\n",
       "      <th>sex</th>\n",
       "      <th>age</th>\n",
       "      <th>income</th>\n",
       "      <th>family_size</th>\n",
       "    </tr>\n",
       "  </thead>\n",
       "  <tbody>\n",
       "    <tr>\n",
       "      <td>0</td>\n",
       "      <td>1</td>\n",
       "      <td>41.0</td>\n",
       "      <td>49600.0</td>\n",
       "      <td>1</td>\n",
       "    </tr>\n",
       "    <tr>\n",
       "      <td>1</td>\n",
       "      <td>0</td>\n",
       "      <td>46.0</td>\n",
       "      <td>38000.0</td>\n",
       "      <td>1</td>\n",
       "    </tr>\n",
       "    <tr>\n",
       "      <td>2</td>\n",
       "      <td>0</td>\n",
       "      <td>29.0</td>\n",
       "      <td>21000.0</td>\n",
       "      <td>0</td>\n",
       "    </tr>\n",
       "    <tr>\n",
       "      <td>3</td>\n",
       "      <td>0</td>\n",
       "      <td>21.0</td>\n",
       "      <td>41700.0</td>\n",
       "      <td>2</td>\n",
       "    </tr>\n",
       "    <tr>\n",
       "      <td>4</td>\n",
       "      <td>1</td>\n",
       "      <td>28.0</td>\n",
       "      <td>26100.0</td>\n",
       "      <td>0</td>\n",
       "    </tr>\n",
       "  </tbody>\n",
       "</table>\n",
       "</div>"
      ],
      "text/plain": [
       "   sex   age   income  family_size\n",
       "0    1  41.0  49600.0            1\n",
       "1    0  46.0  38000.0            1\n",
       "2    0  29.0  21000.0            0\n",
       "3    0  21.0  41700.0            2\n",
       "4    1  28.0  26100.0            0"
      ]
     },
     "execution_count": 4,
     "metadata": {},
     "output_type": "execute_result"
    }
   ],
   "source": [
    "features, target = df.iloc[:,0:4], df.iloc[:,4]\n",
    "features.head()"
   ]
  },
  {
   "cell_type": "markdown",
   "metadata": {},
   "source": [
    "## Тестирование с помощью преобразований\n",
    "\n",
    "**Преобразуем матрицу признаков с помощью умножения на случайную квадратную матрицу 4х4:**"
   ]
  },
  {
   "cell_type": "code",
   "execution_count": 4,
   "metadata": {},
   "outputs": [
    {
     "name": "stdout",
     "output_type": "stream",
     "text": [
      "158584312639355.6\n"
     ]
    }
   ],
   "source": [
    "A = np.random.randint(1,1e4,(4,4))\n",
    "\n",
    "\n",
    "\n",
    "print(np.linalg.det(A))"
   ]
  },
  {
   "cell_type": "markdown",
   "metadata": {},
   "source": [
    "**Определитель матрицы не равен нулю - матрица обратима**"
   ]
  },
  {
   "cell_type": "code",
   "execution_count": 7,
   "metadata": {},
   "outputs": [
    {
     "name": "stdout",
     "output_type": "stream",
     "text": [
      "[[ 1.00000000e+00  1.22016112e-15 -5.07569247e-16 -1.88759598e-16]\n",
      " [ 7.95479134e-16  1.00000000e+00  3.68439003e-16  1.25279561e-16]\n",
      " [ 1.83772268e-15 -3.39030019e-15  1.00000000e+00  1.09829680e-16]\n",
      " [ 2.35217661e-16 -2.03558958e-16 -3.20517267e-17  1.00000000e+00]]\n"
     ]
    }
   ],
   "source": [
    "A_1 = np.linalg.inv(A)\n",
    "\n",
    "print(A.dot(A_1))"
   ]
  },
  {
   "cell_type": "markdown",
   "metadata": {},
   "source": [
    "**Создаем новое пространство признаков:**"
   ]
  },
  {
   "cell_type": "code",
   "execution_count": 27,
   "metadata": {},
   "outputs": [],
   "source": [
    "features_t = features.values @ A"
   ]
  },
  {
   "cell_type": "code",
   "execution_count": 28,
   "metadata": {},
   "outputs": [],
   "source": [
    "new_features = pd.DataFrame(features_t, columns = features.columns)"
   ]
  },
  {
   "cell_type": "markdown",
   "metadata": {},
   "source": [
    "**Делим на train и test выборки**"
   ]
  },
  {
   "cell_type": "code",
   "execution_count": 29,
   "metadata": {},
   "outputs": [],
   "source": [
    "X_train, X_test, y_train, y_test = train_test_split(new_features, target, test_size = .25, random_state = 42)"
   ]
  },
  {
   "cell_type": "code",
   "execution_count": 30,
   "metadata": {},
   "outputs": [
    {
     "data": {
      "text/plain": [
       "LinearRegression(copy_X=True, fit_intercept=True, n_jobs=None, normalize=False)"
      ]
     },
     "execution_count": 30,
     "metadata": {},
     "output_type": "execute_result"
    }
   ],
   "source": [
    "model = LinearRegression()\n",
    "\n",
    "model.fit(X_train, y_train)"
   ]
  },
  {
   "cell_type": "markdown",
   "metadata": {},
   "source": [
    "**Получаем предсказания и сохраняем значение метрики R2**"
   ]
  },
  {
   "cell_type": "code",
   "execution_count": 33,
   "metadata": {},
   "outputs": [],
   "source": [
    "predictions_1 = model.predict(X_test)\n",
    "\n",
    "r2_coded = r2_score(y_test, predictions_1)"
   ]
  },
  {
   "cell_type": "code",
   "execution_count": null,
   "metadata": {},
   "outputs": [],
   "source": [
    "# ОБЫЧНО ТАРГЕТ НА ПЕРВОМ МЕСТЕ СТАВЯТ, ПОТОМ ПРЕДИКТ\n",
    "r2_score(y_test, predictions_1)"
   ]
  },
  {
   "cell_type": "markdown",
   "metadata": {},
   "source": [
    "## Тестирование без преобразований\n",
    "\n",
    "Проиндексируем исходные фичеры и таргеты для чистоты эксперимента"
   ]
  },
  {
   "cell_type": "code",
   "execution_count": 34,
   "metadata": {},
   "outputs": [],
   "source": [
    "X_train_clear = features.iloc[X_train.index]\n",
    "\n",
    "X_test_clear = features.iloc[X_test.index]\n",
    "\n",
    "y_train_clear = target.iloc[y_train.index]\n",
    "y_test_clear = target.iloc[y_test.index]"
   ]
  },
  {
   "cell_type": "code",
   "execution_count": 35,
   "metadata": {},
   "outputs": [
    {
     "data": {
      "text/plain": [
       "LinearRegression(copy_X=True, fit_intercept=True, n_jobs=None, normalize=False)"
      ]
     },
     "execution_count": 35,
     "metadata": {},
     "output_type": "execute_result"
    }
   ],
   "source": [
    "model_test = LinearRegression()\n",
    "\n",
    "model_test.fit(X_train_clear, y_train_clear)"
   ]
  },
  {
   "cell_type": "markdown",
   "metadata": {},
   "source": [
    "**Получим предсказания модели для незакодированных фичей и посчитаем R2-score**"
   ]
  },
  {
   "cell_type": "code",
   "execution_count": 36,
   "metadata": {},
   "outputs": [],
   "source": [
    "predictions_2 = model_test.predict(X_test_clear)\n",
    "\n",
    "r2_not = r2_score(y_test_clear, predictions_2)"
   ]
  },
  {
   "cell_type": "markdown",
   "metadata": {},
   "source": [
    "### Сравним значения метрик с одной и той же базой для обучения"
   ]
  },
  {
   "cell_type": "code",
   "execution_count": 37,
   "metadata": {},
   "outputs": [
    {
     "name": "stdout",
     "output_type": "stream",
     "text": [
      "Метрика R2 для модели с преобразованными данными: 0.425\n",
      "Метрика R2 для модели с преобразованными данными: 0.425\n"
     ]
    }
   ],
   "source": [
    "print(f'Метрика R2 для модели с преобразованными данными: {r2_coded:.3f}\\n\\\n",
    "Метрика R2 для модели с преобразованными данными: {r2_not:.3f}')"
   ]
  },
  {
   "cell_type": "markdown",
   "metadata": {},
   "source": [
    "## Выводы\n",
    "\n",
    "**С помощью свойств матричных преобразований, мы преобразовали наши исходные данные, таким образом, что мы метрика качества обученной модели не изменилась существенным образом.**\n",
    "\n",
    "***Данный способ хоть и является простым, однако он уже позволяет существенным образом скрыть реальную информацию так, чтобы финальный результат не пострадал качеством.***"
   ]
  }
 ],
 "metadata": {
  "kernelspec": {
   "display_name": "Python 3 (ipykernel)",
   "language": "python",
   "name": "python3"
  },
  "language_info": {
   "codemirror_mode": {
    "name": "ipython",
    "version": 3
   },
   "file_extension": ".py",
   "mimetype": "text/x-python",
   "name": "python",
   "nbconvert_exporter": "python",
   "pygments_lexer": "ipython3",
   "version": "3.9.6"
  }
 },
 "nbformat": 4,
 "nbformat_minor": 2
}
