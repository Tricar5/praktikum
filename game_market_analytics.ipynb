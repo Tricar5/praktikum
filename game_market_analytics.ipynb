{
 "cells": [
  {
   "cell_type": "markdown",
   "metadata": {},
   "source": [
    "# Сборный проект. Анализ рынка видеоигр\n",
    "\n",
    "В данном проекте нам предстоит проанализировать данные о рынке видеоигр за несколько десятилетий применительн к продажам в разных регионах мира, игровой платформе, оценке пользователей, критиков и возрастному рейтингу.\n",
    "\n",
    "Конечная цель:  ***дать обоснованный прогноз на какие игры сделать ставку в последующем году, чтобы правильно распределить рекламный бюджет.***\n",
    "\n",
    "Для достижении данной цели, нам предстоит решить следующие задачи:\n",
    "\n",
    "1) Предобработать данные - обработать ошибки, заполнить пропуски, форматы\n",
    "\n",
    "2) Отобрать валидные данные по актуальному период, провести дополнительные расчет\n",
    "\n",
    "3) Провести исследовательский анализ данных - определить долю жанров в рынке, выделить \n",
    "\n",
    "4) Определить портрет пользователя для каждого региона\n",
    "\n",
    "5) Провести статистический анализ различий двух разных платформ и жанров.\n",
    "\n",
    "\n",
    "**Импортируем необходимые инструменты для работы с данными и исходный набор данных:**"
   ]
  },
  {
   "cell_type": "code",
   "execution_count": 1,
   "metadata": {},
   "outputs": [],
   "source": [
    "import pandas as pd\n",
    "import numpy as np\n",
    "import matplotlib.pyplot as plt\n",
    "import seaborn as sns\n",
    "from scipy import stats as st\n",
    "\n",
    "\n",
    "game_data = pd.read_csv('/datasets/games.csv', encoding='utf-8')"
   ]
  },
  {
   "cell_type": "markdown",
   "metadata": {},
   "source": [
    "## Описание данных\n",
    "\n",
    "Столбцы:\n",
    "\n",
    "- Name — название игры\n",
    "\n",
    "- Platform — платформа\n",
    "\n",
    "- Year_of_Release — год выпуска\n",
    "\n",
    "- Genre — жанр игры\n",
    "\n",
    "- NA_sales — продажи в Северной Америке (миллионы проданных копий)\n",
    "\n",
    "- EU_sales — продажи в Европе (миллионы проданных копий)\n",
    "\n",
    "- JP_sales — продажи в Японии (миллионы проданных копий)\n",
    "\n",
    "- Other_sales — продажи в других странах (миллионы проданных копий)\n",
    "\n",
    "- Critic_Score — оценка критиков (максимум 100)\n",
    "\n",
    "- User_Score — оценка пользователей (максимум 10)\n",
    "\n",
    "- Rating — рейтинг от организации ESRB"
   ]
  },
  {
   "cell_type": "code",
   "execution_count": 2,
   "metadata": {},
   "outputs": [
    {
     "name": "stdout",
     "output_type": "stream",
     "text": [
      "<class 'pandas.core.frame.DataFrame'>\n",
      "RangeIndex: 16715 entries, 0 to 16714\n",
      "Data columns (total 11 columns):\n",
      "Name               16713 non-null object\n",
      "Platform           16715 non-null object\n",
      "Year_of_Release    16446 non-null float64\n",
      "Genre              16713 non-null object\n",
      "NA_sales           16715 non-null float64\n",
      "EU_sales           16715 non-null float64\n",
      "JP_sales           16715 non-null float64\n",
      "Other_sales        16715 non-null float64\n",
      "Critic_Score       8137 non-null float64\n",
      "User_Score         10014 non-null object\n",
      "Rating             9949 non-null object\n",
      "dtypes: float64(6), object(5)\n",
      "memory usage: 1.4+ MB\n"
     ]
    }
   ],
   "source": [
    "game_data.info()"
   ]
  },
  {
   "cell_type": "markdown",
   "metadata": {},
   "source": [
    "В исходном датасете поля заполнены неравномерно - имеются пропуски, однако по большинству полей имеются сведения.\n",
    "\n",
    "Есть поля, в которых данные имеют несоответствующий по смыслу тип хранения.\n",
    "\n",
    "Выведем первые 10 строк на экран"
   ]
  },
  {
   "cell_type": "code",
   "execution_count": 3,
   "metadata": {},
   "outputs": [
    {
     "data": {
      "text/html": [
       "<div>\n",
       "<style scoped>\n",
       "    .dataframe tbody tr th:only-of-type {\n",
       "        vertical-align: middle;\n",
       "    }\n",
       "\n",
       "    .dataframe tbody tr th {\n",
       "        vertical-align: top;\n",
       "    }\n",
       "\n",
       "    .dataframe thead th {\n",
       "        text-align: right;\n",
       "    }\n",
       "</style>\n",
       "<table border=\"1\" class=\"dataframe\">\n",
       "  <thead>\n",
       "    <tr style=\"text-align: right;\">\n",
       "      <th></th>\n",
       "      <th>Name</th>\n",
       "      <th>Platform</th>\n",
       "      <th>Year_of_Release</th>\n",
       "      <th>Genre</th>\n",
       "      <th>NA_sales</th>\n",
       "      <th>EU_sales</th>\n",
       "      <th>JP_sales</th>\n",
       "      <th>Other_sales</th>\n",
       "      <th>Critic_Score</th>\n",
       "      <th>User_Score</th>\n",
       "      <th>Rating</th>\n",
       "    </tr>\n",
       "  </thead>\n",
       "  <tbody>\n",
       "    <tr>\n",
       "      <td>0</td>\n",
       "      <td>Wii Sports</td>\n",
       "      <td>Wii</td>\n",
       "      <td>2006.0</td>\n",
       "      <td>Sports</td>\n",
       "      <td>41.36</td>\n",
       "      <td>28.96</td>\n",
       "      <td>3.77</td>\n",
       "      <td>8.45</td>\n",
       "      <td>76.0</td>\n",
       "      <td>8</td>\n",
       "      <td>E</td>\n",
       "    </tr>\n",
       "    <tr>\n",
       "      <td>1</td>\n",
       "      <td>Super Mario Bros.</td>\n",
       "      <td>NES</td>\n",
       "      <td>1985.0</td>\n",
       "      <td>Platform</td>\n",
       "      <td>29.08</td>\n",
       "      <td>3.58</td>\n",
       "      <td>6.81</td>\n",
       "      <td>0.77</td>\n",
       "      <td>NaN</td>\n",
       "      <td>NaN</td>\n",
       "      <td>NaN</td>\n",
       "    </tr>\n",
       "    <tr>\n",
       "      <td>2</td>\n",
       "      <td>Mario Kart Wii</td>\n",
       "      <td>Wii</td>\n",
       "      <td>2008.0</td>\n",
       "      <td>Racing</td>\n",
       "      <td>15.68</td>\n",
       "      <td>12.76</td>\n",
       "      <td>3.79</td>\n",
       "      <td>3.29</td>\n",
       "      <td>82.0</td>\n",
       "      <td>8.3</td>\n",
       "      <td>E</td>\n",
       "    </tr>\n",
       "    <tr>\n",
       "      <td>3</td>\n",
       "      <td>Wii Sports Resort</td>\n",
       "      <td>Wii</td>\n",
       "      <td>2009.0</td>\n",
       "      <td>Sports</td>\n",
       "      <td>15.61</td>\n",
       "      <td>10.93</td>\n",
       "      <td>3.28</td>\n",
       "      <td>2.95</td>\n",
       "      <td>80.0</td>\n",
       "      <td>8</td>\n",
       "      <td>E</td>\n",
       "    </tr>\n",
       "    <tr>\n",
       "      <td>4</td>\n",
       "      <td>Pokemon Red/Pokemon Blue</td>\n",
       "      <td>GB</td>\n",
       "      <td>1996.0</td>\n",
       "      <td>Role-Playing</td>\n",
       "      <td>11.27</td>\n",
       "      <td>8.89</td>\n",
       "      <td>10.22</td>\n",
       "      <td>1.00</td>\n",
       "      <td>NaN</td>\n",
       "      <td>NaN</td>\n",
       "      <td>NaN</td>\n",
       "    </tr>\n",
       "    <tr>\n",
       "      <td>5</td>\n",
       "      <td>Tetris</td>\n",
       "      <td>GB</td>\n",
       "      <td>1989.0</td>\n",
       "      <td>Puzzle</td>\n",
       "      <td>23.20</td>\n",
       "      <td>2.26</td>\n",
       "      <td>4.22</td>\n",
       "      <td>0.58</td>\n",
       "      <td>NaN</td>\n",
       "      <td>NaN</td>\n",
       "      <td>NaN</td>\n",
       "    </tr>\n",
       "    <tr>\n",
       "      <td>6</td>\n",
       "      <td>New Super Mario Bros.</td>\n",
       "      <td>DS</td>\n",
       "      <td>2006.0</td>\n",
       "      <td>Platform</td>\n",
       "      <td>11.28</td>\n",
       "      <td>9.14</td>\n",
       "      <td>6.50</td>\n",
       "      <td>2.88</td>\n",
       "      <td>89.0</td>\n",
       "      <td>8.5</td>\n",
       "      <td>E</td>\n",
       "    </tr>\n",
       "    <tr>\n",
       "      <td>7</td>\n",
       "      <td>Wii Play</td>\n",
       "      <td>Wii</td>\n",
       "      <td>2006.0</td>\n",
       "      <td>Misc</td>\n",
       "      <td>13.96</td>\n",
       "      <td>9.18</td>\n",
       "      <td>2.93</td>\n",
       "      <td>2.84</td>\n",
       "      <td>58.0</td>\n",
       "      <td>6.6</td>\n",
       "      <td>E</td>\n",
       "    </tr>\n",
       "    <tr>\n",
       "      <td>8</td>\n",
       "      <td>New Super Mario Bros. Wii</td>\n",
       "      <td>Wii</td>\n",
       "      <td>2009.0</td>\n",
       "      <td>Platform</td>\n",
       "      <td>14.44</td>\n",
       "      <td>6.94</td>\n",
       "      <td>4.70</td>\n",
       "      <td>2.24</td>\n",
       "      <td>87.0</td>\n",
       "      <td>8.4</td>\n",
       "      <td>E</td>\n",
       "    </tr>\n",
       "    <tr>\n",
       "      <td>9</td>\n",
       "      <td>Duck Hunt</td>\n",
       "      <td>NES</td>\n",
       "      <td>1984.0</td>\n",
       "      <td>Shooter</td>\n",
       "      <td>26.93</td>\n",
       "      <td>0.63</td>\n",
       "      <td>0.28</td>\n",
       "      <td>0.47</td>\n",
       "      <td>NaN</td>\n",
       "      <td>NaN</td>\n",
       "      <td>NaN</td>\n",
       "    </tr>\n",
       "  </tbody>\n",
       "</table>\n",
       "</div>"
      ],
      "text/plain": [
       "                        Name Platform  Year_of_Release         Genre  \\\n",
       "0                 Wii Sports      Wii           2006.0        Sports   \n",
       "1          Super Mario Bros.      NES           1985.0      Platform   \n",
       "2             Mario Kart Wii      Wii           2008.0        Racing   \n",
       "3          Wii Sports Resort      Wii           2009.0        Sports   \n",
       "4   Pokemon Red/Pokemon Blue       GB           1996.0  Role-Playing   \n",
       "5                     Tetris       GB           1989.0        Puzzle   \n",
       "6      New Super Mario Bros.       DS           2006.0      Platform   \n",
       "7                   Wii Play      Wii           2006.0          Misc   \n",
       "8  New Super Mario Bros. Wii      Wii           2009.0      Platform   \n",
       "9                  Duck Hunt      NES           1984.0       Shooter   \n",
       "\n",
       "   NA_sales  EU_sales  JP_sales  Other_sales  Critic_Score User_Score Rating  \n",
       "0     41.36     28.96      3.77         8.45          76.0          8      E  \n",
       "1     29.08      3.58      6.81         0.77           NaN        NaN    NaN  \n",
       "2     15.68     12.76      3.79         3.29          82.0        8.3      E  \n",
       "3     15.61     10.93      3.28         2.95          80.0          8      E  \n",
       "4     11.27      8.89     10.22         1.00           NaN        NaN    NaN  \n",
       "5     23.20      2.26      4.22         0.58           NaN        NaN    NaN  \n",
       "6     11.28      9.14      6.50         2.88          89.0        8.5      E  \n",
       "7     13.96      9.18      2.93         2.84          58.0        6.6      E  \n",
       "8     14.44      6.94      4.70         2.24          87.0        8.4      E  \n",
       "9     26.93      0.63      0.28         0.47           NaN        NaN    NaN  "
      ]
     },
     "execution_count": 3,
     "metadata": {},
     "output_type": "execute_result"
    }
   ],
   "source": [
    "game_data.head(10)"
   ]
  },
  {
   "cell_type": "code",
   "execution_count": 4,
   "metadata": {},
   "outputs": [
    {
     "data": {
      "text/plain": [
       "0"
      ]
     },
     "execution_count": 4,
     "metadata": {},
     "output_type": "execute_result"
    }
   ],
   "source": [
    "#Проверка на дубликаты\n",
    "\n",
    "game_data.duplicated().sum()"
   ]
  },
  {
   "cell_type": "markdown",
   "metadata": {},
   "source": [
    "Промежуточные итоги по набору данных\n",
    "\n",
    "- Всего имеется 16715 наблюдений, максимально количество пропущенных значений по столбцу `Сritic Score`\n",
    "\n",
    "- Дубликаты отсутствуют\n",
    "\n",
    "- Все столбцы должны быть переведены в нижний регистр\n",
    "\n",
    "- Данные в столбце `user` должны быть принудительно переведены в числовое значение\n",
    "\n"
   ]
  },
  {
   "cell_type": "markdown",
   "metadata": {},
   "source": [
    "## Предобработка\n",
    "\n",
    "Приведем заголовки к нижнему регистру для удобства:"
   ]
  },
  {
   "cell_type": "code",
   "execution_count": 5,
   "metadata": {},
   "outputs": [],
   "source": [
    "game_data.columns = map(str.lower, game_data.columns)"
   ]
  },
  {
   "cell_type": "code",
   "execution_count": 6,
   "metadata": {},
   "outputs": [
    {
     "data": {
      "text/plain": [
       "Index(['name', 'platform', 'year_of_release', 'genre', 'na_sales', 'eu_sales',\n",
       "       'jp_sales', 'other_sales', 'critic_score', 'user_score', 'rating'],\n",
       "      dtype='object')"
      ]
     },
     "execution_count": 6,
     "metadata": {},
     "output_type": "execute_result"
    }
   ],
   "source": [
    "game_data.columns"
   ]
  },
  {
   "cell_type": "markdown",
   "metadata": {},
   "source": [
    "***Далее, приведем данные к нужным типам, чтобы в получить их описание:***\n",
    "\n",
    "Предварительно нужно оценить количество tbd в столбце с рейтингами:"
   ]
  },
  {
   "cell_type": "code",
   "execution_count": 7,
   "metadata": {
    "scrolled": true
   },
   "outputs": [
    {
     "name": "stdout",
     "output_type": "stream",
     "text": [
      "В столбце рейтинга критиков неопределено: 0 игр\n",
      "В столбце рейтинга игроков неопределено: 2424 игр\n",
      "В столбце рейтинга ESRB неопределено: 0 игр\n"
     ]
    },
    {
     "name": "stderr",
     "output_type": "stream",
     "text": [
      "/opt/conda/lib/python3.7/site-packages/pandas/core/ops/__init__.py:1115: FutureWarning: elementwise comparison failed; returning scalar instead, but in the future will perform elementwise comparison\n",
      "  result = method(y)\n"
     ]
    }
   ],
   "source": [
    "tbd_cr = len(game_data[game_data['critic_score'] == 'tbd'])\n",
    "tbd_u = len(game_data[game_data['user_score'] == 'tbd'])\n",
    "tbd_esrb = len(game_data[game_data['rating'] == 'tbd'])\n",
    "\n",
    "print(f'В столбце рейтинга критиков неопределено: {tbd_cr} игр\\n\\\n",
    "В столбце рейтинга игроков неопределено: {tbd_u} игр\\n\\\n",
    "В столбце рейтинга ESRB неопределено: {tbd_esrb} игр')"
   ]
  },
  {
   "cell_type": "markdown",
   "metadata": {},
   "source": [
    "Итак, только в рейтинге игроков у нас есть игры, которые ещё предстоит оценить. Мы предлагаем заменить его на NaN, используя принудительное приведение к типам"
   ]
  },
  {
   "cell_type": "code",
   "execution_count": 8,
   "metadata": {},
   "outputs": [],
   "source": [
    "# год - целое число, для наших задач перевод в дату - необязателен, однако получить NaN если там строки - имеет смысл\n",
    "game_data['year_of_release'] = pd.to_numeric(game_data['year_of_release'],\\\n",
    "                                             downcast='unsigned', errors='coerce')\n",
    "\n",
    "# На случай, если не только из пропущенных значений тип object приведем тип к числовому, нечисловые заменятся на NaN\n",
    "game_data['user_score'] = pd.to_numeric(game_data['user_score'],\\\n",
    "                                             errors='coerce')\n"
   ]
  },
  {
   "cell_type": "code",
   "execution_count": 9,
   "metadata": {},
   "outputs": [
    {
     "data": {
      "text/plain": [
       "0"
      ]
     },
     "execution_count": 9,
     "metadata": {},
     "output_type": "execute_result"
    }
   ],
   "source": [
    "tbd_u = len(game_data[game_data['user_score'] == 'tbd'])\n",
    "tbd_u"
   ]
  },
  {
   "cell_type": "markdown",
   "metadata": {},
   "source": [
    "Все неопределенные оценки игроков заменены на NaN"
   ]
  },
  {
   "cell_type": "code",
   "execution_count": 10,
   "metadata": {},
   "outputs": [
    {
     "name": "stdout",
     "output_type": "stream",
     "text": [
      "<class 'pandas.core.frame.DataFrame'>\n",
      "RangeIndex: 16715 entries, 0 to 16714\n",
      "Data columns (total 11 columns):\n",
      "name               16713 non-null object\n",
      "platform           16715 non-null object\n",
      "year_of_release    16446 non-null float64\n",
      "genre              16713 non-null object\n",
      "na_sales           16715 non-null float64\n",
      "eu_sales           16715 non-null float64\n",
      "jp_sales           16715 non-null float64\n",
      "other_sales        16715 non-null float64\n",
      "critic_score       8137 non-null float64\n",
      "user_score         7590 non-null float64\n",
      "rating             9949 non-null object\n",
      "dtypes: float64(7), object(4)\n",
      "memory usage: 1.4+ MB\n"
     ]
    }
   ],
   "source": [
    "game_data.info()"
   ]
  },
  {
   "cell_type": "code",
   "execution_count": 11,
   "metadata": {},
   "outputs": [
    {
     "data": {
      "text/html": [
       "<div>\n",
       "<style scoped>\n",
       "    .dataframe tbody tr th:only-of-type {\n",
       "        vertical-align: middle;\n",
       "    }\n",
       "\n",
       "    .dataframe tbody tr th {\n",
       "        vertical-align: top;\n",
       "    }\n",
       "\n",
       "    .dataframe thead th {\n",
       "        text-align: right;\n",
       "    }\n",
       "</style>\n",
       "<table border=\"1\" class=\"dataframe\">\n",
       "  <thead>\n",
       "    <tr style=\"text-align: right;\">\n",
       "      <th></th>\n",
       "      <th>year_of_release</th>\n",
       "      <th>na_sales</th>\n",
       "      <th>eu_sales</th>\n",
       "      <th>jp_sales</th>\n",
       "      <th>other_sales</th>\n",
       "      <th>critic_score</th>\n",
       "      <th>user_score</th>\n",
       "    </tr>\n",
       "  </thead>\n",
       "  <tbody>\n",
       "    <tr>\n",
       "      <td>count</td>\n",
       "      <td>16446.000000</td>\n",
       "      <td>16715.000000</td>\n",
       "      <td>16715.000000</td>\n",
       "      <td>16715.000000</td>\n",
       "      <td>16715.000000</td>\n",
       "      <td>8137.000000</td>\n",
       "      <td>7590.000000</td>\n",
       "    </tr>\n",
       "    <tr>\n",
       "      <td>mean</td>\n",
       "      <td>2006.484616</td>\n",
       "      <td>0.263377</td>\n",
       "      <td>0.145060</td>\n",
       "      <td>0.077617</td>\n",
       "      <td>0.047342</td>\n",
       "      <td>68.967679</td>\n",
       "      <td>7.125046</td>\n",
       "    </tr>\n",
       "    <tr>\n",
       "      <td>std</td>\n",
       "      <td>5.877050</td>\n",
       "      <td>0.813604</td>\n",
       "      <td>0.503339</td>\n",
       "      <td>0.308853</td>\n",
       "      <td>0.186731</td>\n",
       "      <td>13.938165</td>\n",
       "      <td>1.500006</td>\n",
       "    </tr>\n",
       "    <tr>\n",
       "      <td>min</td>\n",
       "      <td>1980.000000</td>\n",
       "      <td>0.000000</td>\n",
       "      <td>0.000000</td>\n",
       "      <td>0.000000</td>\n",
       "      <td>0.000000</td>\n",
       "      <td>13.000000</td>\n",
       "      <td>0.000000</td>\n",
       "    </tr>\n",
       "    <tr>\n",
       "      <td>25%</td>\n",
       "      <td>2003.000000</td>\n",
       "      <td>0.000000</td>\n",
       "      <td>0.000000</td>\n",
       "      <td>0.000000</td>\n",
       "      <td>0.000000</td>\n",
       "      <td>60.000000</td>\n",
       "      <td>6.400000</td>\n",
       "    </tr>\n",
       "    <tr>\n",
       "      <td>50%</td>\n",
       "      <td>2007.000000</td>\n",
       "      <td>0.080000</td>\n",
       "      <td>0.020000</td>\n",
       "      <td>0.000000</td>\n",
       "      <td>0.010000</td>\n",
       "      <td>71.000000</td>\n",
       "      <td>7.500000</td>\n",
       "    </tr>\n",
       "    <tr>\n",
       "      <td>75%</td>\n",
       "      <td>2010.000000</td>\n",
       "      <td>0.240000</td>\n",
       "      <td>0.110000</td>\n",
       "      <td>0.040000</td>\n",
       "      <td>0.030000</td>\n",
       "      <td>79.000000</td>\n",
       "      <td>8.200000</td>\n",
       "    </tr>\n",
       "    <tr>\n",
       "      <td>max</td>\n",
       "      <td>2016.000000</td>\n",
       "      <td>41.360000</td>\n",
       "      <td>28.960000</td>\n",
       "      <td>10.220000</td>\n",
       "      <td>10.570000</td>\n",
       "      <td>98.000000</td>\n",
       "      <td>9.700000</td>\n",
       "    </tr>\n",
       "  </tbody>\n",
       "</table>\n",
       "</div>"
      ],
      "text/plain": [
       "       year_of_release      na_sales      eu_sales      jp_sales  \\\n",
       "count     16446.000000  16715.000000  16715.000000  16715.000000   \n",
       "mean       2006.484616      0.263377      0.145060      0.077617   \n",
       "std           5.877050      0.813604      0.503339      0.308853   \n",
       "min        1980.000000      0.000000      0.000000      0.000000   \n",
       "25%        2003.000000      0.000000      0.000000      0.000000   \n",
       "50%        2007.000000      0.080000      0.020000      0.000000   \n",
       "75%        2010.000000      0.240000      0.110000      0.040000   \n",
       "max        2016.000000     41.360000     28.960000     10.220000   \n",
       "\n",
       "        other_sales  critic_score   user_score  \n",
       "count  16715.000000   8137.000000  7590.000000  \n",
       "mean       0.047342     68.967679     7.125046  \n",
       "std        0.186731     13.938165     1.500006  \n",
       "min        0.000000     13.000000     0.000000  \n",
       "25%        0.000000     60.000000     6.400000  \n",
       "50%        0.010000     71.000000     7.500000  \n",
       "75%        0.030000     79.000000     8.200000  \n",
       "max       10.570000     98.000000     9.700000  "
      ]
     },
     "execution_count": 11,
     "metadata": {},
     "output_type": "execute_result"
    }
   ],
   "source": [
    "game_data.describe()"
   ]
  },
  {
   "cell_type": "markdown",
   "metadata": {},
   "source": [
    "Необходимые операции:\n",
    "\n",
    "- Значения оценок пользователей и критиков имеют разную размерность, которая может быть линейно стандартизирована при помощи коэффициента приведения (10) -> приведение размерности\n",
    "\n",
    "- Для 25% (или даже больше)  игр значение продаж оказалось 0, соотсветственно, для целей нашего анализа такие наблюдения не подойдут -> подсчет -> отбор только по играм с выручкой\n",
    "\n",
    "***Комментарий:***\n",
    "\n",
    "***На самом деле нужно посмотреть как изменится этот показатель для \"валидных\" времени игр. Да и сами плохие игры - тоже пример в какие авантюры ввязываться не стоит***\n",
    "\n",
    "- В имеющемся наборе данных имеются данные почти за 40 лет существования игровой индустрии, для целей нашего анализа, мы считаем правильным оставить только данные, начиная с 2001 года, когда PC и игровые приставки стали массовыми предметами быта, и когда игровая индустрия стала похожа на текущую (с онлайн и офлайн версиями). Более того, сами жанры за такой период времени серьезно изменились. -> отбор по играм моложе 16 лет с релиза"
   ]
  },
  {
   "cell_type": "code",
   "execution_count": 12,
   "metadata": {},
   "outputs": [],
   "source": [
    "# приводим оценки критиков к шкале от 0 до 10 (удобно для дальнейших диаграмм рассеяния)\n",
    "\n",
    "game_data['critic_score'] = game_data['critic_score']/10"
   ]
  },
  {
   "cell_type": "code",
   "execution_count": 13,
   "metadata": {},
   "outputs": [
    {
     "data": {
      "text/plain": [
       "count    8137.000000\n",
       "mean        6.896768\n",
       "std         1.393816\n",
       "min         1.300000\n",
       "25%         6.000000\n",
       "50%         7.100000\n",
       "75%         7.900000\n",
       "max         9.800000\n",
       "Name: critic_score, dtype: float64"
      ]
     },
     "execution_count": 13,
     "metadata": {},
     "output_type": "execute_result"
    }
   ],
   "source": [
    "game_data['critic_score'].describe()"
   ]
  },
  {
   "cell_type": "markdown",
   "metadata": {},
   "source": [
    "Произведем вычисление суммарных (глобальных) продаж для упрощения отбора объектов."
   ]
  },
  {
   "cell_type": "code",
   "execution_count": 14,
   "metadata": {},
   "outputs": [],
   "source": [
    "game_data['global_sales'] = game_data[['na_sales','eu_sales','jp_sales','other_sales']].apply(np.sum,axis=1)"
   ]
  },
  {
   "cell_type": "markdown",
   "metadata": {},
   "source": [
    "**Опишем новый столбец:**"
   ]
  },
  {
   "cell_type": "code",
   "execution_count": 15,
   "metadata": {},
   "outputs": [
    {
     "data": {
      "text/plain": [
       "count    16715.000000\n",
       "mean         0.533396\n",
       "std          1.548261\n",
       "min          0.000000\n",
       "25%          0.060000\n",
       "50%          0.170000\n",
       "75%          0.470000\n",
       "max         82.540000\n",
       "Name: global_sales, dtype: float64"
      ]
     },
     "execution_count": 15,
     "metadata": {},
     "output_type": "execute_result"
    }
   ],
   "source": [
    "game_data['global_sales'].describe()"
   ]
  },
  {
   "cell_type": "markdown",
   "metadata": {},
   "source": [
    "## Исследовательский анализ данных\n",
    "\n"
   ]
  },
  {
   "cell_type": "markdown",
   "metadata": {},
   "source": [
    "Для того, чтобы оценить правильность нашего выбора периода оценим количество игр по годам с помощью графика зависимости количества реализованных игр по годам:"
   ]
  },
  {
   "cell_type": "code",
   "execution_count": 16,
   "metadata": {},
   "outputs": [
    {
     "data": {
      "text/html": [
       "<div>\n",
       "<style scoped>\n",
       "    .dataframe tbody tr th:only-of-type {\n",
       "        vertical-align: middle;\n",
       "    }\n",
       "\n",
       "    .dataframe tbody tr th {\n",
       "        vertical-align: top;\n",
       "    }\n",
       "\n",
       "    .dataframe thead th {\n",
       "        text-align: right;\n",
       "    }\n",
       "</style>\n",
       "<table border=\"1\" class=\"dataframe\">\n",
       "  <thead>\n",
       "    <tr style=\"text-align: right;\">\n",
       "      <th></th>\n",
       "      <th>count</th>\n",
       "      <th>sum</th>\n",
       "    </tr>\n",
       "    <tr>\n",
       "      <th>year_of_release</th>\n",
       "      <th></th>\n",
       "      <th></th>\n",
       "    </tr>\n",
       "  </thead>\n",
       "  <tbody>\n",
       "    <tr>\n",
       "      <td>1980.0</td>\n",
       "      <td>9</td>\n",
       "      <td>11.38</td>\n",
       "    </tr>\n",
       "    <tr>\n",
       "      <td>1981.0</td>\n",
       "      <td>46</td>\n",
       "      <td>35.68</td>\n",
       "    </tr>\n",
       "    <tr>\n",
       "      <td>1982.0</td>\n",
       "      <td>36</td>\n",
       "      <td>28.88</td>\n",
       "    </tr>\n",
       "    <tr>\n",
       "      <td>1983.0</td>\n",
       "      <td>17</td>\n",
       "      <td>16.80</td>\n",
       "    </tr>\n",
       "    <tr>\n",
       "      <td>1984.0</td>\n",
       "      <td>14</td>\n",
       "      <td>50.35</td>\n",
       "    </tr>\n",
       "    <tr>\n",
       "      <td>1985.0</td>\n",
       "      <td>14</td>\n",
       "      <td>53.95</td>\n",
       "    </tr>\n",
       "    <tr>\n",
       "      <td>1986.0</td>\n",
       "      <td>21</td>\n",
       "      <td>37.08</td>\n",
       "    </tr>\n",
       "    <tr>\n",
       "      <td>1987.0</td>\n",
       "      <td>16</td>\n",
       "      <td>21.70</td>\n",
       "    </tr>\n",
       "    <tr>\n",
       "      <td>1988.0</td>\n",
       "      <td>15</td>\n",
       "      <td>47.21</td>\n",
       "    </tr>\n",
       "    <tr>\n",
       "      <td>1989.0</td>\n",
       "      <td>17</td>\n",
       "      <td>73.45</td>\n",
       "    </tr>\n",
       "    <tr>\n",
       "      <td>1990.0</td>\n",
       "      <td>16</td>\n",
       "      <td>49.37</td>\n",
       "    </tr>\n",
       "    <tr>\n",
       "      <td>1991.0</td>\n",
       "      <td>41</td>\n",
       "      <td>32.23</td>\n",
       "    </tr>\n",
       "    <tr>\n",
       "      <td>1992.0</td>\n",
       "      <td>43</td>\n",
       "      <td>76.16</td>\n",
       "    </tr>\n",
       "    <tr>\n",
       "      <td>1993.0</td>\n",
       "      <td>62</td>\n",
       "      <td>48.41</td>\n",
       "    </tr>\n",
       "    <tr>\n",
       "      <td>1994.0</td>\n",
       "      <td>121</td>\n",
       "      <td>79.23</td>\n",
       "    </tr>\n",
       "    <tr>\n",
       "      <td>1995.0</td>\n",
       "      <td>219</td>\n",
       "      <td>88.12</td>\n",
       "    </tr>\n",
       "    <tr>\n",
       "      <td>1996.0</td>\n",
       "      <td>263</td>\n",
       "      <td>199.15</td>\n",
       "    </tr>\n",
       "    <tr>\n",
       "      <td>1997.0</td>\n",
       "      <td>289</td>\n",
       "      <td>201.07</td>\n",
       "    </tr>\n",
       "    <tr>\n",
       "      <td>1998.0</td>\n",
       "      <td>379</td>\n",
       "      <td>256.31</td>\n",
       "    </tr>\n",
       "    <tr>\n",
       "      <td>1999.0</td>\n",
       "      <td>338</td>\n",
       "      <td>251.11</td>\n",
       "    </tr>\n",
       "    <tr>\n",
       "      <td>2000.0</td>\n",
       "      <td>350</td>\n",
       "      <td>201.66</td>\n",
       "    </tr>\n",
       "    <tr>\n",
       "      <td>2001.0</td>\n",
       "      <td>482</td>\n",
       "      <td>331.46</td>\n",
       "    </tr>\n",
       "    <tr>\n",
       "      <td>2002.0</td>\n",
       "      <td>829</td>\n",
       "      <td>394.97</td>\n",
       "    </tr>\n",
       "    <tr>\n",
       "      <td>2003.0</td>\n",
       "      <td>775</td>\n",
       "      <td>357.54</td>\n",
       "    </tr>\n",
       "    <tr>\n",
       "      <td>2004.0</td>\n",
       "      <td>762</td>\n",
       "      <td>418.68</td>\n",
       "    </tr>\n",
       "    <tr>\n",
       "      <td>2005.0</td>\n",
       "      <td>939</td>\n",
       "      <td>457.82</td>\n",
       "    </tr>\n",
       "    <tr>\n",
       "      <td>2006.0</td>\n",
       "      <td>1006</td>\n",
       "      <td>517.71</td>\n",
       "    </tr>\n",
       "    <tr>\n",
       "      <td>2007.0</td>\n",
       "      <td>1197</td>\n",
       "      <td>604.75</td>\n",
       "    </tr>\n",
       "    <tr>\n",
       "      <td>2008.0</td>\n",
       "      <td>1427</td>\n",
       "      <td>671.50</td>\n",
       "    </tr>\n",
       "    <tr>\n",
       "      <td>2009.0</td>\n",
       "      <td>1426</td>\n",
       "      <td>658.82</td>\n",
       "    </tr>\n",
       "    <tr>\n",
       "      <td>2010.0</td>\n",
       "      <td>1255</td>\n",
       "      <td>590.13</td>\n",
       "    </tr>\n",
       "    <tr>\n",
       "      <td>2011.0</td>\n",
       "      <td>1136</td>\n",
       "      <td>507.58</td>\n",
       "    </tr>\n",
       "    <tr>\n",
       "      <td>2012.0</td>\n",
       "      <td>653</td>\n",
       "      <td>355.84</td>\n",
       "    </tr>\n",
       "    <tr>\n",
       "      <td>2013.0</td>\n",
       "      <td>544</td>\n",
       "      <td>361.24</td>\n",
       "    </tr>\n",
       "    <tr>\n",
       "      <td>2014.0</td>\n",
       "      <td>581</td>\n",
       "      <td>331.53</td>\n",
       "    </tr>\n",
       "    <tr>\n",
       "      <td>2015.0</td>\n",
       "      <td>606</td>\n",
       "      <td>267.98</td>\n",
       "    </tr>\n",
       "    <tr>\n",
       "      <td>2016.0</td>\n",
       "      <td>502</td>\n",
       "      <td>129.94</td>\n",
       "    </tr>\n",
       "  </tbody>\n",
       "</table>\n",
       "</div>"
      ],
      "text/plain": [
       "                 count     sum\n",
       "year_of_release               \n",
       "1980.0               9   11.38\n",
       "1981.0              46   35.68\n",
       "1982.0              36   28.88\n",
       "1983.0              17   16.80\n",
       "1984.0              14   50.35\n",
       "1985.0              14   53.95\n",
       "1986.0              21   37.08\n",
       "1987.0              16   21.70\n",
       "1988.0              15   47.21\n",
       "1989.0              17   73.45\n",
       "1990.0              16   49.37\n",
       "1991.0              41   32.23\n",
       "1992.0              43   76.16\n",
       "1993.0              62   48.41\n",
       "1994.0             121   79.23\n",
       "1995.0             219   88.12\n",
       "1996.0             263  199.15\n",
       "1997.0             289  201.07\n",
       "1998.0             379  256.31\n",
       "1999.0             338  251.11\n",
       "2000.0             350  201.66\n",
       "2001.0             482  331.46\n",
       "2002.0             829  394.97\n",
       "2003.0             775  357.54\n",
       "2004.0             762  418.68\n",
       "2005.0             939  457.82\n",
       "2006.0            1006  517.71\n",
       "2007.0            1197  604.75\n",
       "2008.0            1427  671.50\n",
       "2009.0            1426  658.82\n",
       "2010.0            1255  590.13\n",
       "2011.0            1136  507.58\n",
       "2012.0             653  355.84\n",
       "2013.0             544  361.24\n",
       "2014.0             581  331.53\n",
       "2015.0             606  267.98\n",
       "2016.0             502  129.94"
      ]
     },
     "execution_count": 16,
     "metadata": {},
     "output_type": "execute_result"
    }
   ],
   "source": [
    "\n",
    "\n",
    "game_data.pivot_table(index='year_of_release', values = 'global_sales', aggfunc={'count','sum'})"
   ]
  },
  {
   "cell_type": "markdown",
   "metadata": {},
   "source": [
    "По данной сводной таблице видно, что до 1994 года в год выпускалось менее 100 игр, а после 2001-го около 500 и более. Причем, данные за последние 5 лет больше похожи на начало 2000-х (по кол-ву и продажам), чем на 2-ую пятилетку прошлого десятилетия.\n",
    "\n",
    "**Теперь посмотрим на распределение по платформам**"
   ]
  },
  {
   "cell_type": "code",
   "execution_count": 17,
   "metadata": {},
   "outputs": [],
   "source": [
    "def agg_plot(data, idn, val, func, reset):\n",
    "    grouped = data.pivot_table(index= idn, values = val, aggfunc = func)\n",
    "    \n",
    "    if reset:\n",
    "        grouped.reset_index(inplace= True)\n",
    "        \n",
    "    return grouped"
   ]
  },
  {
   "cell_type": "code",
   "execution_count": 18,
   "metadata": {},
   "outputs": [
    {
     "data": {
      "text/html": [
       "<div>\n",
       "<style scoped>\n",
       "    .dataframe tbody tr th:only-of-type {\n",
       "        vertical-align: middle;\n",
       "    }\n",
       "\n",
       "    .dataframe tbody tr th {\n",
       "        vertical-align: top;\n",
       "    }\n",
       "\n",
       "    .dataframe thead th {\n",
       "        text-align: right;\n",
       "    }\n",
       "</style>\n",
       "<table border=\"1\" class=\"dataframe\">\n",
       "  <thead>\n",
       "    <tr style=\"text-align: right;\">\n",
       "      <th></th>\n",
       "      <th>platform</th>\n",
       "      <th>count</th>\n",
       "      <th>sum</th>\n",
       "    </tr>\n",
       "  </thead>\n",
       "  <tbody>\n",
       "    <tr>\n",
       "      <td>16</td>\n",
       "      <td>PS2</td>\n",
       "      <td>2161</td>\n",
       "      <td>1255.77</td>\n",
       "    </tr>\n",
       "    <tr>\n",
       "      <td>28</td>\n",
       "      <td>X360</td>\n",
       "      <td>1262</td>\n",
       "      <td>971.42</td>\n",
       "    </tr>\n",
       "    <tr>\n",
       "      <td>17</td>\n",
       "      <td>PS3</td>\n",
       "      <td>1331</td>\n",
       "      <td>939.65</td>\n",
       "    </tr>\n",
       "    <tr>\n",
       "      <td>26</td>\n",
       "      <td>Wii</td>\n",
       "      <td>1320</td>\n",
       "      <td>907.51</td>\n",
       "    </tr>\n",
       "    <tr>\n",
       "      <td>4</td>\n",
       "      <td>DS</td>\n",
       "      <td>2151</td>\n",
       "      <td>806.12</td>\n",
       "    </tr>\n",
       "    <tr>\n",
       "      <td>15</td>\n",
       "      <td>PS</td>\n",
       "      <td>1197</td>\n",
       "      <td>730.86</td>\n",
       "    </tr>\n",
       "    <tr>\n",
       "      <td>6</td>\n",
       "      <td>GBA</td>\n",
       "      <td>822</td>\n",
       "      <td>317.85</td>\n",
       "    </tr>\n",
       "    <tr>\n",
       "      <td>18</td>\n",
       "      <td>PS4</td>\n",
       "      <td>392</td>\n",
       "      <td>314.14</td>\n",
       "    </tr>\n",
       "    <tr>\n",
       "      <td>19</td>\n",
       "      <td>PSP</td>\n",
       "      <td>1209</td>\n",
       "      <td>294.05</td>\n",
       "    </tr>\n",
       "    <tr>\n",
       "      <td>13</td>\n",
       "      <td>PC</td>\n",
       "      <td>974</td>\n",
       "      <td>259.52</td>\n",
       "    </tr>\n",
       "  </tbody>\n",
       "</table>\n",
       "</div>"
      ],
      "text/plain": [
       "   platform  count      sum\n",
       "16      PS2   2161  1255.77\n",
       "28     X360   1262   971.42\n",
       "17      PS3   1331   939.65\n",
       "26      Wii   1320   907.51\n",
       "4        DS   2151   806.12\n",
       "15       PS   1197   730.86\n",
       "6       GBA    822   317.85\n",
       "18      PS4    392   314.14\n",
       "19      PSP   1209   294.05\n",
       "13       PC    974   259.52"
      ]
     },
     "execution_count": 18,
     "metadata": {},
     "output_type": "execute_result"
    }
   ],
   "source": [
    "# Агрегируем данные по платформам\n",
    "platform_group = agg_plot(game_data,'platform','global_sales',{'count',np.sum}, True)# game_data.pivot_table(index=['platform'],\\\n",
    "                                       \n",
    "platform_group.sort_values(by='sum', ascending=False).head(10)"
   ]
  },
  {
   "cell_type": "code",
   "execution_count": 19,
   "metadata": {},
   "outputs": [
    {
     "data": {
      "text/plain": [
       "array(['3DS', 'DS', 'GB', 'GBA', 'NES', 'PC', 'PS', 'PS2', 'PS3', 'PS4',\n",
       "       'PSP', 'Wii', 'X360', 'XB'], dtype=object)"
      ]
     },
     "execution_count": 19,
     "metadata": {},
     "output_type": "execute_result"
    }
   ],
   "source": [
    "# отберем те платформы, на которых выпускалось больше 259 млн. суммарно проданных копий игр на платформе - первые 10\n",
    "\n",
    "platform_names = platform_group[platform_group['sum'] > 250]['platform'].unique()\n",
    "platform_names"
   ]
  },
  {
   "cell_type": "code",
   "execution_count": 20,
   "metadata": {},
   "outputs": [],
   "source": [
    "# Агрегируем данные по продажам по годам\n",
    "platform_years = agg_plot(game_data.query('platform in @platform_names'),\\\n",
    "                          ['platform','year_of_release'], 'global_sales',\n",
    "                          {np.sum}, True)\n",
    "\n",
    "platform_years.columns=['Platform','Year','Total_sales']"
   ]
  },
  {
   "cell_type": "code",
   "execution_count": 21,
   "metadata": {
    "scrolled": false
   },
   "outputs": [
    {
     "data": {
      "image/png": "[encoded data removed]",
      "text/plain": [
       "<Figure size 1080x720 with 1 Axes>"
      ]
     },
     "metadata": {},
     "output_type": "display_data"
    }
   ],
   "source": [
    "sns.set()\n",
    "plt.figure(figsize=(15,10))\n",
    "ax = sns.lineplot(x=\"Year\", y=\"Total_sales\", hue=\"Platform\",\n",
    "                  data=platform_years)"
   ]
  },
  {
   "cell_type": "code",
   "execution_count": 22,
   "metadata": {},
   "outputs": [
    {
     "data": {
      "text/plain": [
       "8.347575426289128"
      ]
     },
     "execution_count": 22,
     "metadata": {},
     "output_type": "execute_result"
    }
   ],
   "source": [
    "# определяем средний срок существования популярной платформы\n",
    "np.std(platform_years['Year'])"
   ]
  },
  {
   "cell_type": "markdown",
   "metadata": {},
   "source": [
    "Выводы краткий вывод:\n",
    "\n",
    "- Платформы рождаются и умирают... Если всматриваться детально, то можно заметить, что в последние 20 лет остаются только несколько франшиз в игровых платформах -  **Nintendo(Game Boy & DS), Microsoft (Xbox), Sony(PS), PC**.\n",
    "\n",
    "- Интересно, что суммарные продажи ***падают*** в последние годы для всех платформ (проверим для актуального периода)\n",
    "\n",
    "- Средний срок продолжительности существования платформы - 8 лет (стандартное отклонение это выражает). И примерно за 2 года до конца жизни данной платформы, появляется следующая. \n",
    "\n",
    "- Платформа может существовать и дольше (например, GB) и PC (из-за того, что платформа дифференцирована и архитектурная основа -\"железо\"- может постоянно обновляться).\n",
    "\n",
    "- В описании к данным, указанно, что информация за 2016 год могла быть неполной, соответственно, мы должны ориентироваться на рост в 2015-м году применительно к продажам.\n",
    "\n",
    "***В связи с тем, что, начиная с 2000-х годов существуют лишь несколько крупных брендов и существованием платформы, которые обновляются регулярно (раз в 8 лет), мы считаем приемлимым взять данные за последние 6 лет, то есть начиная с 2010 года***"
   ]
  },
  {
   "cell_type": "markdown",
   "metadata": {},
   "source": [
    "## Анализ по валидным данным за последние 6 лет"
   ]
  },
  {
   "cell_type": "markdown",
   "metadata": {},
   "source": [
    "**Произведем отбор в новый датафрейм игр с заданными условиями по времени:**"
   ]
  },
  {
   "cell_type": "code",
   "execution_count": 23,
   "metadata": {},
   "outputs": [],
   "source": [
    "# Дополнительно используем метод copy с параметром deep = True, чтобы беспрепятственно работать\n",
    "# При более высоком объеме набора данных, нам бы пришлось использовать drop, чтобы не перегружать память компьютера/сервера хранением\n",
    "games = game_data[game_data['year_of_release'] > 2010].copy(deep=True)\n"
   ]
  },
  {
   "cell_type": "code",
   "execution_count": 24,
   "metadata": {},
   "outputs": [],
   "source": [
    "# Теперь можно год перевести в int (ранее метод не работал по причине наличия пропущенных значений\n",
    "# float может хранить NaN, int - нет\n",
    "\n",
    "games['year_of_release'] = games['year_of_release'].astype(int)"
   ]
  },
  {
   "cell_type": "code",
   "execution_count": 25,
   "metadata": {},
   "outputs": [
    {
     "data": {
      "text/html": [
       "<div>\n",
       "<style scoped>\n",
       "    .dataframe tbody tr th:only-of-type {\n",
       "        vertical-align: middle;\n",
       "    }\n",
       "\n",
       "    .dataframe tbody tr th {\n",
       "        vertical-align: top;\n",
       "    }\n",
       "\n",
       "    .dataframe thead th {\n",
       "        text-align: right;\n",
       "    }\n",
       "</style>\n",
       "<table border=\"1\" class=\"dataframe\">\n",
       "  <thead>\n",
       "    <tr style=\"text-align: right;\">\n",
       "      <th></th>\n",
       "      <th>year_of_release</th>\n",
       "      <th>na_sales</th>\n",
       "      <th>eu_sales</th>\n",
       "      <th>jp_sales</th>\n",
       "      <th>other_sales</th>\n",
       "      <th>critic_score</th>\n",
       "      <th>user_score</th>\n",
       "      <th>global_sales</th>\n",
       "    </tr>\n",
       "  </thead>\n",
       "  <tbody>\n",
       "    <tr>\n",
       "      <td>count</td>\n",
       "      <td>4022.000000</td>\n",
       "      <td>4022.000000</td>\n",
       "      <td>4022.000000</td>\n",
       "      <td>4022.000000</td>\n",
       "      <td>4022.000000</td>\n",
       "      <td>1812.000000</td>\n",
       "      <td>2032.000000</td>\n",
       "      <td>4022.000000</td>\n",
       "    </tr>\n",
       "    <tr>\n",
       "      <td>mean</td>\n",
       "      <td>2013.092989</td>\n",
       "      <td>0.206305</td>\n",
       "      <td>0.166532</td>\n",
       "      <td>0.061077</td>\n",
       "      <td>0.051942</td>\n",
       "      <td>7.127428</td>\n",
       "      <td>6.633022</td>\n",
       "      <td>0.485855</td>\n",
       "    </tr>\n",
       "    <tr>\n",
       "      <td>std</td>\n",
       "      <td>1.776160</td>\n",
       "      <td>0.570441</td>\n",
       "      <td>0.482864</td>\n",
       "      <td>0.220248</td>\n",
       "      <td>0.155342</td>\n",
       "      <td>1.309585</td>\n",
       "      <td>1.541293</td>\n",
       "      <td>1.219503</td>\n",
       "    </tr>\n",
       "    <tr>\n",
       "      <td>min</td>\n",
       "      <td>2011.000000</td>\n",
       "      <td>0.000000</td>\n",
       "      <td>0.000000</td>\n",
       "      <td>0.000000</td>\n",
       "      <td>0.000000</td>\n",
       "      <td>1.300000</td>\n",
       "      <td>0.200000</td>\n",
       "      <td>0.010000</td>\n",
       "    </tr>\n",
       "    <tr>\n",
       "      <td>25%</td>\n",
       "      <td>2011.000000</td>\n",
       "      <td>0.000000</td>\n",
       "      <td>0.000000</td>\n",
       "      <td>0.000000</td>\n",
       "      <td>0.000000</td>\n",
       "      <td>6.400000</td>\n",
       "      <td>5.800000</td>\n",
       "      <td>0.040000</td>\n",
       "    </tr>\n",
       "    <tr>\n",
       "      <td>50%</td>\n",
       "      <td>2013.000000</td>\n",
       "      <td>0.040000</td>\n",
       "      <td>0.030000</td>\n",
       "      <td>0.000000</td>\n",
       "      <td>0.010000</td>\n",
       "      <td>7.400000</td>\n",
       "      <td>7.000000</td>\n",
       "      <td>0.130000</td>\n",
       "    </tr>\n",
       "    <tr>\n",
       "      <td>75%</td>\n",
       "      <td>2015.000000</td>\n",
       "      <td>0.170000</td>\n",
       "      <td>0.130000</td>\n",
       "      <td>0.050000</td>\n",
       "      <td>0.040000</td>\n",
       "      <td>8.100000</td>\n",
       "      <td>7.800000</td>\n",
       "      <td>0.407500</td>\n",
       "    </tr>\n",
       "    <tr>\n",
       "      <td>max</td>\n",
       "      <td>2016.000000</td>\n",
       "      <td>9.660000</td>\n",
       "      <td>9.090000</td>\n",
       "      <td>4.390000</td>\n",
       "      <td>3.960000</td>\n",
       "      <td>9.700000</td>\n",
       "      <td>9.300000</td>\n",
       "      <td>21.050000</td>\n",
       "    </tr>\n",
       "  </tbody>\n",
       "</table>\n",
       "</div>"
      ],
      "text/plain": [
       "       year_of_release     na_sales     eu_sales     jp_sales  other_sales  \\\n",
       "count      4022.000000  4022.000000  4022.000000  4022.000000  4022.000000   \n",
       "mean       2013.092989     0.206305     0.166532     0.061077     0.051942   \n",
       "std           1.776160     0.570441     0.482864     0.220248     0.155342   \n",
       "min        2011.000000     0.000000     0.000000     0.000000     0.000000   \n",
       "25%        2011.000000     0.000000     0.000000     0.000000     0.000000   \n",
       "50%        2013.000000     0.040000     0.030000     0.000000     0.010000   \n",
       "75%        2015.000000     0.170000     0.130000     0.050000     0.040000   \n",
       "max        2016.000000     9.660000     9.090000     4.390000     3.960000   \n",
       "\n",
       "       critic_score   user_score  global_sales  \n",
       "count   1812.000000  2032.000000   4022.000000  \n",
       "mean       7.127428     6.633022      0.485855  \n",
       "std        1.309585     1.541293      1.219503  \n",
       "min        1.300000     0.200000      0.010000  \n",
       "25%        6.400000     5.800000      0.040000  \n",
       "50%        7.400000     7.000000      0.130000  \n",
       "75%        8.100000     7.800000      0.407500  \n",
       "max        9.700000     9.300000     21.050000  "
      ]
     },
     "execution_count": 25,
     "metadata": {},
     "output_type": "execute_result"
    }
   ],
   "source": [
    "games.describe()"
   ]
  },
  {
   "cell_type": "code",
   "execution_count": 26,
   "metadata": {
    "scrolled": true
   },
   "outputs": [
    {
     "name": "stdout",
     "output_type": "stream",
     "text": [
      "<class 'pandas.core.frame.DataFrame'>\n",
      "Int64Index: 4022 entries, 16 to 16714\n",
      "Data columns (total 12 columns):\n",
      "name               4022 non-null object\n",
      "platform           4022 non-null object\n",
      "year_of_release    4022 non-null int64\n",
      "genre              4022 non-null object\n",
      "na_sales           4022 non-null float64\n",
      "eu_sales           4022 non-null float64\n",
      "jp_sales           4022 non-null float64\n",
      "other_sales        4022 non-null float64\n",
      "critic_score       1812 non-null float64\n",
      "user_score         2032 non-null float64\n",
      "rating             2314 non-null object\n",
      "global_sales       4022 non-null float64\n",
      "dtypes: float64(7), int64(1), object(4)\n",
      "memory usage: 408.5+ KB\n"
     ]
    }
   ],
   "source": [
    "games.info()"
   ]
  },
  {
   "cell_type": "markdown",
   "metadata": {},
   "source": [
    "**Краткий вывод по этой части:**\n",
    "\n",
    "- Были обработаны столбцы и приведены к нужным типам (допустимо)\n",
    "\n",
    "- Был сформирован рабочий набор данных по временному периоду (после 1999-го года)\n",
    "\n",
    "- Мы оставили наблюдения с нулевым значением продаж, чтобы дополнительно оценить риски в рамках жанра или платформы"
   ]
  },
  {
   "cell_type": "markdown",
   "metadata": {},
   "source": [
    "**Построим корреляционную тепловую карту, чтобы оценить меры сопряженности признаков между собой:**"
   ]
  },
  {
   "cell_type": "code",
   "execution_count": 27,
   "metadata": {},
   "outputs": [
    {
     "data": {
      "text/plain": [
       "<matplotlib.axes._subplots.AxesSubplot at 0x7f4b387e7dd0>"
      ]
     },
     "execution_count": 27,
     "metadata": {},
     "output_type": "execute_result"
    },
    {
     "data": {
      "image/png": "[encoded data removed]",
      "text/plain": [
       "<Figure size 1080x720 with 2 Axes>"
      ]
     },
     "metadata": {},
     "output_type": "display_data"
    }
   ],
   "source": [
    "plt.figure(figsize=(15,10))\n",
    "\n",
    "# по умолчанию мера корреляции критерий Xi^2 по Пирсону, его мы и используем. Жалко, что нет Крамера...\n",
    "matrix = np.triu(games.corr())\n",
    "sns.heatmap(games.corr(), annot=True, fmt='.1g', cmap= 'coolwarm', mask = matrix)"
   ]
  },
  {
   "cell_type": "markdown",
   "metadata": {},
   "source": [
    "Из данной тепловой карты видно, что:\n",
    "\n",
    "- Самая очевидную связь отдельных продаж с глобальными продажами. Этот аспект можно игнорировать.\n",
    "\n",
    "- Продажи по Европе и Америке **cильно коррелируют** это может означать, что менталитет и запросы игроков в этих регионах совпадают\n",
    "\n",
    "- Также данные регионы имеют немного ***более слабую связь*** с регионами other (предположительно - Океания, Азия и др.)\n",
    "\n",
    "- **Слабая связь** между регионом Японии и Европы с Америкой. Причем судя по всему японские игроки, обладают специфичными характеристиками, потому что продажи в японии имеют лишь среднюю связь с глобальными. Нужно будет изучить этот рынок более подробно.\n",
    "\n",
    "- **Средняя связь** между оценкой критиков и игроков\n",
    "\n",
    "- **Отсутствие явной связи между**\n",
    "\n",
    "- ***Слабая отрицательная связь*** между годом выхода игры и оценкой игры, то есть оценки игроков могут незначительно уменьшаться от года к году\n",
    "\n",
    "**Очевидно, что  наш анализ необходимо дополнить графиками, сводными таблицами и статистиками для более глубокого понимания закономерностей между признаками. Продолжим:**"
   ]
  },
  {
   "cell_type": "markdown",
   "metadata": {},
   "source": [
    "###  Изучение популярности платформ\n",
    "\n",
    "**Агрегируем данные по игровым платформа к выпущенным играм и глобальным продажам**"
   ]
  },
  {
   "cell_type": "code",
   "execution_count": 28,
   "metadata": {},
   "outputs": [
    {
     "data": {
      "text/html": [
       "<div>\n",
       "<style scoped>\n",
       "    .dataframe tbody tr th:only-of-type {\n",
       "        vertical-align: middle;\n",
       "    }\n",
       "\n",
       "    .dataframe tbody tr th {\n",
       "        vertical-align: top;\n",
       "    }\n",
       "\n",
       "    .dataframe thead th {\n",
       "        text-align: right;\n",
       "    }\n",
       "</style>\n",
       "<table border=\"1\" class=\"dataframe\">\n",
       "  <thead>\n",
       "    <tr style=\"text-align: right;\">\n",
       "      <th></th>\n",
       "      <th>count</th>\n",
       "      <th>sum</th>\n",
       "    </tr>\n",
       "    <tr>\n",
       "      <th>platform</th>\n",
       "      <th></th>\n",
       "      <th></th>\n",
       "    </tr>\n",
       "  </thead>\n",
       "  <tbody>\n",
       "    <tr>\n",
       "      <td>PS3</td>\n",
       "      <td>708</td>\n",
       "      <td>445.57</td>\n",
       "    </tr>\n",
       "    <tr>\n",
       "      <td>X360</td>\n",
       "      <td>498</td>\n",
       "      <td>380.38</td>\n",
       "    </tr>\n",
       "    <tr>\n",
       "      <td>PS4</td>\n",
       "      <td>392</td>\n",
       "      <td>314.14</td>\n",
       "    </tr>\n",
       "    <tr>\n",
       "      <td>3DS</td>\n",
       "      <td>512</td>\n",
       "      <td>257.81</td>\n",
       "    </tr>\n",
       "    <tr>\n",
       "      <td>XOne</td>\n",
       "      <td>247</td>\n",
       "      <td>159.32</td>\n",
       "    </tr>\n",
       "    <tr>\n",
       "      <td>PC</td>\n",
       "      <td>389</td>\n",
       "      <td>97.68</td>\n",
       "    </tr>\n",
       "    <tr>\n",
       "      <td>Wii</td>\n",
       "      <td>197</td>\n",
       "      <td>95.02</td>\n",
       "    </tr>\n",
       "    <tr>\n",
       "      <td>WiiU</td>\n",
       "      <td>147</td>\n",
       "      <td>82.19</td>\n",
       "    </tr>\n",
       "    <tr>\n",
       "      <td>PSV</td>\n",
       "      <td>429</td>\n",
       "      <td>53.81</td>\n",
       "    </tr>\n",
       "    <tr>\n",
       "      <td>DS</td>\n",
       "      <td>184</td>\n",
       "      <td>38.73</td>\n",
       "    </tr>\n",
       "    <tr>\n",
       "      <td>PSP</td>\n",
       "      <td>312</td>\n",
       "      <td>29.01</td>\n",
       "    </tr>\n",
       "    <tr>\n",
       "      <td>PS2</td>\n",
       "      <td>7</td>\n",
       "      <td>0.45</td>\n",
       "    </tr>\n",
       "  </tbody>\n",
       "</table>\n",
       "</div>"
      ],
      "text/plain": [
       "          count     sum\n",
       "platform               \n",
       "PS3         708  445.57\n",
       "X360        498  380.38\n",
       "PS4         392  314.14\n",
       "3DS         512  257.81\n",
       "XOne        247  159.32\n",
       "PC          389   97.68\n",
       "Wii         197   95.02\n",
       "WiiU        147   82.19\n",
       "PSV         429   53.81\n",
       "DS          184   38.73\n",
       "PSP         312   29.01\n",
       "PS2           7    0.45"
      ]
     },
     "execution_count": 28,
     "metadata": {},
     "output_type": "execute_result"
    }
   ],
   "source": [
    "games.pivot_table(index = 'platform',values='global_sales', \\\n",
    "                  aggfunc= {'count','sum'}).sort_values(by='sum',ascending=False)"
   ]
  },
  {
   "cell_type": "markdown",
   "metadata": {},
   "source": [
    "Построим график зависимости продаж внутри платформы для нашего актуального периода (8 лет):"
   ]
  },
  {
   "cell_type": "code",
   "execution_count": 29,
   "metadata": {},
   "outputs": [],
   "source": [
    "valid_platform = agg_plot(games, ['platform','year_of_release'], ['global_sales'], {'count', np.sum}, True)\n",
    "valid_platform.columns = ['platform','year','count','sum']\n"
   ]
  },
  {
   "cell_type": "code",
   "execution_count": 30,
   "metadata": {},
   "outputs": [
    {
     "data": {
      "image/png": "[encoded data removed]",
      "text/plain": [
       "<Figure size 1080x720 with 1 Axes>"
      ]
     },
     "metadata": {},
     "output_type": "display_data"
    }
   ],
   "source": [
    "sns.set()\n",
    "plt.figure(figsize=(15,10))\n",
    "plt.title('Количество проданных копий игр по годам относительно платформы')\n",
    "plt.xlabel('Год')\n",
    "plt.ylabel('млн.копий')\n",
    "\n",
    "valid_platform = agg_plot(games, ['platform','year_of_release'], ['global_sales'], {'count', np.sum}, True)\n",
    "valid_platform.columns = ['platform','year','count','sum']\n",
    "\n",
    "ax = sns.lineplot(x=\"year\", y='sum', hue=\"platform\",\n",
    "                 data=valid_platform)\n"
   ]
  },
  {
   "cell_type": "markdown",
   "metadata": {},
   "source": [
    "Ранее, мы строили похожий график и тогда получили схожие результаты - в 2016-м году - все платформы испытали спад по продажам игр - обусловлено возможной неполнотой информации за этот год.\n",
    "\n",
    "В 5 лидеров по продажам в 2016- м году были PS4, XOne, 3DS, PC, WiiU\n",
    "\n",
    "Четко видно, что в 12-13-м году появились новые платфоррмы - **WiiU, PS4, XOne**. PC держится на стабильно низком уровне, 3DS - имеет высокое значение по продажам, но скорее доживает свой цикл. Wii, PSP и DS умерли в этот период.\n",
    "\n",
    " \n",
    "**Изучим сколько игр выпускалось для каждой платформ в год:***"
   ]
  },
  {
   "cell_type": "code",
   "execution_count": 31,
   "metadata": {},
   "outputs": [
    {
     "data": {
      "image/png": "[encoded data removed]",
      "text/plain": [
       "<Figure size 1080x720 with 1 Axes>"
      ]
     },
     "metadata": {},
     "output_type": "display_data"
    }
   ],
   "source": [
    "sns.set()\n",
    "plt.figure(figsize=(15,10))\n",
    "plt.title('Количество изданныъ игр по годам относительно платформы')\n",
    "plt.xlabel('Год')\n",
    "plt.ylabel('млн.копий')\n",
    "\n",
    "ax = sns.barplot(x=\"year\", y=\"count\", hue=\"platform\", data=valid_platform)"
   ]
  },
  {
   "cell_type": "markdown",
   "metadata": {},
   "source": [
    "Количество выпускаемых игры возрастает для платформ PS4, XOne, PC, растет протяжении последних трех лет, значит платформы находятся в активной фазе своего жизненного цикла.\n",
    "\n",
    "**Выразим данные при помощи таблиц:**"
   ]
  },
  {
   "cell_type": "code",
   "execution_count": 32,
   "metadata": {},
   "outputs": [],
   "source": [
    "platform_14 = valid_platform[valid_platform['year'] == 2014].sort_values(by='sum', ascending=False)\n",
    "platform_15 = valid_platform[valid_platform['year'] == 2015].sort_values(by='sum', ascending=False)\n",
    "platform_16 = valid_platform[valid_platform['year'] == 2016].sort_values(by='sum', ascending=False)\n",
    "\n"
   ]
  },
  {
   "cell_type": "code",
   "execution_count": 33,
   "metadata": {},
   "outputs": [
    {
     "data": {
      "text/html": [
       "<div>\n",
       "<style scoped>\n",
       "    .dataframe tbody tr th:only-of-type {\n",
       "        vertical-align: middle;\n",
       "    }\n",
       "\n",
       "    .dataframe tbody tr th {\n",
       "        vertical-align: top;\n",
       "    }\n",
       "\n",
       "    .dataframe thead th {\n",
       "        text-align: right;\n",
       "    }\n",
       "</style>\n",
       "<table border=\"1\" class=\"dataframe\">\n",
       "  <thead>\n",
       "    <tr style=\"text-align: right;\">\n",
       "      <th></th>\n",
       "      <th>platform</th>\n",
       "      <th>count_14</th>\n",
       "      <th>sales_14</th>\n",
       "      <th>count_15</th>\n",
       "      <th>sales_15</th>\n",
       "      <th>count_16</th>\n",
       "      <th>sales_16</th>\n",
       "    </tr>\n",
       "  </thead>\n",
       "  <tbody>\n",
       "    <tr>\n",
       "      <td>0</td>\n",
       "      <td>PS4</td>\n",
       "      <td>75</td>\n",
       "      <td>100.00</td>\n",
       "      <td>137</td>\n",
       "      <td>118.90</td>\n",
       "      <td>164</td>\n",
       "      <td>69.25</td>\n",
       "    </tr>\n",
       "    <tr>\n",
       "      <td>1</td>\n",
       "      <td>XOne</td>\n",
       "      <td>61</td>\n",
       "      <td>54.07</td>\n",
       "      <td>80</td>\n",
       "      <td>60.14</td>\n",
       "      <td>87</td>\n",
       "      <td>26.15</td>\n",
       "    </tr>\n",
       "    <tr>\n",
       "      <td>2</td>\n",
       "      <td>PS3</td>\n",
       "      <td>108</td>\n",
       "      <td>47.76</td>\n",
       "      <td>73</td>\n",
       "      <td>16.82</td>\n",
       "      <td>38</td>\n",
       "      <td>3.60</td>\n",
       "    </tr>\n",
       "    <tr>\n",
       "      <td>3</td>\n",
       "      <td>3DS</td>\n",
       "      <td>80</td>\n",
       "      <td>43.76</td>\n",
       "      <td>86</td>\n",
       "      <td>27.78</td>\n",
       "      <td>46</td>\n",
       "      <td>15.14</td>\n",
       "    </tr>\n",
       "    <tr>\n",
       "      <td>4</td>\n",
       "      <td>X360</td>\n",
       "      <td>63</td>\n",
       "      <td>34.74</td>\n",
       "      <td>35</td>\n",
       "      <td>11.96</td>\n",
       "      <td>13</td>\n",
       "      <td>1.52</td>\n",
       "    </tr>\n",
       "    <tr>\n",
       "      <td>5</td>\n",
       "      <td>WiiU</td>\n",
       "      <td>31</td>\n",
       "      <td>22.03</td>\n",
       "      <td>28</td>\n",
       "      <td>16.35</td>\n",
       "      <td>14</td>\n",
       "      <td>4.60</td>\n",
       "    </tr>\n",
       "    <tr>\n",
       "      <td>6</td>\n",
       "      <td>PC</td>\n",
       "      <td>47</td>\n",
       "      <td>13.28</td>\n",
       "      <td>50</td>\n",
       "      <td>8.52</td>\n",
       "      <td>54</td>\n",
       "      <td>5.25</td>\n",
       "    </tr>\n",
       "    <tr>\n",
       "      <td>7</td>\n",
       "      <td>PSV</td>\n",
       "      <td>100</td>\n",
       "      <td>11.90</td>\n",
       "      <td>110</td>\n",
       "      <td>6.25</td>\n",
       "      <td>85</td>\n",
       "      <td>4.25</td>\n",
       "    </tr>\n",
       "    <tr>\n",
       "      <td>8</td>\n",
       "      <td>Wii</td>\n",
       "      <td>6</td>\n",
       "      <td>3.75</td>\n",
       "      <td>4</td>\n",
       "      <td>1.14</td>\n",
       "      <td>1</td>\n",
       "      <td>0.18</td>\n",
       "    </tr>\n",
       "  </tbody>\n",
       "</table>\n",
       "</div>"
      ],
      "text/plain": [
       "  platform  count_14  sales_14  count_15  sales_15  count_16  sales_16\n",
       "0      PS4        75    100.00       137    118.90       164     69.25\n",
       "1     XOne        61     54.07        80     60.14        87     26.15\n",
       "2      PS3       108     47.76        73     16.82        38      3.60\n",
       "3      3DS        80     43.76        86     27.78        46     15.14\n",
       "4     X360        63     34.74        35     11.96        13      1.52\n",
       "5     WiiU        31     22.03        28     16.35        14      4.60\n",
       "6       PC        47     13.28        50      8.52        54      5.25\n",
       "7      PSV       100     11.90       110      6.25        85      4.25\n",
       "8      Wii         6      3.75         4      1.14         1      0.18"
      ]
     },
     "execution_count": 33,
     "metadata": {},
     "output_type": "execute_result"
    }
   ],
   "source": [
    "# Теперь объединим данные за последние 3 года \n",
    "platform_3y = (platform_14[['platform','count','sum']].merge(\\\n",
    "                                                           platform_15[['platform','count','sum']], \\\n",
    "                                                           on = 'platform', how='inner'\\\n",
    "                                                           )).merge(\n",
    "                                                            platform_16[['platform','count','sum']], \\\n",
    "                                                            on='platform',how='inner')\n",
    "platform_3y.columns = ['platform','count_14','sales_14','count_15','sales_15','count_16','sales_16']\n",
    "platform_3y"
   ]
  },
  {
   "cell_type": "code",
   "execution_count": 34,
   "metadata": {},
   "outputs": [],
   "source": [
    "# мучительный подсчет цепных относительных показателей\n",
    "platform_3y['rel_sales_14-15'] = (platform_3y['sales_15']/ platform_3y['sales_14']*100).apply(np.ceil)\n",
    "platform_3y['rel_sales_15-16'] = (platform_3y['sales_16']/ platform_3y['sales_15']*100).apply(np.ceil)\n",
    "platform_3y['rel_games_14-15'] = (platform_3y['count_15']/ platform_3y['count_14']*100).apply(np.ceil)\n",
    "platform_3y['rel_games_15-16'] = (platform_3y['count_16']/ platform_3y['count_15']*100).apply(np.ceil)\n",
    "\n",
    "# приводим в надлежащий вид табличку\n",
    "platfrom_3y = platform_3y[['platform','count_14','sales_14',\\\n",
    "                          'rel_games_14-15','rel_sales_14-15',\\\n",
    "                          'count_15','sales_15','rel_games_15-16',\\\n",
    "                          'rel_sales_15-16','count_16','sales_16']]"
   ]
  },
  {
   "cell_type": "code",
   "execution_count": 35,
   "metadata": {},
   "outputs": [
    {
     "data": {
      "text/html": [
       "<div>\n",
       "<style scoped>\n",
       "    .dataframe tbody tr th:only-of-type {\n",
       "        vertical-align: middle;\n",
       "    }\n",
       "\n",
       "    .dataframe tbody tr th {\n",
       "        vertical-align: top;\n",
       "    }\n",
       "\n",
       "    .dataframe thead th {\n",
       "        text-align: right;\n",
       "    }\n",
       "</style>\n",
       "<table border=\"1\" class=\"dataframe\">\n",
       "  <thead>\n",
       "    <tr style=\"text-align: right;\">\n",
       "      <th></th>\n",
       "      <th>platform</th>\n",
       "      <th>count_14</th>\n",
       "      <th>sales_14</th>\n",
       "      <th>rel_games_14-15</th>\n",
       "      <th>rel_sales_14-15</th>\n",
       "      <th>count_15</th>\n",
       "      <th>sales_15</th>\n",
       "      <th>rel_games_15-16</th>\n",
       "      <th>rel_sales_15-16</th>\n",
       "      <th>count_16</th>\n",
       "      <th>sales_16</th>\n",
       "    </tr>\n",
       "  </thead>\n",
       "  <tbody>\n",
       "    <tr>\n",
       "      <td>0</td>\n",
       "      <td>PS4</td>\n",
       "      <td>75</td>\n",
       "      <td>100.00</td>\n",
       "      <td>183.0</td>\n",
       "      <td>119.0</td>\n",
       "      <td>137</td>\n",
       "      <td>118.90</td>\n",
       "      <td>120.0</td>\n",
       "      <td>59.0</td>\n",
       "      <td>164</td>\n",
       "      <td>69.25</td>\n",
       "    </tr>\n",
       "    <tr>\n",
       "      <td>1</td>\n",
       "      <td>XOne</td>\n",
       "      <td>61</td>\n",
       "      <td>54.07</td>\n",
       "      <td>132.0</td>\n",
       "      <td>112.0</td>\n",
       "      <td>80</td>\n",
       "      <td>60.14</td>\n",
       "      <td>109.0</td>\n",
       "      <td>44.0</td>\n",
       "      <td>87</td>\n",
       "      <td>26.15</td>\n",
       "    </tr>\n",
       "    <tr>\n",
       "      <td>3</td>\n",
       "      <td>3DS</td>\n",
       "      <td>80</td>\n",
       "      <td>43.76</td>\n",
       "      <td>108.0</td>\n",
       "      <td>64.0</td>\n",
       "      <td>86</td>\n",
       "      <td>27.78</td>\n",
       "      <td>54.0</td>\n",
       "      <td>55.0</td>\n",
       "      <td>46</td>\n",
       "      <td>15.14</td>\n",
       "    </tr>\n",
       "    <tr>\n",
       "      <td>6</td>\n",
       "      <td>PC</td>\n",
       "      <td>47</td>\n",
       "      <td>13.28</td>\n",
       "      <td>107.0</td>\n",
       "      <td>65.0</td>\n",
       "      <td>50</td>\n",
       "      <td>8.52</td>\n",
       "      <td>108.0</td>\n",
       "      <td>62.0</td>\n",
       "      <td>54</td>\n",
       "      <td>5.25</td>\n",
       "    </tr>\n",
       "    <tr>\n",
       "      <td>5</td>\n",
       "      <td>WiiU</td>\n",
       "      <td>31</td>\n",
       "      <td>22.03</td>\n",
       "      <td>91.0</td>\n",
       "      <td>75.0</td>\n",
       "      <td>28</td>\n",
       "      <td>16.35</td>\n",
       "      <td>50.0</td>\n",
       "      <td>29.0</td>\n",
       "      <td>14</td>\n",
       "      <td>4.60</td>\n",
       "    </tr>\n",
       "    <tr>\n",
       "      <td>7</td>\n",
       "      <td>PSV</td>\n",
       "      <td>100</td>\n",
       "      <td>11.90</td>\n",
       "      <td>111.0</td>\n",
       "      <td>53.0</td>\n",
       "      <td>110</td>\n",
       "      <td>6.25</td>\n",
       "      <td>78.0</td>\n",
       "      <td>68.0</td>\n",
       "      <td>85</td>\n",
       "      <td>4.25</td>\n",
       "    </tr>\n",
       "    <tr>\n",
       "      <td>2</td>\n",
       "      <td>PS3</td>\n",
       "      <td>108</td>\n",
       "      <td>47.76</td>\n",
       "      <td>68.0</td>\n",
       "      <td>36.0</td>\n",
       "      <td>73</td>\n",
       "      <td>16.82</td>\n",
       "      <td>53.0</td>\n",
       "      <td>22.0</td>\n",
       "      <td>38</td>\n",
       "      <td>3.60</td>\n",
       "    </tr>\n",
       "    <tr>\n",
       "      <td>4</td>\n",
       "      <td>X360</td>\n",
       "      <td>63</td>\n",
       "      <td>34.74</td>\n",
       "      <td>56.0</td>\n",
       "      <td>35.0</td>\n",
       "      <td>35</td>\n",
       "      <td>11.96</td>\n",
       "      <td>38.0</td>\n",
       "      <td>13.0</td>\n",
       "      <td>13</td>\n",
       "      <td>1.52</td>\n",
       "    </tr>\n",
       "    <tr>\n",
       "      <td>8</td>\n",
       "      <td>Wii</td>\n",
       "      <td>6</td>\n",
       "      <td>3.75</td>\n",
       "      <td>67.0</td>\n",
       "      <td>31.0</td>\n",
       "      <td>4</td>\n",
       "      <td>1.14</td>\n",
       "      <td>25.0</td>\n",
       "      <td>16.0</td>\n",
       "      <td>1</td>\n",
       "      <td>0.18</td>\n",
       "    </tr>\n",
       "  </tbody>\n",
       "</table>\n",
       "</div>"
      ],
      "text/plain": [
       "  platform  count_14  sales_14  rel_games_14-15  rel_sales_14-15  count_15  \\\n",
       "0      PS4        75    100.00            183.0            119.0       137   \n",
       "1     XOne        61     54.07            132.0            112.0        80   \n",
       "3      3DS        80     43.76            108.0             64.0        86   \n",
       "6       PC        47     13.28            107.0             65.0        50   \n",
       "5     WiiU        31     22.03             91.0             75.0        28   \n",
       "7      PSV       100     11.90            111.0             53.0       110   \n",
       "2      PS3       108     47.76             68.0             36.0        73   \n",
       "4     X360        63     34.74             56.0             35.0        35   \n",
       "8      Wii         6      3.75             67.0             31.0         4   \n",
       "\n",
       "   sales_15  rel_games_15-16  rel_sales_15-16  count_16  sales_16  \n",
       "0    118.90            120.0             59.0       164     69.25  \n",
       "1     60.14            109.0             44.0        87     26.15  \n",
       "3     27.78             54.0             55.0        46     15.14  \n",
       "6      8.52            108.0             62.0        54      5.25  \n",
       "5     16.35             50.0             29.0        14      4.60  \n",
       "7      6.25             78.0             68.0        85      4.25  \n",
       "2     16.82             53.0             22.0        38      3.60  \n",
       "4     11.96             38.0             13.0        13      1.52  \n",
       "8      1.14             25.0             16.0         1      0.18  "
      ]
     },
     "execution_count": 35,
     "metadata": {},
     "output_type": "execute_result"
    }
   ],
   "source": [
    "platform_3y = platfrom_3y.sort_values(by='sales_16',ascending = False)\n",
    "platform_3y"
   ]
  },
  {
   "cell_type": "markdown",
   "metadata": {},
   "source": [
    "**Краткий вывод:**\n",
    "\n",
    "- Абсолютными лидерами по количеству выпускаемых играм и проданным копиям являются - PS4, XOne, 3DS - они встречаются в пятерке лидеров все 3 последних года. \n",
    "\n",
    "- WiiU отличается от остальных платформ сравнительно небольшим количеством продаж и стремительным падением. Однако испытыла падение продаж \n",
    "\n",
    "- PC также оказалась в 5 лидеров, количество выпускаемых игр для этой платформы также стабильно возрастает. \n",
    "\n",
    "- Аутсайдерами нашего рейтинга оказались - PSV, PS3, X360, Wii - платформы устарели и отжили свой цикл\n",
    "\n",
    "Как уже было сказано, 3DS стабильно падает последние годы, по таблице видно, что темп остается на уровне 50% по играм и продажам.\n",
    "\n",
    "\n",
    "***Фаворитами являются таким образом - PS4, XOne, PC, а WiiU, 3DS - является достаточно рискованной для серьезных трат (мало игр для одной и падение для другой)***"
   ]
  },
  {
   "cell_type": "markdown",
   "metadata": {},
   "source": [
    "Построим для каждой из этих платформ диаграмму boxplot:"
   ]
  },
  {
   "cell_type": "code",
   "execution_count": 36,
   "metadata": {},
   "outputs": [
    {
     "data": {
      "image/png": "[encoded data removed]",
      "text/plain": [
       "<Figure size 1080x720 with 1 Axes>"
      ]
     },
     "metadata": {},
     "output_type": "display_data"
    }
   ],
   "source": [
    "plt_names = platform_3y.iloc[:5,0].tolist()\n",
    "\n",
    "plt.figure(figsize=(15,10))\n",
    "ax = sns.boxplot(x=\"platform\", y=\"global_sales\", data=games.query('platform in @plt_names and year_of_release > 2013'))"
   ]
  },
  {
   "cell_type": "markdown",
   "metadata": {},
   "source": [
    "Это тот случай, когда выбросы - это хорошо :)\n",
    "\n",
    "- Выбивающиеся значения - это игры, которые были настолько популярны, что не уложили в обычное количество продаж.\n",
    "\n",
    "- По точкам можно заметить, что больше всего таких сверх-успешных проектов выпущено на PS4, 3DS, XOne , остальные платформы имеют меньшую плотность плотность, одна у них тоже есть своих хиты.\n",
    "\n",
    "- По границе в Q3+1.5*IQR наиболее популярные платформы - PS4, XOne, WiiU\n",
    "\n",
    "Таким образом, из нашей фаворитов мы выделяем 3 безопасных платформы - PS4, XOne, WiiU. 3DS и PC - занимают свою нишу."
   ]
  },
  {
   "cell_type": "markdown",
   "metadata": {},
   "source": [
    "## Поиск зависимости между оценками и продажами\n",
    "\n",
    "### на примере Playstation 4"
   ]
  },
  {
   "cell_type": "markdown",
   "metadata": {},
   "source": [
    "Отберем данные по игровой платформе и построим график рассеяния продаж игр от оценки критиков"
   ]
  },
  {
   "cell_type": "code",
   "execution_count": 37,
   "metadata": {},
   "outputs": [],
   "source": [
    "ps4_data = games.query('platform == \"PS4\"')"
   ]
  },
  {
   "cell_type": "code",
   "execution_count": 38,
   "metadata": {},
   "outputs": [
    {
     "data": {
      "image/png": "[encoded data removed]",
      "text/plain": [
       "<Figure size 432x432 with 3 Axes>"
      ]
     },
     "metadata": {},
     "output_type": "display_data"
    }
   ],
   "source": [
    "ax = sns.jointplot(x=\"global_sales\", y=\"critic_score\",\\\n",
    "                   kind=\"reg\", data=ps4_data[ps4_data['year_of_release'] < 2016])"
   ]
  },
  {
   "cell_type": "code",
   "execution_count": 39,
   "metadata": {},
   "outputs": [
    {
     "data": {
      "text/html": [
       "<div>\n",
       "<style scoped>\n",
       "    .dataframe tbody tr th:only-of-type {\n",
       "        vertical-align: middle;\n",
       "    }\n",
       "\n",
       "    .dataframe tbody tr th {\n",
       "        vertical-align: top;\n",
       "    }\n",
       "\n",
       "    .dataframe thead th {\n",
       "        text-align: right;\n",
       "    }\n",
       "</style>\n",
       "<table border=\"1\" class=\"dataframe\">\n",
       "  <thead>\n",
       "    <tr style=\"text-align: right;\">\n",
       "      <th></th>\n",
       "      <th>critic_score</th>\n",
       "      <th>global_sales</th>\n",
       "    </tr>\n",
       "  </thead>\n",
       "  <tbody>\n",
       "    <tr>\n",
       "      <td>critic_score</td>\n",
       "      <td>1.000000</td>\n",
       "      <td>0.431848</td>\n",
       "    </tr>\n",
       "    <tr>\n",
       "      <td>global_sales</td>\n",
       "      <td>0.431848</td>\n",
       "      <td>1.000000</td>\n",
       "    </tr>\n",
       "  </tbody>\n",
       "</table>\n",
       "</div>"
      ],
      "text/plain": [
       "              critic_score  global_sales\n",
       "critic_score      1.000000      0.431848\n",
       "global_sales      0.431848      1.000000"
      ]
     },
     "execution_count": 39,
     "metadata": {},
     "output_type": "execute_result"
    }
   ],
   "source": [
    "ps4_data[ps4_data['year_of_release'] < 2016][['critic_score','global_sales']].corr()"
   ]
  },
  {
   "cell_type": "markdown",
   "metadata": {},
   "source": [
    "Положительный наклон прямой показывает сонаправленность векторов признаков, то есть увеличение одного признака (оценок критиков) влечет за собой увеличение другого (глобальных продаж).\n",
    "\n",
    "Корреляция средняя"
   ]
  },
  {
   "cell_type": "markdown",
   "metadata": {},
   "source": [
    "**Изучим отношение между оценкой юзеров и продажами:**"
   ]
  },
  {
   "cell_type": "code",
   "execution_count": 40,
   "metadata": {},
   "outputs": [
    {
     "data": {
      "image/png": "[encoded data removed]",
      "text/plain": [
       "<Figure size 432x432 with 3 Axes>"
      ]
     },
     "metadata": {},
     "output_type": "display_data"
    }
   ],
   "source": [
    "ax = sns.jointplot(x=\"global_sales\", y=\"user_score\",\\\n",
    "                   kind=\"reg\", data=games.query('platform == \"PS4\" and year_of_release <2016'))"
   ]
  },
  {
   "cell_type": "code",
   "execution_count": 41,
   "metadata": {},
   "outputs": [
    {
     "data": {
      "text/html": [
       "<div>\n",
       "<style scoped>\n",
       "    .dataframe tbody tr th:only-of-type {\n",
       "        vertical-align: middle;\n",
       "    }\n",
       "\n",
       "    .dataframe tbody tr th {\n",
       "        vertical-align: top;\n",
       "    }\n",
       "\n",
       "    .dataframe thead th {\n",
       "        text-align: right;\n",
       "    }\n",
       "</style>\n",
       "<table border=\"1\" class=\"dataframe\">\n",
       "  <thead>\n",
       "    <tr style=\"text-align: right;\">\n",
       "      <th></th>\n",
       "      <th>user_score</th>\n",
       "      <th>global_sales</th>\n",
       "    </tr>\n",
       "  </thead>\n",
       "  <tbody>\n",
       "    <tr>\n",
       "      <td>user_score</td>\n",
       "      <td>1.000000</td>\n",
       "      <td>0.024231</td>\n",
       "    </tr>\n",
       "    <tr>\n",
       "      <td>global_sales</td>\n",
       "      <td>0.024231</td>\n",
       "      <td>1.000000</td>\n",
       "    </tr>\n",
       "  </tbody>\n",
       "</table>\n",
       "</div>"
      ],
      "text/plain": [
       "              user_score  global_sales\n",
       "user_score      1.000000      0.024231\n",
       "global_sales    0.024231      1.000000"
      ]
     },
     "execution_count": 41,
     "metadata": {},
     "output_type": "execute_result"
    }
   ],
   "source": [
    "ps4_data[ps4_data['year_of_release'] < 2016][['user_score','global_sales']].corr()"
   ]
  },
  {
   "cell_type": "markdown",
   "metadata": {},
   "source": [
    "Прямая почти горизонтальная, значит корреляци должна отсутстсвовать, что подтверждает посчитанный коэффициент корреляции. Связь очень слабая\n",
    "\n",
    "**А что происходит с другими платформами?**"
   ]
  },
  {
   "cell_type": "code",
   "execution_count": 42,
   "metadata": {},
   "outputs": [
    {
     "data": {
      "text/plain": [
       "<Figure size 1440x1080 with 0 Axes>"
      ]
     },
     "metadata": {},
     "output_type": "display_data"
    },
    {
     "data": {
      "image/png": "[encoded data removed]",
      "text/plain": [
       "<Figure size 609.6x540 with 12 Axes>"
      ]
     },
     "metadata": {},
     "output_type": "display_data"
    }
   ],
   "source": [
    "sns.set()\n",
    "plt.figure(figsize=(20,15))\n",
    "ax = sns.pairplot(games.query('platform in @plt_names and year_of_release <2016')[['platform',\\\n",
    "                                                    'global_sales','critic_score','user_score']],kind='reg' ,hue=\"platform\")\n",
    "\n",
    "plt.show()"
   ]
  },
  {
   "cell_type": "markdown",
   "metadata": {},
   "source": [
    "Как мы видим оценки игроков в большей степени актуальны для продаж игр на платформы WiiU, 3DS, оценки критиков являются более общей мерой успеха игры"
   ]
  },
  {
   "cell_type": "markdown",
   "metadata": {},
   "source": [
    "### А что с Европой?\n",
    "\n",
    "Посчитаем сопряженность признаков для Европейских продаж, на аудиторию которой мы в основном и ориентируемся."
   ]
  },
  {
   "cell_type": "code",
   "execution_count": 43,
   "metadata": {},
   "outputs": [
    {
     "data": {
      "text/html": [
       "<div>\n",
       "<style scoped>\n",
       "    .dataframe tbody tr th:only-of-type {\n",
       "        vertical-align: middle;\n",
       "    }\n",
       "\n",
       "    .dataframe tbody tr th {\n",
       "        vertical-align: top;\n",
       "    }\n",
       "\n",
       "    .dataframe thead th {\n",
       "        text-align: right;\n",
       "    }\n",
       "</style>\n",
       "<table border=\"1\" class=\"dataframe\">\n",
       "  <thead>\n",
       "    <tr style=\"text-align: right;\">\n",
       "      <th></th>\n",
       "      <th>user_score</th>\n",
       "      <th>eu_sales</th>\n",
       "    </tr>\n",
       "  </thead>\n",
       "  <tbody>\n",
       "    <tr>\n",
       "      <td>user_score</td>\n",
       "      <td>1.000000</td>\n",
       "      <td>-0.001902</td>\n",
       "    </tr>\n",
       "    <tr>\n",
       "      <td>eu_sales</td>\n",
       "      <td>-0.001902</td>\n",
       "      <td>1.000000</td>\n",
       "    </tr>\n",
       "  </tbody>\n",
       "</table>\n",
       "</div>"
      ],
      "text/plain": [
       "            user_score  eu_sales\n",
       "user_score    1.000000 -0.001902\n",
       "eu_sales     -0.001902  1.000000"
      ]
     },
     "execution_count": 43,
     "metadata": {},
     "output_type": "execute_result"
    }
   ],
   "source": [
    "ps4_data[ps4_data['year_of_release'] < 2016][['user_score','eu_sales']].corr()"
   ]
  },
  {
   "cell_type": "code",
   "execution_count": 44,
   "metadata": {},
   "outputs": [
    {
     "data": {
      "text/html": [
       "<div>\n",
       "<style scoped>\n",
       "    .dataframe tbody tr th:only-of-type {\n",
       "        vertical-align: middle;\n",
       "    }\n",
       "\n",
       "    .dataframe tbody tr th {\n",
       "        vertical-align: top;\n",
       "    }\n",
       "\n",
       "    .dataframe thead th {\n",
       "        text-align: right;\n",
       "    }\n",
       "</style>\n",
       "<table border=\"1\" class=\"dataframe\">\n",
       "  <thead>\n",
       "    <tr style=\"text-align: right;\">\n",
       "      <th></th>\n",
       "      <th>critic_score</th>\n",
       "      <th>eu_sales</th>\n",
       "    </tr>\n",
       "  </thead>\n",
       "  <tbody>\n",
       "    <tr>\n",
       "      <td>critic_score</td>\n",
       "      <td>1.000000</td>\n",
       "      <td>0.370752</td>\n",
       "    </tr>\n",
       "    <tr>\n",
       "      <td>eu_sales</td>\n",
       "      <td>0.370752</td>\n",
       "      <td>1.000000</td>\n",
       "    </tr>\n",
       "  </tbody>\n",
       "</table>\n",
       "</div>"
      ],
      "text/plain": [
       "              critic_score  eu_sales\n",
       "critic_score      1.000000  0.370752\n",
       "eu_sales          0.370752  1.000000"
      ]
     },
     "execution_count": 44,
     "metadata": {},
     "output_type": "execute_result"
    }
   ],
   "source": [
    "ps4_data[ps4_data['year_of_release'] < 2016][['critic_score','eu_sales']].corr()"
   ]
  },
  {
   "cell_type": "markdown",
   "metadata": {},
   "source": [
    "**Связь получилась менее значительной, чем в случае для глобального рынка**"
   ]
  },
  {
   "cell_type": "markdown",
   "metadata": {},
   "source": [
    "Разбитые по платформам диаграммы рассеивания отличаются для разных платформ. Для некоторых платформ (3DS, PS4, WiiU) видно, что высокие оценки критиков сопряжены, однако сила этой связи - невелика.\n",
    "\n",
    "Итак, мы не можем сказать, что оценка игры серьезно влияет на продажи по всему миру, однако есть средне-слабая корреляция между играми по оценке критиков. Значит, нужно найти ещё другие факторы, которые будут определять успешность игры на том или ином рынке. \n",
    "\n",
    "### Оценим распределение игр по жанрам"
   ]
  },
  {
   "cell_type": "code",
   "execution_count": 45,
   "metadata": {},
   "outputs": [
    {
     "data": {
      "text/html": [
       "<div>\n",
       "<style scoped>\n",
       "    .dataframe tbody tr th:only-of-type {\n",
       "        vertical-align: middle;\n",
       "    }\n",
       "\n",
       "    .dataframe tbody tr th {\n",
       "        vertical-align: top;\n",
       "    }\n",
       "\n",
       "    .dataframe thead th {\n",
       "        text-align: right;\n",
       "    }\n",
       "</style>\n",
       "<table border=\"1\" class=\"dataframe\">\n",
       "  <thead>\n",
       "    <tr style=\"text-align: right;\">\n",
       "      <th></th>\n",
       "      <th>genre</th>\n",
       "      <th>count</th>\n",
       "      <th>sum</th>\n",
       "    </tr>\n",
       "  </thead>\n",
       "  <tbody>\n",
       "    <tr>\n",
       "      <td>0</td>\n",
       "      <td>Action</td>\n",
       "      <td>1269</td>\n",
       "      <td>557.80</td>\n",
       "    </tr>\n",
       "    <tr>\n",
       "      <td>8</td>\n",
       "      <td>Shooter</td>\n",
       "      <td>329</td>\n",
       "      <td>402.91</td>\n",
       "    </tr>\n",
       "    <tr>\n",
       "      <td>7</td>\n",
       "      <td>Role-Playing</td>\n",
       "      <td>465</td>\n",
       "      <td>245.63</td>\n",
       "    </tr>\n",
       "    <tr>\n",
       "      <td>10</td>\n",
       "      <td>Sports</td>\n",
       "      <td>389</td>\n",
       "      <td>237.15</td>\n",
       "    </tr>\n",
       "    <tr>\n",
       "      <td>3</td>\n",
       "      <td>Misc</td>\n",
       "      <td>375</td>\n",
       "      <td>139.42</td>\n",
       "    </tr>\n",
       "  </tbody>\n",
       "</table>\n",
       "</div>"
      ],
      "text/plain": [
       "           genre  count     sum\n",
       "0         Action   1269  557.80\n",
       "8        Shooter    329  402.91\n",
       "7   Role-Playing    465  245.63\n",
       "10        Sports    389  237.15\n",
       "3           Misc    375  139.42"
      ]
     },
     "execution_count": 45,
     "metadata": {},
     "output_type": "execute_result"
    }
   ],
   "source": [
    "agg_genre = agg_plot(games, 'genre', 'global_sales',\\\n",
    "                     {'count', np.sum}, True).sort_values(by='sum', ascending = False)\n",
    "agg_genre.head()"
   ]
  },
  {
   "cell_type": "code",
   "execution_count": 46,
   "metadata": {},
   "outputs": [
    {
     "data": {
      "text/plain": [
       "Text(0, 0.5, 'млн. проданных копий')"
      ]
     },
     "execution_count": 46,
     "metadata": {},
     "output_type": "execute_result"
    },
    {
     "data": {
      "image/png": "[encoded data removed]",
      "text/plain": [
       "<Figure size 1080x720 with 1 Axes>"
      ]
     },
     "metadata": {},
     "output_type": "display_data"
    }
   ],
   "source": [
    "plt.figure(figsize=(15,10))\n",
    "plt.title('Количество проданных игр относительно жанра')\n",
    "\n",
    "\n",
    "ax = sns.barplot(x=\"genre\", y=\"sum\", hue=\"genre\", data=agg_genre.iloc[:5,:])\n",
    "\n",
    "plt.xlabel('Жанр')\n",
    "plt.ylabel('млн. проданных копий')"
   ]
  },
  {
   "cell_type": "markdown",
   "metadata": {},
   "source": [
    "Данный график проиллюстрировал нам ТОП-5 жанров видеоигр.\n",
    "\n",
    "**На данном этапе мы выделили общие закономерности для глобального рынка игровой индустрии:**\n",
    "\n",
    "- Каждая платформа существует пока на неё выпускают и продают новые игры. Среди срок существования игровой платформы - 8 лет\n",
    "\n",
    "- Существуют такие платформы, как PC и GB (уже закончил), которые живут дольше, однако имеют существенно меньшую долю рынка\n",
    "\n",
    "- Топ-5 популярных платформ в 2016-м году -  PS4, XOne, WiiU, Nintendo 3DS (в конце цикла), PC (вне категорий)\n",
    "\n",
    "- Коммерческая успешность видеоигры слабо зависит от её оценок игроками и критиками\n",
    "\n",
    "- Топ-5 самых популярных жанров включает в себя: приключения, шутеры, RPG, спорт и смешанного жанра\n",
    "\n",
    "Далее, нам предстоит провести общий анализ на региональных рынках."
   ]
  },
  {
   "cell_type": "markdown",
   "metadata": {},
   "source": [
    "## Выявление закономерностей внутри сегментов клиентов\n",
    "\n",
    "Выделим самые популярные платформы внутри каждого регионального рынка видеогр. Для этого напишем функцию (и даже вызовем ранее написанный метод)"
   ]
  },
  {
   "cell_type": "code",
   "execution_count": 47,
   "metadata": {},
   "outputs": [],
   "source": [
    "def get_top(base, y_lim, market, indexer, lim):\n",
    "    year = y_lim\n",
    "    agg_segment = agg_plot(games[games['year_of_release'] >= y_lim], base, market,\\\n",
    "                     {'count', np.sum}, indexer).sort_values(by='sum', ascending = False)\n",
    "    agg_segment.columns = ['games','volume']\n",
    "    agg_segment_volume = np.sum(agg_segment['volume'])\n",
    "    agg_segment['part_to_all,%'] = (agg_segment['volume'] / agg_segment_volume)*100\n",
    "    return agg_segment.iloc[:lim,:]"
   ]
  },
  {
   "cell_type": "markdown",
   "metadata": {},
   "source": [
    "## Европейский рынок\n",
    "\n",
    "### Истинно европейская платформа\n",
    "\n",
    "Посмотрим на долю рынка игр под каждую платформу за 3 и 6 лет."
   ]
  },
  {
   "cell_type": "code",
   "execution_count": 48,
   "metadata": {},
   "outputs": [
    {
     "data": {
      "text/html": [
       "<div>\n",
       "<style scoped>\n",
       "    .dataframe tbody tr th:only-of-type {\n",
       "        vertical-align: middle;\n",
       "    }\n",
       "\n",
       "    .dataframe tbody tr th {\n",
       "        vertical-align: top;\n",
       "    }\n",
       "\n",
       "    .dataframe thead th {\n",
       "        text-align: right;\n",
       "    }\n",
       "</style>\n",
       "<table border=\"1\" class=\"dataframe\">\n",
       "  <thead>\n",
       "    <tr style=\"text-align: right;\">\n",
       "      <th></th>\n",
       "      <th>games</th>\n",
       "      <th>volume</th>\n",
       "      <th>part_to_all,%</th>\n",
       "    </tr>\n",
       "    <tr>\n",
       "      <th>platform</th>\n",
       "      <th></th>\n",
       "      <th></th>\n",
       "      <th></th>\n",
       "    </tr>\n",
       "  </thead>\n",
       "  <tbody>\n",
       "    <tr>\n",
       "      <td>PS3</td>\n",
       "      <td>708</td>\n",
       "      <td>163.10</td>\n",
       "      <td>24.350916</td>\n",
       "    </tr>\n",
       "    <tr>\n",
       "      <td>PS4</td>\n",
       "      <td>392</td>\n",
       "      <td>141.09</td>\n",
       "      <td>21.064811</td>\n",
       "    </tr>\n",
       "    <tr>\n",
       "      <td>X360</td>\n",
       "      <td>498</td>\n",
       "      <td>117.10</td>\n",
       "      <td>17.483092</td>\n",
       "    </tr>\n",
       "    <tr>\n",
       "      <td>3DS</td>\n",
       "      <td>512</td>\n",
       "      <td>61.27</td>\n",
       "      <td>9.147643</td>\n",
       "    </tr>\n",
       "    <tr>\n",
       "      <td>PC</td>\n",
       "      <td>389</td>\n",
       "      <td>56.70</td>\n",
       "      <td>8.465340</td>\n",
       "    </tr>\n",
       "  </tbody>\n",
       "</table>\n",
       "</div>"
      ],
      "text/plain": [
       "          games  volume  part_to_all,%\n",
       "platform                              \n",
       "PS3         708  163.10      24.350916\n",
       "PS4         392  141.09      21.064811\n",
       "X360        498  117.10      17.483092\n",
       "3DS         512   61.27       9.147643\n",
       "PC          389   56.70       8.465340"
      ]
     },
     "execution_count": 48,
     "metadata": {},
     "output_type": "execute_result"
    }
   ],
   "source": [
    "top_plat_eu6 = get_top('platform', 2011, 'eu_sales', False, 5)\n",
    "top_plat_eu6"
   ]
  },
  {
   "cell_type": "markdown",
   "metadata": {},
   "source": [
    "Самый большой объем продаж пришелся на PS3, следующий на её потомка. Далее, Xbox 360, 3DS и персональные компьютеры."
   ]
  },
  {
   "cell_type": "code",
   "execution_count": 49,
   "metadata": {},
   "outputs": [
    {
     "data": {
      "text/html": [
       "<div>\n",
       "<style scoped>\n",
       "    .dataframe tbody tr th:only-of-type {\n",
       "        vertical-align: middle;\n",
       "    }\n",
       "\n",
       "    .dataframe tbody tr th {\n",
       "        vertical-align: top;\n",
       "    }\n",
       "\n",
       "    .dataframe thead th {\n",
       "        text-align: right;\n",
       "    }\n",
       "</style>\n",
       "<table border=\"1\" class=\"dataframe\">\n",
       "  <thead>\n",
       "    <tr style=\"text-align: right;\">\n",
       "      <th></th>\n",
       "      <th>games</th>\n",
       "      <th>volume</th>\n",
       "      <th>part_to_all,%</th>\n",
       "    </tr>\n",
       "    <tr>\n",
       "      <th>platform</th>\n",
       "      <th></th>\n",
       "      <th></th>\n",
       "      <th></th>\n",
       "    </tr>\n",
       "  </thead>\n",
       "  <tbody>\n",
       "    <tr>\n",
       "      <td>PS4</td>\n",
       "      <td>376</td>\n",
       "      <td>130.04</td>\n",
       "      <td>48.041968</td>\n",
       "    </tr>\n",
       "    <tr>\n",
       "      <td>XOne</td>\n",
       "      <td>228</td>\n",
       "      <td>46.25</td>\n",
       "      <td>17.086597</td>\n",
       "    </tr>\n",
       "    <tr>\n",
       "      <td>PS3</td>\n",
       "      <td>219</td>\n",
       "      <td>25.54</td>\n",
       "      <td>9.435496</td>\n",
       "    </tr>\n",
       "    <tr>\n",
       "      <td>PC</td>\n",
       "      <td>151</td>\n",
       "      <td>17.97</td>\n",
       "      <td>6.638836</td>\n",
       "    </tr>\n",
       "    <tr>\n",
       "      <td>3DS</td>\n",
       "      <td>212</td>\n",
       "      <td>16.12</td>\n",
       "      <td>5.955372</td>\n",
       "    </tr>\n",
       "  </tbody>\n",
       "</table>\n",
       "</div>"
      ],
      "text/plain": [
       "          games  volume  part_to_all,%\n",
       "platform                              \n",
       "PS4         376  130.04      48.041968\n",
       "XOne        228   46.25      17.086597\n",
       "PS3         219   25.54       9.435496\n",
       "PC          151   17.97       6.638836\n",
       "3DS         212   16.12       5.955372"
      ]
     },
     "execution_count": 49,
     "metadata": {},
     "output_type": "execute_result"
    }
   ],
   "source": [
    "top_plat_eu3 = get_top('platform', 2014, 'eu_sales', False, 5)\n",
    "top_plat_eu3"
   ]
  },
  {
   "cell_type": "markdown",
   "metadata": {},
   "source": [
    "А вот за последние 3 года положение дел изменилось. Абсолютным доминатом по продажам стала платформа PS4, следующая по популярности платформа имеет долю меньше почти в 3 раза.\n",
    "\n",
    "### Лучшая игра для джентельменов\n",
    "\n",
    "**Рассмотрим различные жанры по популярности среди европейских игроков за 6 лет:**"
   ]
  },
  {
   "cell_type": "code",
   "execution_count": 50,
   "metadata": {},
   "outputs": [
    {
     "data": {
      "text/html": [
       "<div>\n",
       "<style scoped>\n",
       "    .dataframe tbody tr th:only-of-type {\n",
       "        vertical-align: middle;\n",
       "    }\n",
       "\n",
       "    .dataframe tbody tr th {\n",
       "        vertical-align: top;\n",
       "    }\n",
       "\n",
       "    .dataframe thead th {\n",
       "        text-align: right;\n",
       "    }\n",
       "</style>\n",
       "<table border=\"1\" class=\"dataframe\">\n",
       "  <thead>\n",
       "    <tr style=\"text-align: right;\">\n",
       "      <th></th>\n",
       "      <th>games</th>\n",
       "      <th>volume</th>\n",
       "      <th>part_to_all,%</th>\n",
       "    </tr>\n",
       "    <tr>\n",
       "      <th>genre</th>\n",
       "      <th></th>\n",
       "      <th></th>\n",
       "      <th></th>\n",
       "    </tr>\n",
       "  </thead>\n",
       "  <tbody>\n",
       "    <tr>\n",
       "      <td>Action</td>\n",
       "      <td>1269</td>\n",
       "      <td>199.12</td>\n",
       "      <td>29.728721</td>\n",
       "    </tr>\n",
       "    <tr>\n",
       "      <td>Shooter</td>\n",
       "      <td>329</td>\n",
       "      <td>148.02</td>\n",
       "      <td>22.099464</td>\n",
       "    </tr>\n",
       "    <tr>\n",
       "      <td>Sports</td>\n",
       "      <td>389</td>\n",
       "      <td>88.48</td>\n",
       "      <td>13.210111</td>\n",
       "    </tr>\n",
       "    <tr>\n",
       "      <td>Role-Playing</td>\n",
       "      <td>465</td>\n",
       "      <td>62.30</td>\n",
       "      <td>9.301423</td>\n",
       "    </tr>\n",
       "    <tr>\n",
       "      <td>Racing</td>\n",
       "      <td>180</td>\n",
       "      <td>40.58</td>\n",
       "      <td>6.058615</td>\n",
       "    </tr>\n",
       "  </tbody>\n",
       "</table>\n",
       "</div>"
      ],
      "text/plain": [
       "              games  volume  part_to_all,%\n",
       "genre                                     \n",
       "Action         1269  199.12      29.728721\n",
       "Shooter         329  148.02      22.099464\n",
       "Sports          389   88.48      13.210111\n",
       "Role-Playing    465   62.30       9.301423\n",
       "Racing          180   40.58       6.058615"
      ]
     },
     "execution_count": 50,
     "metadata": {},
     "output_type": "execute_result"
    }
   ],
   "source": [
    "top_gen_eu6 = get_top('genre', 2011, 'eu_sales', False, 5)\n",
    "top_gen_eu6"
   ]
  },
  {
   "cell_type": "markdown",
   "metadata": {},
   "source": [
    "**И за 3 года:**"
   ]
  },
  {
   "cell_type": "code",
   "execution_count": 51,
   "metadata": {},
   "outputs": [
    {
     "data": {
      "text/html": [
       "<div>\n",
       "<style scoped>\n",
       "    .dataframe tbody tr th:only-of-type {\n",
       "        vertical-align: middle;\n",
       "    }\n",
       "\n",
       "    .dataframe tbody tr th {\n",
       "        vertical-align: top;\n",
       "    }\n",
       "\n",
       "    .dataframe thead th {\n",
       "        text-align: right;\n",
       "    }\n",
       "</style>\n",
       "<table border=\"1\" class=\"dataframe\">\n",
       "  <thead>\n",
       "    <tr style=\"text-align: right;\">\n",
       "      <th></th>\n",
       "      <th>games</th>\n",
       "      <th>volume</th>\n",
       "      <th>part_to_all,%</th>\n",
       "    </tr>\n",
       "    <tr>\n",
       "      <th>genre</th>\n",
       "      <th></th>\n",
       "      <th></th>\n",
       "      <th></th>\n",
       "    </tr>\n",
       "  </thead>\n",
       "  <tbody>\n",
       "    <tr>\n",
       "      <td>Action</td>\n",
       "      <td>619</td>\n",
       "      <td>74.68</td>\n",
       "      <td>27.589774</td>\n",
       "    </tr>\n",
       "    <tr>\n",
       "      <td>Shooter</td>\n",
       "      <td>128</td>\n",
       "      <td>65.52</td>\n",
       "      <td>24.205704</td>\n",
       "    </tr>\n",
       "    <tr>\n",
       "      <td>Sports</td>\n",
       "      <td>161</td>\n",
       "      <td>45.73</td>\n",
       "      <td>16.894488</td>\n",
       "    </tr>\n",
       "    <tr>\n",
       "      <td>Role-Playing</td>\n",
       "      <td>221</td>\n",
       "      <td>28.17</td>\n",
       "      <td>10.407123</td>\n",
       "    </tr>\n",
       "    <tr>\n",
       "      <td>Racing</td>\n",
       "      <td>69</td>\n",
       "      <td>14.13</td>\n",
       "      <td>5.220186</td>\n",
       "    </tr>\n",
       "  </tbody>\n",
       "</table>\n",
       "</div>"
      ],
      "text/plain": [
       "              games  volume  part_to_all,%\n",
       "genre                                     \n",
       "Action          619   74.68      27.589774\n",
       "Shooter         128   65.52      24.205704\n",
       "Sports          161   45.73      16.894488\n",
       "Role-Playing    221   28.17      10.407123\n",
       "Racing           69   14.13       5.220186"
      ]
     },
     "execution_count": 51,
     "metadata": {},
     "output_type": "execute_result"
    }
   ],
   "source": [
    "top_gen_eu3 = get_top('genre', 2014, 'eu_sales', False, 5)\n",
    "top_gen_eu3"
   ]
  },
  {
   "cell_type": "markdown",
   "metadata": {},
   "source": [
    "Краткий вывод:\n",
    "\n",
    "- Европейские игроки предпочитают покупать эксклюзивы, которые отбирает для себя Sony под свои платформы\n",
    "\n",
    "- Самая популярная платформа - PS3 (6 лет) и её преемница Playstation 4 - абсолютный лидер по доле рынка видеоигр (48%) за послдение 3 года.\n",
    "\n",
    "- Следующей по популярности является XOne, отдавшая свои позиции PS3, а также PC, которая сместила 3DS с 4-го на 5-ое место\n",
    "\n",
    "- Доли продаж по жанрам относительно стабильны за последние 3 и 6 лет\n",
    "\n",
    "- ТОП-5 рынка заняли видеоигры из жанров - Action(27%), Shooter\t(24%), Sports(17%), Role-Playing(10,4%), Racing (5%). \n",
    "\n",
    "- Хорошая игра для игроков из Европы - эксклюзив под PS4 в жанре Action, Shooter или Sports"
   ]
  },
  {
   "cell_type": "markdown",
   "metadata": {},
   "source": [
    "## Северо-американский рынок\n",
    "\n",
    "### Платформа от американцев американцам\n",
    "\n",
    "**Объем рынка игр для платформ за последние 6 лет:**"
   ]
  },
  {
   "cell_type": "code",
   "execution_count": 52,
   "metadata": {},
   "outputs": [
    {
     "data": {
      "text/html": [
       "<div>\n",
       "<style scoped>\n",
       "    .dataframe tbody tr th:only-of-type {\n",
       "        vertical-align: middle;\n",
       "    }\n",
       "\n",
       "    .dataframe tbody tr th {\n",
       "        vertical-align: top;\n",
       "    }\n",
       "\n",
       "    .dataframe thead th {\n",
       "        text-align: right;\n",
       "    }\n",
       "</style>\n",
       "<table border=\"1\" class=\"dataframe\">\n",
       "  <thead>\n",
       "    <tr style=\"text-align: right;\">\n",
       "      <th></th>\n",
       "      <th>games</th>\n",
       "      <th>volume</th>\n",
       "      <th>part_to_all,%</th>\n",
       "    </tr>\n",
       "    <tr>\n",
       "      <th>platform</th>\n",
       "      <th></th>\n",
       "      <th></th>\n",
       "      <th></th>\n",
       "    </tr>\n",
       "  </thead>\n",
       "  <tbody>\n",
       "    <tr>\n",
       "      <td>X360</td>\n",
       "      <td>498</td>\n",
       "      <td>226.80</td>\n",
       "      <td>27.333205</td>\n",
       "    </tr>\n",
       "    <tr>\n",
       "      <td>PS3</td>\n",
       "      <td>708</td>\n",
       "      <td>168.26</td>\n",
       "      <td>20.278153</td>\n",
       "    </tr>\n",
       "    <tr>\n",
       "      <td>PS4</td>\n",
       "      <td>392</td>\n",
       "      <td>108.74</td>\n",
       "      <td>13.104994</td>\n",
       "    </tr>\n",
       "    <tr>\n",
       "      <td>XOne</td>\n",
       "      <td>247</td>\n",
       "      <td>93.12</td>\n",
       "      <td>11.222522</td>\n",
       "    </tr>\n",
       "    <tr>\n",
       "      <td>3DS</td>\n",
       "      <td>512</td>\n",
       "      <td>82.65</td>\n",
       "      <td>9.960712</td>\n",
       "    </tr>\n",
       "  </tbody>\n",
       "</table>\n",
       "</div>"
      ],
      "text/plain": [
       "          games  volume  part_to_all,%\n",
       "platform                              \n",
       "X360        498  226.80      27.333205\n",
       "PS3         708  168.26      20.278153\n",
       "PS4         392  108.74      13.104994\n",
       "XOne        247   93.12      11.222522\n",
       "3DS         512   82.65       9.960712"
      ]
     },
     "execution_count": 52,
     "metadata": {},
     "output_type": "execute_result"
    }
   ],
   "source": [
    "top_plat_na6 = get_top('platform', 2011, 'na_sales', False, 5)\n",
    "top_plat_na6"
   ]
  },
  {
   "cell_type": "markdown",
   "metadata": {},
   "source": [
    "**Объем рынка игр для платформ за последние 3 года:**"
   ]
  },
  {
   "cell_type": "code",
   "execution_count": 53,
   "metadata": {},
   "outputs": [
    {
     "data": {
      "text/html": [
       "<div>\n",
       "<style scoped>\n",
       "    .dataframe tbody tr th:only-of-type {\n",
       "        vertical-align: middle;\n",
       "    }\n",
       "\n",
       "    .dataframe tbody tr th {\n",
       "        vertical-align: top;\n",
       "    }\n",
       "\n",
       "    .dataframe thead th {\n",
       "        text-align: right;\n",
       "    }\n",
       "</style>\n",
       "<table border=\"1\" class=\"dataframe\">\n",
       "  <thead>\n",
       "    <tr style=\"text-align: right;\">\n",
       "      <th></th>\n",
       "      <th>games</th>\n",
       "      <th>volume</th>\n",
       "      <th>part_to_all,%</th>\n",
       "    </tr>\n",
       "    <tr>\n",
       "      <th>platform</th>\n",
       "      <th></th>\n",
       "      <th></th>\n",
       "      <th></th>\n",
       "    </tr>\n",
       "  </thead>\n",
       "  <tbody>\n",
       "    <tr>\n",
       "      <td>PS4</td>\n",
       "      <td>376</td>\n",
       "      <td>98.61</td>\n",
       "      <td>34.714497</td>\n",
       "    </tr>\n",
       "    <tr>\n",
       "      <td>XOne</td>\n",
       "      <td>228</td>\n",
       "      <td>81.27</td>\n",
       "      <td>28.610153</td>\n",
       "    </tr>\n",
       "    <tr>\n",
       "      <td>X360</td>\n",
       "      <td>111</td>\n",
       "      <td>28.30</td>\n",
       "      <td>9.962684</td>\n",
       "    </tr>\n",
       "    <tr>\n",
       "      <td>3DS</td>\n",
       "      <td>212</td>\n",
       "      <td>22.64</td>\n",
       "      <td>7.970147</td>\n",
       "    </tr>\n",
       "    <tr>\n",
       "      <td>PS3</td>\n",
       "      <td>219</td>\n",
       "      <td>22.05</td>\n",
       "      <td>7.762445</td>\n",
       "    </tr>\n",
       "  </tbody>\n",
       "</table>\n",
       "</div>"
      ],
      "text/plain": [
       "          games  volume  part_to_all,%\n",
       "platform                              \n",
       "PS4         376   98.61      34.714497\n",
       "XOne        228   81.27      28.610153\n",
       "X360        111   28.30       9.962684\n",
       "3DS         212   22.64       7.970147\n",
       "PS3         219   22.05       7.762445"
      ]
     },
     "execution_count": 53,
     "metadata": {},
     "output_type": "execute_result"
    }
   ],
   "source": [
    "top_plat_na3 = get_top('platform', 2014, 'na_sales', False, 5)\n",
    "top_plat_na3"
   ]
  },
  {
   "cell_type": "markdown",
   "metadata": {},
   "source": [
    "Лидером за 6 лет была платформа Xbox360, за ней PS3 (с отрывом в 7%) и PS4 (такой же отрыв)\n",
    "\n",
    "За последние 3 года большую часть рынка заняли приставки последнего поколения за ними меньшую долю делят приставки прошлого поколения"
   ]
  },
  {
   "cell_type": "markdown",
   "metadata": {},
   "source": [
    "**За последние 6 лет:**"
   ]
  },
  {
   "cell_type": "code",
   "execution_count": 54,
   "metadata": {},
   "outputs": [
    {
     "data": {
      "text/html": [
       "<div>\n",
       "<style scoped>\n",
       "    .dataframe tbody tr th:only-of-type {\n",
       "        vertical-align: middle;\n",
       "    }\n",
       "\n",
       "    .dataframe tbody tr th {\n",
       "        vertical-align: top;\n",
       "    }\n",
       "\n",
       "    .dataframe thead th {\n",
       "        text-align: right;\n",
       "    }\n",
       "</style>\n",
       "<table border=\"1\" class=\"dataframe\">\n",
       "  <thead>\n",
       "    <tr style=\"text-align: right;\">\n",
       "      <th></th>\n",
       "      <th>games</th>\n",
       "      <th>volume</th>\n",
       "      <th>part_to_all,%</th>\n",
       "    </tr>\n",
       "    <tr>\n",
       "      <th>genre</th>\n",
       "      <th></th>\n",
       "      <th></th>\n",
       "      <th></th>\n",
       "    </tr>\n",
       "  </thead>\n",
       "  <tbody>\n",
       "    <tr>\n",
       "      <td>Action</td>\n",
       "      <td>1269</td>\n",
       "      <td>230.92</td>\n",
       "      <td>27.829734</td>\n",
       "    </tr>\n",
       "    <tr>\n",
       "      <td>Shooter</td>\n",
       "      <td>329</td>\n",
       "      <td>194.43</td>\n",
       "      <td>23.432077</td>\n",
       "    </tr>\n",
       "    <tr>\n",
       "      <td>Sports</td>\n",
       "      <td>389</td>\n",
       "      <td>108.70</td>\n",
       "      <td>13.100174</td>\n",
       "    </tr>\n",
       "    <tr>\n",
       "      <td>Role-Playing</td>\n",
       "      <td>465</td>\n",
       "      <td>83.78</td>\n",
       "      <td>10.096895</td>\n",
       "    </tr>\n",
       "    <tr>\n",
       "      <td>Misc</td>\n",
       "      <td>375</td>\n",
       "      <td>69.69</td>\n",
       "      <td>8.398814</td>\n",
       "    </tr>\n",
       "  </tbody>\n",
       "</table>\n",
       "</div>"
      ],
      "text/plain": [
       "              games  volume  part_to_all,%\n",
       "genre                                     \n",
       "Action         1269  230.92      27.829734\n",
       "Shooter         329  194.43      23.432077\n",
       "Sports          389  108.70      13.100174\n",
       "Role-Playing    465   83.78      10.096895\n",
       "Misc            375   69.69       8.398814"
      ]
     },
     "execution_count": 54,
     "metadata": {},
     "output_type": "execute_result"
    }
   ],
   "source": [
    "top_gen_na6 = get_top('genre', 2011, 'na_sales', False, 5)\n",
    "top_gen_na6"
   ]
  },
  {
   "cell_type": "markdown",
   "metadata": {},
   "source": [
    "### Старый и Новый свет сошлись в предпочтениях"
   ]
  },
  {
   "cell_type": "markdown",
   "metadata": {},
   "source": [
    "**TOP-5 жанров за последние 3 года:**"
   ]
  },
  {
   "cell_type": "code",
   "execution_count": 55,
   "metadata": {},
   "outputs": [
    {
     "data": {
      "text/html": [
       "<div>\n",
       "<style scoped>\n",
       "    .dataframe tbody tr th:only-of-type {\n",
       "        vertical-align: middle;\n",
       "    }\n",
       "\n",
       "    .dataframe tbody tr th {\n",
       "        vertical-align: top;\n",
       "    }\n",
       "\n",
       "    .dataframe thead th {\n",
       "        text-align: right;\n",
       "    }\n",
       "</style>\n",
       "<table border=\"1\" class=\"dataframe\">\n",
       "  <thead>\n",
       "    <tr style=\"text-align: right;\">\n",
       "      <th></th>\n",
       "      <th>games</th>\n",
       "      <th>volume</th>\n",
       "      <th>part_to_all,%</th>\n",
       "    </tr>\n",
       "    <tr>\n",
       "      <th>genre</th>\n",
       "      <th></th>\n",
       "      <th></th>\n",
       "      <th></th>\n",
       "    </tr>\n",
       "  </thead>\n",
       "  <tbody>\n",
       "    <tr>\n",
       "      <td>Action</td>\n",
       "      <td>1269</td>\n",
       "      <td>230.92</td>\n",
       "      <td>27.829734</td>\n",
       "    </tr>\n",
       "    <tr>\n",
       "      <td>Shooter</td>\n",
       "      <td>329</td>\n",
       "      <td>194.43</td>\n",
       "      <td>23.432077</td>\n",
       "    </tr>\n",
       "    <tr>\n",
       "      <td>Sports</td>\n",
       "      <td>389</td>\n",
       "      <td>108.70</td>\n",
       "      <td>13.100174</td>\n",
       "    </tr>\n",
       "    <tr>\n",
       "      <td>Role-Playing</td>\n",
       "      <td>465</td>\n",
       "      <td>83.78</td>\n",
       "      <td>10.096895</td>\n",
       "    </tr>\n",
       "    <tr>\n",
       "      <td>Misc</td>\n",
       "      <td>375</td>\n",
       "      <td>69.69</td>\n",
       "      <td>8.398814</td>\n",
       "    </tr>\n",
       "  </tbody>\n",
       "</table>\n",
       "</div>"
      ],
      "text/plain": [
       "              games  volume  part_to_all,%\n",
       "genre                                     \n",
       "Action         1269  230.92      27.829734\n",
       "Shooter         329  194.43      23.432077\n",
       "Sports          389  108.70      13.100174\n",
       "Role-Playing    465   83.78      10.096895\n",
       "Misc            375   69.69       8.398814"
      ]
     },
     "execution_count": 55,
     "metadata": {},
     "output_type": "execute_result"
    }
   ],
   "source": [
    "top_gen_na3 = get_top('genre', 2014, 'na_sales', False, 5)\n",
    "top_gen_na6"
   ]
  },
  {
   "cell_type": "markdown",
   "metadata": {},
   "source": [
    "Краткий вывод:\n",
    "\n",
    "- Американские игроки предпочитают покупать эксклюзивы, которые отбирает для себя Sony под свои платформы\n",
    "\n",
    "- Самая популярная платформа за 6 лет - Xbox360, однако последние 3 года вперед вышла приставка от Sony - PS4 (35%), следом - XOne (29.5%)\n",
    "\n",
    "- За последние 3 года большую часть рынка делят между собой PS4 & XOne (62%), следом за ним с долей до 10% -\n",
    "\n",
    "- Доли продаж по жанрам стабильны за последние 3 и 6 лет\n",
    "\n",
    "- ТОП-5 рынка заняли видеоигры из жанров - Action(28%), Shooter\t(24.5%), Sports(13%), Role-Playing(10,4%), Misc (8%). \n",
    "\n",
    "- Хорошая игра для игроков из Америки - игры для PS4 и XOne в жанре Action, Shooter или Sports\n"
   ]
  },
  {
   "cell_type": "markdown",
   "metadata": {},
   "source": [
    "<div class=\"alert alert-success\">\n",
    "<h2> Комментарий ревьюера</h2>\n",
    "\n",
    "В том числе каждый расчет можно было бы визуализировать с помощью круговых диаграмм. \n",
    "\n",
    "</div>"
   ]
  },
  {
   "cell_type": "markdown",
   "metadata": {},
   "source": [
    "## Японский рынок\n",
    "\n",
    "### Мобильный консерватизм\n",
    "\n",
    "**Объем игр для разных платформ за 6 лет:**"
   ]
  },
  {
   "cell_type": "code",
   "execution_count": 56,
   "metadata": {},
   "outputs": [
    {
     "data": {
      "text/html": [
       "<div>\n",
       "<style scoped>\n",
       "    .dataframe tbody tr th:only-of-type {\n",
       "        vertical-align: middle;\n",
       "    }\n",
       "\n",
       "    .dataframe tbody tr th {\n",
       "        vertical-align: top;\n",
       "    }\n",
       "\n",
       "    .dataframe thead th {\n",
       "        text-align: right;\n",
       "    }\n",
       "</style>\n",
       "<table border=\"1\" class=\"dataframe\">\n",
       "  <thead>\n",
       "    <tr style=\"text-align: right;\">\n",
       "      <th></th>\n",
       "      <th>games</th>\n",
       "      <th>volume</th>\n",
       "      <th>part_to_all,%</th>\n",
       "    </tr>\n",
       "    <tr>\n",
       "      <th>platform</th>\n",
       "      <th></th>\n",
       "      <th></th>\n",
       "      <th></th>\n",
       "    </tr>\n",
       "  </thead>\n",
       "  <tbody>\n",
       "    <tr>\n",
       "      <td>3DS</td>\n",
       "      <td>512</td>\n",
       "      <td>100.62</td>\n",
       "      <td>40.960716</td>\n",
       "    </tr>\n",
       "    <tr>\n",
       "      <td>PS3</td>\n",
       "      <td>708</td>\n",
       "      <td>49.39</td>\n",
       "      <td>20.105842</td>\n",
       "    </tr>\n",
       "    <tr>\n",
       "      <td>PSP</td>\n",
       "      <td>312</td>\n",
       "      <td>24.04</td>\n",
       "      <td>9.786281</td>\n",
       "    </tr>\n",
       "    <tr>\n",
       "      <td>PSV</td>\n",
       "      <td>429</td>\n",
       "      <td>21.84</td>\n",
       "      <td>8.890698</td>\n",
       "    </tr>\n",
       "    <tr>\n",
       "      <td>PS4</td>\n",
       "      <td>392</td>\n",
       "      <td>15.96</td>\n",
       "      <td>6.497049</td>\n",
       "    </tr>\n",
       "  </tbody>\n",
       "</table>\n",
       "</div>"
      ],
      "text/plain": [
       "          games  volume  part_to_all,%\n",
       "platform                              \n",
       "3DS         512  100.62      40.960716\n",
       "PS3         708   49.39      20.105842\n",
       "PSP         312   24.04       9.786281\n",
       "PSV         429   21.84       8.890698\n",
       "PS4         392   15.96       6.497049"
      ]
     },
     "execution_count": 56,
     "metadata": {},
     "output_type": "execute_result"
    }
   ],
   "source": [
    "top_plt_jp6 = get_top('platform', 2011, 'jp_sales', False, 5)\n",
    "top_plt_jp6"
   ]
  },
  {
   "cell_type": "markdown",
   "metadata": {},
   "source": [
    "**TOP-5 объемов игр для разных платформ за 3 года:**"
   ]
  },
  {
   "cell_type": "code",
   "execution_count": 57,
   "metadata": {},
   "outputs": [
    {
     "data": {
      "text/html": [
       "<div>\n",
       "<style scoped>\n",
       "    .dataframe tbody tr th:only-of-type {\n",
       "        vertical-align: middle;\n",
       "    }\n",
       "\n",
       "    .dataframe tbody tr th {\n",
       "        vertical-align: top;\n",
       "    }\n",
       "\n",
       "    .dataframe thead th {\n",
       "        text-align: right;\n",
       "    }\n",
       "</style>\n",
       "<table border=\"1\" class=\"dataframe\">\n",
       "  <thead>\n",
       "    <tr style=\"text-align: right;\">\n",
       "      <th></th>\n",
       "      <th>games</th>\n",
       "      <th>volume</th>\n",
       "      <th>part_to_all,%</th>\n",
       "    </tr>\n",
       "    <tr>\n",
       "      <th>platform</th>\n",
       "      <th></th>\n",
       "      <th></th>\n",
       "      <th></th>\n",
       "    </tr>\n",
       "  </thead>\n",
       "  <tbody>\n",
       "    <tr>\n",
       "      <td>3DS</td>\n",
       "      <td>212</td>\n",
       "      <td>44.24</td>\n",
       "      <td>47.523902</td>\n",
       "    </tr>\n",
       "    <tr>\n",
       "      <td>PS4</td>\n",
       "      <td>376</td>\n",
       "      <td>15.02</td>\n",
       "      <td>16.134923</td>\n",
       "    </tr>\n",
       "    <tr>\n",
       "      <td>PSV</td>\n",
       "      <td>295</td>\n",
       "      <td>14.54</td>\n",
       "      <td>15.619293</td>\n",
       "    </tr>\n",
       "    <tr>\n",
       "      <td>PS3</td>\n",
       "      <td>219</td>\n",
       "      <td>11.22</td>\n",
       "      <td>12.052852</td>\n",
       "    </tr>\n",
       "    <tr>\n",
       "      <td>WiiU</td>\n",
       "      <td>73</td>\n",
       "      <td>7.31</td>\n",
       "      <td>7.852616</td>\n",
       "    </tr>\n",
       "  </tbody>\n",
       "</table>\n",
       "</div>"
      ],
      "text/plain": [
       "          games  volume  part_to_all,%\n",
       "platform                              \n",
       "3DS         212   44.24      47.523902\n",
       "PS4         376   15.02      16.134923\n",
       "PSV         295   14.54      15.619293\n",
       "PS3         219   11.22      12.052852\n",
       "WiiU         73    7.31       7.852616"
      ]
     },
     "execution_count": 57,
     "metadata": {},
     "output_type": "execute_result"
    }
   ],
   "source": [
    "top_plt_jp3 = get_top('platform', 2014, 'jp_sales', False, 5)\n",
    "top_plt_jp3"
   ]
  },
  {
   "cell_type": "markdown",
   "metadata": {},
   "source": [
    "Японский рынок показал серьезное отличие от других рынков. Самая популярная платформа - Nintendo 3DS - не изменилась, а только увеличила объем рынка, причем увеличилась доля рынка для этой платформы, которая падает на других рынках.\n",
    "\n",
    "А что с жанрами?\n",
    "\n",
    "### Последняя фантазия"
   ]
  },
  {
   "cell_type": "markdown",
   "metadata": {},
   "source": [
    "**TOP-5 объемов продаж игр в разных жанрах за 6 лет:**"
   ]
  },
  {
   "cell_type": "code",
   "execution_count": 58,
   "metadata": {},
   "outputs": [
    {
     "data": {
      "text/html": [
       "<div>\n",
       "<style scoped>\n",
       "    .dataframe tbody tr th:only-of-type {\n",
       "        vertical-align: middle;\n",
       "    }\n",
       "\n",
       "    .dataframe tbody tr th {\n",
       "        vertical-align: top;\n",
       "    }\n",
       "\n",
       "    .dataframe thead th {\n",
       "        text-align: right;\n",
       "    }\n",
       "</style>\n",
       "<table border=\"1\" class=\"dataframe\">\n",
       "  <thead>\n",
       "    <tr style=\"text-align: right;\">\n",
       "      <th></th>\n",
       "      <th>games</th>\n",
       "      <th>volume</th>\n",
       "      <th>part_to_all,%</th>\n",
       "    </tr>\n",
       "    <tr>\n",
       "      <th>genre</th>\n",
       "      <th></th>\n",
       "      <th></th>\n",
       "      <th></th>\n",
       "    </tr>\n",
       "  </thead>\n",
       "  <tbody>\n",
       "    <tr>\n",
       "      <td>Role-Playing</td>\n",
       "      <td>465</td>\n",
       "      <td>79.87</td>\n",
       "      <td>32.513739</td>\n",
       "    </tr>\n",
       "    <tr>\n",
       "      <td>Action</td>\n",
       "      <td>1269</td>\n",
       "      <td>63.62</td>\n",
       "      <td>25.898636</td>\n",
       "    </tr>\n",
       "    <tr>\n",
       "      <td>Misc</td>\n",
       "      <td>375</td>\n",
       "      <td>17.60</td>\n",
       "      <td>7.164665</td>\n",
       "    </tr>\n",
       "    <tr>\n",
       "      <td>Fighting</td>\n",
       "      <td>159</td>\n",
       "      <td>12.38</td>\n",
       "      <td>5.039691</td>\n",
       "    </tr>\n",
       "    <tr>\n",
       "      <td>Platform</td>\n",
       "      <td>122</td>\n",
       "      <td>12.13</td>\n",
       "      <td>4.937920</td>\n",
       "    </tr>\n",
       "  </tbody>\n",
       "</table>\n",
       "</div>"
      ],
      "text/plain": [
       "              games  volume  part_to_all,%\n",
       "genre                                     \n",
       "Role-Playing    465   79.87      32.513739\n",
       "Action         1269   63.62      25.898636\n",
       "Misc            375   17.60       7.164665\n",
       "Fighting        159   12.38       5.039691\n",
       "Platform        122   12.13       4.937920"
      ]
     },
     "execution_count": 58,
     "metadata": {},
     "output_type": "execute_result"
    }
   ],
   "source": [
    "top_gen_jp6 = get_top('genre', 2011, 'jp_sales', False, 5)\n",
    "top_gen_jp6"
   ]
  },
  {
   "cell_type": "markdown",
   "metadata": {},
   "source": [
    "**TOP-5 объемов продаж игр в разных жанрах за 6 лет:**"
   ]
  },
  {
   "cell_type": "code",
   "execution_count": 59,
   "metadata": {
    "scrolled": true
   },
   "outputs": [
    {
     "data": {
      "text/html": [
       "<div>\n",
       "<style scoped>\n",
       "    .dataframe tbody tr th:only-of-type {\n",
       "        vertical-align: middle;\n",
       "    }\n",
       "\n",
       "    .dataframe tbody tr th {\n",
       "        vertical-align: top;\n",
       "    }\n",
       "\n",
       "    .dataframe thead th {\n",
       "        text-align: right;\n",
       "    }\n",
       "</style>\n",
       "<table border=\"1\" class=\"dataframe\">\n",
       "  <thead>\n",
       "    <tr style=\"text-align: right;\">\n",
       "      <th></th>\n",
       "      <th>games</th>\n",
       "      <th>volume</th>\n",
       "      <th>part_to_all,%</th>\n",
       "    </tr>\n",
       "    <tr>\n",
       "      <th>genre</th>\n",
       "      <th></th>\n",
       "      <th></th>\n",
       "      <th></th>\n",
       "    </tr>\n",
       "  </thead>\n",
       "  <tbody>\n",
       "    <tr>\n",
       "      <td>Role-Playing</td>\n",
       "      <td>221</td>\n",
       "      <td>31.16</td>\n",
       "      <td>33.472983</td>\n",
       "    </tr>\n",
       "    <tr>\n",
       "      <td>Action</td>\n",
       "      <td>619</td>\n",
       "      <td>29.58</td>\n",
       "      <td>31.775701</td>\n",
       "    </tr>\n",
       "    <tr>\n",
       "      <td>Fighting</td>\n",
       "      <td>60</td>\n",
       "      <td>6.37</td>\n",
       "      <td>6.842840</td>\n",
       "    </tr>\n",
       "    <tr>\n",
       "      <td>Misc</td>\n",
       "      <td>113</td>\n",
       "      <td>5.61</td>\n",
       "      <td>6.026426</td>\n",
       "    </tr>\n",
       "    <tr>\n",
       "      <td>Shooter</td>\n",
       "      <td>128</td>\n",
       "      <td>4.87</td>\n",
       "      <td>5.231496</td>\n",
       "    </tr>\n",
       "  </tbody>\n",
       "</table>\n",
       "</div>"
      ],
      "text/plain": [
       "              games  volume  part_to_all,%\n",
       "genre                                     \n",
       "Role-Playing    221   31.16      33.472983\n",
       "Action          619   29.58      31.775701\n",
       "Fighting         60    6.37       6.842840\n",
       "Misc            113    5.61       6.026426\n",
       "Shooter         128    4.87       5.231496"
      ]
     },
     "execution_count": 59,
     "metadata": {},
     "output_type": "execute_result"
    }
   ],
   "source": [
    "top_gen_jp3 = get_top('genre', 2014, 'jp_sales', False, 5)\n",
    "top_gen_jp3"
   ]
  },
  {
   "cell_type": "markdown",
   "metadata": {},
   "source": [
    "Краткий вывод:\n",
    "\n",
    "- Японские игроки предпочитают покупать эксклюзивы, которые предназначены для портативной консоли Nintendo 3DS\n",
    "\n",
    "- Самая популярная платформа за 6 лет - Nintendo 3DS (40%), которая сохранила лидеров и в срезе за последние 3 года (48%)\n",
    "\n",
    "- Стабильно за приставкой от Nintendo - домашняя консоль от Sony - PS3 (6 лет), PS4 (3 года), с гораздо меньшей долей рынка\n",
    "\n",
    "- Интересы игроков отличаются от игроков из других частей света\n",
    "\n",
    "- В 3-х летний период ТОП-5 рынка заняли видеоигры из жанров - Role-playing (33%), Action (31.7%), Figthing(6.8%), Misc (6%), Shooter(5.2%). \n",
    "\n",
    "- Хорошая игра для игроков из Японии - игры для Nintendo 3DS или PS4 в жанре RPG, Action.ё"
   ]
  },
  {
   "cell_type": "markdown",
   "metadata": {},
   "source": [
    "### Влияние рейтинга ESRB на продажи\n",
    "\n",
    "Справка о данном рейтинге:\n",
    "\n",
    "Рейтинг игр ESRB основан на их содержании аналогично рейтинговым системам кинофильмов. Рейтинг игры напечатан на упаковке, содержится в её рекламе и указан на сайте игры. Компании не обязаны предоставлять игру на определение рейтинга до начала официальных продаж, так как её содержимое может значительно измениться в ходе разработки.\n",
    "\n",
    "- «EC» («Early childhood») — «Для детей младшего возраста»\n",
    "\n",
    "- «E» («Everyone») — «Для всех»\n",
    "\n",
    "- «E10+» («Everyone 10 and older») — «Для всех старше 10 лет»\n",
    "\n",
    "- «T» («Teen») — «Подросткам 13—19 лет»\n",
    "\n",
    "- «M» («Mature») — «От 17 лет»\n",
    "\n",
    "- «AO» («Adults Only 18+») — «Только для взрослых»\n",
    "\n",
    "- «RP» ( «Rating Pending»») — «Рейтинг ожидается»"
   ]
  },
  {
   "cell_type": "code",
   "execution_count": 60,
   "metadata": {},
   "outputs": [
    {
     "data": {
      "text/html": [
       "<div>\n",
       "<style scoped>\n",
       "    .dataframe tbody tr th:only-of-type {\n",
       "        vertical-align: middle;\n",
       "    }\n",
       "\n",
       "    .dataframe tbody tr th {\n",
       "        vertical-align: top;\n",
       "    }\n",
       "\n",
       "    .dataframe thead th {\n",
       "        text-align: right;\n",
       "    }\n",
       "</style>\n",
       "<table border=\"1\" class=\"dataframe\">\n",
       "  <thead>\n",
       "    <tr style=\"text-align: right;\">\n",
       "      <th></th>\n",
       "      <th>Europe</th>\n",
       "      <th>Japan</th>\n",
       "      <th>North America</th>\n",
       "    </tr>\n",
       "    <tr>\n",
       "      <th>rating</th>\n",
       "      <th></th>\n",
       "      <th></th>\n",
       "      <th></th>\n",
       "    </tr>\n",
       "  </thead>\n",
       "  <tbody>\n",
       "    <tr>\n",
       "      <td>E</td>\n",
       "      <td>25.620955</td>\n",
       "      <td>34.139985</td>\n",
       "      <td>24.101010</td>\n",
       "    </tr>\n",
       "    <tr>\n",
       "      <td>E10+</td>\n",
       "      <td>14.100293</td>\n",
       "      <td>10.452345</td>\n",
       "      <td>16.672568</td>\n",
       "    </tr>\n",
       "    <tr>\n",
       "      <td>EC</td>\n",
       "      <td>0.000000</td>\n",
       "      <td>0.000000</td>\n",
       "      <td>0.059484</td>\n",
       "    </tr>\n",
       "    <tr>\n",
       "      <td>M</td>\n",
       "      <td>45.240247</td>\n",
       "      <td>24.329859</td>\n",
       "      <td>43.685470</td>\n",
       "    </tr>\n",
       "    <tr>\n",
       "      <td>RP</td>\n",
       "      <td>0.005423</td>\n",
       "      <td>0.000000</td>\n",
       "      <td>0.000000</td>\n",
       "    </tr>\n",
       "    <tr>\n",
       "      <td>T</td>\n",
       "      <td>15.033081</td>\n",
       "      <td>31.077811</td>\n",
       "      <td>15.481468</td>\n",
       "    </tr>\n",
       "  </tbody>\n",
       "</table>\n",
       "</div>"
      ],
      "text/plain": [
       "           Europe      Japan  North America\n",
       "rating                                     \n",
       "E       25.620955  34.139985      24.101010\n",
       "E10+    14.100293  10.452345      16.672568\n",
       "EC       0.000000   0.000000       0.059484\n",
       "M       45.240247  24.329859      43.685470\n",
       "RP       0.005423   0.000000       0.000000\n",
       "T       15.033081  31.077811      15.481468"
      ]
     },
     "execution_count": 60,
     "metadata": {},
     "output_type": "execute_result"
    }
   ],
   "source": [
    "# Строим сводную табилцу\n",
    "rating_to_sales = games.pivot_table(index='rating',values=['na_sales',\\\n",
    "                                                           'eu_sales','jp_sales'], aggfunc = {np.sum})\n",
    "# Переименуем столбцы\n",
    "rating_to_sales.columns = ['Europe','Japan','North America']\n",
    "\n",
    "# Вычислим сумму по столбцу\n",
    "eu_sum = np.sum(rating_to_sales.iloc[:,0])\n",
    "jp_sum = np.sum(rating_to_sales.iloc[:,1])\n",
    "na_sum = np.sum(rating_to_sales.iloc[:,2])\n",
    "\n",
    "# Вычислем долю для каждого столбца\n",
    "rating_to_sales['Europe'] = rating_to_sales['Europe']*100 / eu_sum\n",
    "rating_to_sales['Japan'] = rating_to_sales['Japan']*100 / jp_sum\n",
    "rating_to_sales['North America'] = rating_to_sales['North America']*100 / na_sum\n",
    "\n",
    "# Выводим результат\n",
    "rating_to_sales                                                                         "
   ]
  },
  {
   "cell_type": "markdown",
   "metadata": {},
   "source": [
    "**Главные выводы:**\n",
    "\n",
    "- Мы можем заключить, что Североамериканский и Европейский рынки похожи между собой в предпочтениях жанра игр\n",
    "\n",
    "- Они отличались в плане выбора основной платформы, однако в последние годы разница сгладилась. PS4 занимает лидирующие позиции в этих регионах. Также хорошим выбором будет XOne для увеличения продаж среди американский игроков\n",
    "\n",
    "- Самый непохожий сегмент - Японский. Лидирует портативное решение от Nintendo, следом за ним - PS4. ТОП-1 жанр - RPG, который занимает 5-ую позицию в остальных регионах. Однако есть сходство - ТОП-2 жанр - Action\n",
    "\n",
    "- Самые большие продажи во всех трех сегментах у игр с рейтингом - E(лидер в Японии), M (Лидер в США и Европе). Следом идут игры с рейтингом T(Япония) и E10+\n",
    "\n",
    "**Основываясь на проведенном анализе мы можем предложить следующее:**\n",
    "\n",
    "<font color='green'>Компромиссное решение для всех</font> - игры на **PS4 в жанре Action с рейтингом M и E**\n",
    "\n",
    "<font color='blue'>Для хорошего охвата NA & EU</font> - игры на **PS4/XOne в жанре Action/Shooter/Sports с рейтингом M и E**\n",
    "\n",
    "<font color='orange'>Для хорошего охвата среди японских игроков</font> - игры на **Nintendo 3DS/PS4 в жанре RPG или Action с рейтингом E и T**"
   ]
  },
  {
   "cell_type": "markdown",
   "metadata": {},
   "source": [
    "## Проверка статистических гипотез\n",
    "\n",
    "### Проверка различий пользовательских рейтингов Xbox One и PC\n",
    "\n",
    "На данном этапе мы должны проверить различаются ли средние пользовательские рейтинги **Xbox One и PC**. \n",
    "\n",
    "H0 - средние пользовательские рейтинги не отличаются\n",
    "\n",
    "H1 - средние пользовательские рейтинги отличаются\n",
    "\n",
    "Для проверки гипотезы будет использоваться критерий **p-value**. Уровень значимости - **.05**\n",
    "\n",
    "Отберем наблюдения и посчитаем средние и дисперсии:"
   ]
  },
  {
   "cell_type": "code",
   "execution_count": 61,
   "metadata": {},
   "outputs": [
    {
     "name": "stdout",
     "output_type": "stream",
     "text": [
      "Объем группы PC - 307, Xbox One - 182\n",
      "Среднее значение рейтинга пользователей для PC -  6.45, для Xbox One - 6.52\n",
      "Дисперсии PC - 2.59, Xbox One - 1.90\n"
     ]
    }
   ],
   "source": [
    "pc_group = np.array(games[(games['platform'] == 'PC') & (games['user_score'].notna())]['user_score'])\n",
    "xone_group = np.array(games[(games['platform'] == 'XOne') & (games['user_score'].notna())]['user_score'])\n",
    "\n",
    "pc_mean = np.mean(pc_group)\n",
    "xone_mean = np.mean(xone_group)\n",
    "\n",
    "pc_var = np.var(pc_group)\n",
    "xone_var = np.var(xone_group)\n",
    "\n",
    "print(f'Объем группы PC - {len(pc_group)}, Xbox One - {len(xone_group)}\\n\\\n",
    "Среднее значение рейтинга пользователей для PC -  {pc_mean:.2f}, для Xbox One - {xone_mean:.2f}\\n\\\n",
    "Дисперсии PC - {pc_var:.2f}, Xbox One - {xone_var:.2f}')"
   ]
  },
  {
   "cell_type": "markdown",
   "metadata": {},
   "source": [
    "***Благодаря полученным нами значениями, мы понимаем, что сложно считать дисперсии равными даже на таких отличающихся по объему выборках. Средние значения соотносимы между собой.***"
   ]
  },
  {
   "cell_type": "code",
   "execution_count": 62,
   "metadata": {},
   "outputs": [
    {
     "name": "stdout",
     "output_type": "stream",
     "text": [
      "p-значение:  0.6130712247638477\n",
      "Опровергнуть нулевую гипотезу нельзя\n"
     ]
    }
   ],
   "source": [
    "from scipy import stats as st\n",
    "\n",
    "results1 = st.ttest_ind(pc_group, xone_group, equal_var = False)\n",
    "\n",
    "alpha = .05\n",
    "\n",
    "print('p-значение: ', results1.pvalue)\n",
    "if results1.pvalue < alpha:\n",
    "    print('Принимаем альтернативную гипотезу')\n",
    "else:\n",
    "    print('Опровергнуть нулевую гипотезу нельзя')"
   ]
  },
  {
   "cell_type": "markdown",
   "metadata": {},
   "source": [
    "Полученное значение p-value говорит о том, что средний пользовательский рейтинг платформ PC и Xbox One не отличается, но с вероятностью в почти 61% такое различие можно получить случайно. Это слишком высокая вероятность для того, чтобы делать выводы о значимом различии между средними значениями рейтинга.\n",
    "\n",
    "Более того, оценка по выборке говорит, что значения соотносимы между собой, а значит и соотносимы в ГС"
   ]
  },
  {
   "cell_type": "markdown",
   "metadata": {},
   "source": [
    "### Проверка различий пользовательских рейтингов жанров Экшн и Спорт\n",
    "\n",
    "\n",
    "Следующим пунктом мы должны проверить различаются ли средние пользовательские рейтинги жанров **Action и Sports**. \n",
    "\n",
    "H0 - средние пользовательские рейтинги не отличаются\n",
    "\n",
    "H1 - средние пользовательские рейтинги отличаются\n",
    "\n",
    "Для проверки гипотезы будет использоваться критерий **p-value**. Уровень значимости - **.05**\n",
    "\n",
    "Отберем наблюдения и посчитаем средние и дисперсии:"
   ]
  },
  {
   "cell_type": "code",
   "execution_count": 63,
   "metadata": {},
   "outputs": [
    {
     "name": "stdout",
     "output_type": "stream",
     "text": [
      "Объем группы игр в жанре Action - 664, Sports - 246\n",
      "Среднее значение рейтинга пользователей для Action -  6.78, для Sports - 5.65\n",
      "Дисперсии Action - 1.81, Sports - 2.87\n"
     ]
    }
   ],
   "source": [
    "action_group = np.array(games[(games['genre'] == 'Action') & (games['user_score'].notna())]['user_score'])\n",
    "sport_group = np.array(games[(games['genre'] == 'Sports') & (games['user_score'].notna())]['user_score'])\n",
    "\n",
    "action_mean = np.mean(action_group)\n",
    "sport_mean = np.mean(sport_group)\n",
    "\n",
    "action_var = np.var(action_group)\n",
    "sport_var = np.var(sport_group)\n",
    "\n",
    "print(f'Объем группы игр в жанре Action - {len(action_group)}, Sports - {len(sport_group)}\\n\\\n",
    "Среднее значение рейтинга пользователей для Action -  {action_mean:.2f}, для Sports - {sport_mean:.2f}\\n\\\n",
    "Дисперсии Action - {action_var:.2f}, Sports - {sport_var:.2f}')"
   ]
  },
  {
   "cell_type": "markdown",
   "metadata": {},
   "source": [
    "**Дисперсии не считаем равными**"
   ]
  },
  {
   "cell_type": "code",
   "execution_count": 64,
   "metadata": {},
   "outputs": [
    {
     "name": "stdout",
     "output_type": "stream",
     "text": [
      "p-значение:  8.285648549432565e-19\n",
      "Принимаем альтернативную гипотезу\n"
     ]
    }
   ],
   "source": [
    "results2 = st.ttest_ind(action_group, sport_group, equal_var = False)\n",
    "\n",
    "alpha = .05\n",
    "\n",
    "print('p-значение: ', results2.pvalue)\n",
    "if results2.pvalue < alpha:\n",
    "    print('Принимаем альтернативную гипотезу')\n",
    "else:\n",
    "    print('Опровергнуть нулевую гипотезу нельзя')"
   ]
  },
  {
   "cell_type": "markdown",
   "metadata": {},
   "source": [
    "Полученное значение p-value значительно меньше критического значения alpha, что позволяет нам отвергнуть нулевую гипотезу о равенстве средних пользовательских рейтингов и принять альтернативную об их различии\n",
    "\n",
    "Более того, оценка по выборке говорит, что значения соотносимы между собой, а значит и соотносимы в ГС"
   ]
  },
  {
   "cell_type": "markdown",
   "metadata": {},
   "source": [
    "## Итоговый вывод анализа\n",
    "\n",
    "В ходе полученного анализа предоставленных данных, нами были получены важные сведения о ситуации на рынке игровой индустрии.\n",
    "\n",
    "- Было выяснено, что средняя продолжительность жизни игровой платформы - 8 лет, однако PC стабильно занимает малую долю на протяжении 3-х десятилетий. На 6 год жизненного цикла игровой платформы появляется её заменитель - преемник. Последние 20 лет это актуально для крупных гигантов производителей приставок - Sony, Microsoft, Nintendo\n",
    "\n",
    "\n",
    "- Поэтому мы сделали срез по данным за последние 6 лет, чтобы гарантировано поймать данные о новых появившихся платформах и понять какие старые уходят.\n",
    "\n",
    "- Выявили то, что оценки критиков коррелируют между продажами игр на платформам в целом, однако оценки игроков влияют только на платформы от Nintendo. Таким образом, клиенты на глобальном рынке доверяют критикам, а японские - опыту других пользователей (в соотнесении с долями разных платформ)\n",
    "\n",
    "- Европейские и американские игроки предпочитают домашние консоли, японцы - портативные.\n",
    "\n",
    "\n",
    "- Для североамериканского и европейского кластера характерна ротация платформ при выходе следующего поколения, для японского данное правило работает в меньшей степени. И в последние 6 лет и 3 года доминирует портативная приставка 3DS, за ней домашнее решение от Sony (PS3, потом PS4) и так далее.\n",
    "\n",
    "\n",
    "- Выделили перспективные платформы для продвижения на основе данных- PS4 (общая), для североамериканского рынка - PS4 & Xbox One, для японского - 3DS (стабильное первое место в течение 6 лет)\n",
    "\n",
    "\n",
    "- Выделили различия между игроками из разных частей мира и в их предпочтении жанра игры. Американцы и европейцы предпочитают экшн, шутеры и спортивные симуляторы, японцы - РПГ, экшн и в последнее время приобретает популярность файтинги, но по-прежнему занимают малую долю рынка.\n",
    "\n",
    "\n",
    "- Сопоставили оценки критиков и пользователей с продажами по миру - связь между оценками критиками слабая положительная, между оценками игроков - отсутствует. Таким образом, стоит ориентироваться на критиков при принятии решений о продвижении в рамках платформы (для PS4 не имеет смысла, для XOne, 3DS - не главный фактор, но может быть принят во внимание)\n",
    "\n",
    "\n",
    "- Выделили, что лучше всего продаются игры в жанре E(лидер в Японии) и M (Лидер в США и Европе). Следом идут игры с рейтингом T(Япония) и E10+ (Европа и Северная Америка)\n",
    "\n",
    "\n",
    "- Составили 3 модели продукта для продвижения по разным векторам развития компании. \n",
    "\n",
    "    1) <font color='green'>Универсальный</font> - игра в жанре Action для PC4 рейтинга М и E. \n",
    "    \n",
    "    2) <font color='blue'>Западный вариант</font>  - игры на PS4/XOne в жанре Action/Shooter/Sports с рейтингом M и E. \n",
    "    \n",
    "    3) <font color='orange'>Японский</font>  - Nintendo 3DS/PS4 в жанре RPG или Action с рейтингом E и T\n",
    "    \n",
    "    \n",
    "\n",
    "- Провели статистическую проверку значимости различий между разными группами игр относительно платформы и жанра (2 проверки), по результатам которой выяснили, что средние пользовательские оценки игр на PC и Xbox One должны совпадать для всех игр платформ, а оценки в жанрах Action и Sports - по выборке Action игры игроки воспринимают лучше\n",
    "\n",
    "\n",
    "**Таким образом, полученные нами данные представляют несомненную ценность для планирования рекламной компании на следующий год**\n"
   ]
  }
 ],
 "metadata": {
  "kernelspec": {
   "display_name": "Python 3",
   "language": "python",
   "name": "python3"
  },
  "language_info": {
   "codemirror_mode": {
    "name": "ipython",
    "version": 3
   },
   "file_extension": ".py",
   "mimetype": "text/x-python",
   "name": "python",
   "nbconvert_exporter": "python",
   "pygments_lexer": "ipython3",
   "version": "3.9.4"
  }
 },
 "nbformat": 4,
 "nbformat_minor": 2
}
