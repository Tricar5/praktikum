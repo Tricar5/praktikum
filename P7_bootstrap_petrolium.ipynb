{
 "cells": [
  {
   "cell_type": "markdown",
   "metadata": {},
   "source": [
    "# Описание проекта"
   ]
  },
  {
   "cell_type": "markdown",
   "metadata": {},
   "source": [
    "**Аннотация**\n",
    "\n",
    "Допустим, вы работаете в добывающей компании «ГлавРосГосНефть». Нужно решить, где бурить новую скважину.\n",
    "\n",
    "Вам предоставлены пробы нефти в трёх регионах: в каждом 10 000 месторождений, где измерили качество нефти и объём её запасов. Постройте модель машинного обучения, которая поможет определить регион, где добыча принесёт наибольшую прибыль. Проанализируйте возможную прибыль и риски техникой *Bootstrap.*\n",
    "\n",
    "Шаги для выбора локации:\n",
    "\n",
    "- В избранном регионе ищут месторождения, для каждого определяют значения признаков;\n",
    "- Строят модель и оценивают объём запасов;\n",
    "- Выбирают месторождения с самым высокими оценками значений. Количество месторождений зависит от бюджета компании и стоимости разработки одной скважины;\n",
    "- Прибыль равна суммарной прибыли отобранных месторождений.\n",
    "\n",
    "\n"
   ]
  },
  {
   "cell_type": "markdown",
   "metadata": {},
   "source": [
    "# 1. Загрузка и подготовка данных"
   ]
  },
  {
   "cell_type": "code",
   "execution_count": 175,
   "metadata": {},
   "outputs": [],
   "source": [
    "import pandas as pd\n",
    "import numpy as np\n",
    "import matplotlib.pyplot as plt\n",
    "import seaborn as sns"
   ]
  },
  {
   "cell_type": "markdown",
   "metadata": {},
   "source": [
    "## Регион 0"
   ]
  },
  {
   "cell_type": "code",
   "execution_count": 176,
   "metadata": {},
   "outputs": [],
   "source": [
    "geo_0 = pd.read_csv('/datasets/geo_data_0.csv')"
   ]
  },
  {
   "cell_type": "code",
   "execution_count": 177,
   "metadata": {},
   "outputs": [
    {
     "data": {
      "text/html": [
       "<div>\n",
       "<style scoped>\n",
       "    .dataframe tbody tr th:only-of-type {\n",
       "        vertical-align: middle;\n",
       "    }\n",
       "\n",
       "    .dataframe tbody tr th {\n",
       "        vertical-align: top;\n",
       "    }\n",
       "\n",
       "    .dataframe thead th {\n",
       "        text-align: right;\n",
       "    }\n",
       "</style>\n",
       "<table border=\"1\" class=\"dataframe\">\n",
       "  <thead>\n",
       "    <tr style=\"text-align: right;\">\n",
       "      <th></th>\n",
       "      <th>id</th>\n",
       "      <th>f0</th>\n",
       "      <th>f1</th>\n",
       "      <th>f2</th>\n",
       "      <th>product</th>\n",
       "    </tr>\n",
       "  </thead>\n",
       "  <tbody>\n",
       "    <tr>\n",
       "      <td>0</td>\n",
       "      <td>txEyH</td>\n",
       "      <td>0.705745</td>\n",
       "      <td>-0.497823</td>\n",
       "      <td>1.221170</td>\n",
       "      <td>105.280062</td>\n",
       "    </tr>\n",
       "    <tr>\n",
       "      <td>1</td>\n",
       "      <td>2acmU</td>\n",
       "      <td>1.334711</td>\n",
       "      <td>-0.340164</td>\n",
       "      <td>4.365080</td>\n",
       "      <td>73.037750</td>\n",
       "    </tr>\n",
       "    <tr>\n",
       "      <td>2</td>\n",
       "      <td>409Wp</td>\n",
       "      <td>1.022732</td>\n",
       "      <td>0.151990</td>\n",
       "      <td>1.419926</td>\n",
       "      <td>85.265647</td>\n",
       "    </tr>\n",
       "    <tr>\n",
       "      <td>3</td>\n",
       "      <td>iJLyR</td>\n",
       "      <td>-0.032172</td>\n",
       "      <td>0.139033</td>\n",
       "      <td>2.978566</td>\n",
       "      <td>168.620776</td>\n",
       "    </tr>\n",
       "    <tr>\n",
       "      <td>4</td>\n",
       "      <td>Xdl7t</td>\n",
       "      <td>1.988431</td>\n",
       "      <td>0.155413</td>\n",
       "      <td>4.751769</td>\n",
       "      <td>154.036647</td>\n",
       "    </tr>\n",
       "  </tbody>\n",
       "</table>\n",
       "</div>"
      ],
      "text/plain": [
       "      id        f0        f1        f2     product\n",
       "0  txEyH  0.705745 -0.497823  1.221170  105.280062\n",
       "1  2acmU  1.334711 -0.340164  4.365080   73.037750\n",
       "2  409Wp  1.022732  0.151990  1.419926   85.265647\n",
       "3  iJLyR -0.032172  0.139033  2.978566  168.620776\n",
       "4  Xdl7t  1.988431  0.155413  4.751769  154.036647"
      ]
     },
     "execution_count": 177,
     "metadata": {},
     "output_type": "execute_result"
    }
   ],
   "source": [
    "geo_0.head()"
   ]
  },
  {
   "cell_type": "code",
   "execution_count": 178,
   "metadata": {},
   "outputs": [
    {
     "name": "stdout",
     "output_type": "stream",
     "text": [
      "<class 'pandas.core.frame.DataFrame'>\n",
      "RangeIndex: 100000 entries, 0 to 99999\n",
      "Data columns (total 5 columns):\n",
      "id         100000 non-null object\n",
      "f0         100000 non-null float64\n",
      "f1         100000 non-null float64\n",
      "f2         100000 non-null float64\n",
      "product    100000 non-null float64\n",
      "dtypes: float64(4), object(1)\n",
      "memory usage: 3.8+ MB\n"
     ]
    }
   ],
   "source": [
    "geo_0.info()"
   ]
  },
  {
   "cell_type": "code",
   "execution_count": 179,
   "metadata": {},
   "outputs": [
    {
     "data": {
      "text/plain": [
       "id          99990\n",
       "f0         100000\n",
       "f1         100000\n",
       "f2         100000\n",
       "product    100000\n",
       "dtype: int64"
      ]
     },
     "execution_count": 179,
     "metadata": {},
     "output_type": "execute_result"
    }
   ],
   "source": [
    "geo_0.nunique()"
   ]
  },
  {
   "cell_type": "markdown",
   "metadata": {},
   "source": [
    "В первом регионе на нескольких объектах (10), скорее всего, были произведены повторные замеры, что должно уточнить наши данные.\n",
    "\n",
    "## Регион 1"
   ]
  },
  {
   "cell_type": "code",
   "execution_count": 180,
   "metadata": {},
   "outputs": [
    {
     "data": {
      "text/html": [
       "<div>\n",
       "<style scoped>\n",
       "    .dataframe tbody tr th:only-of-type {\n",
       "        vertical-align: middle;\n",
       "    }\n",
       "\n",
       "    .dataframe tbody tr th {\n",
       "        vertical-align: top;\n",
       "    }\n",
       "\n",
       "    .dataframe thead th {\n",
       "        text-align: right;\n",
       "    }\n",
       "</style>\n",
       "<table border=\"1\" class=\"dataframe\">\n",
       "  <thead>\n",
       "    <tr style=\"text-align: right;\">\n",
       "      <th></th>\n",
       "      <th>id</th>\n",
       "      <th>f0</th>\n",
       "      <th>f1</th>\n",
       "      <th>f2</th>\n",
       "      <th>product</th>\n",
       "    </tr>\n",
       "  </thead>\n",
       "  <tbody>\n",
       "    <tr>\n",
       "      <td>0</td>\n",
       "      <td>kBEdx</td>\n",
       "      <td>-15.001348</td>\n",
       "      <td>-8.276000</td>\n",
       "      <td>-0.005876</td>\n",
       "      <td>3.179103</td>\n",
       "    </tr>\n",
       "    <tr>\n",
       "      <td>1</td>\n",
       "      <td>62mP7</td>\n",
       "      <td>14.272088</td>\n",
       "      <td>-3.475083</td>\n",
       "      <td>0.999183</td>\n",
       "      <td>26.953261</td>\n",
       "    </tr>\n",
       "    <tr>\n",
       "      <td>2</td>\n",
       "      <td>vyE1P</td>\n",
       "      <td>6.263187</td>\n",
       "      <td>-5.948386</td>\n",
       "      <td>5.001160</td>\n",
       "      <td>134.766305</td>\n",
       "    </tr>\n",
       "    <tr>\n",
       "      <td>3</td>\n",
       "      <td>KcrkZ</td>\n",
       "      <td>-13.081196</td>\n",
       "      <td>-11.506057</td>\n",
       "      <td>4.999415</td>\n",
       "      <td>137.945408</td>\n",
       "    </tr>\n",
       "    <tr>\n",
       "      <td>4</td>\n",
       "      <td>AHL4O</td>\n",
       "      <td>12.702195</td>\n",
       "      <td>-8.147433</td>\n",
       "      <td>5.004363</td>\n",
       "      <td>134.766305</td>\n",
       "    </tr>\n",
       "  </tbody>\n",
       "</table>\n",
       "</div>"
      ],
      "text/plain": [
       "      id         f0         f1        f2     product\n",
       "0  kBEdx -15.001348  -8.276000 -0.005876    3.179103\n",
       "1  62mP7  14.272088  -3.475083  0.999183   26.953261\n",
       "2  vyE1P   6.263187  -5.948386  5.001160  134.766305\n",
       "3  KcrkZ -13.081196 -11.506057  4.999415  137.945408\n",
       "4  AHL4O  12.702195  -8.147433  5.004363  134.766305"
      ]
     },
     "execution_count": 180,
     "metadata": {},
     "output_type": "execute_result"
    }
   ],
   "source": [
    "geo_1 = pd.read_csv('/datasets/geo_data_1.csv')\n",
    "geo_1.head()"
   ]
  },
  {
   "cell_type": "code",
   "execution_count": 114,
   "metadata": {},
   "outputs": [
    {
     "name": "stdout",
     "output_type": "stream",
     "text": [
      "<class 'pandas.core.frame.DataFrame'>\n",
      "RangeIndex: 100000 entries, 0 to 99999\n",
      "Data columns (total 5 columns):\n",
      "id         100000 non-null object\n",
      "f0         100000 non-null float64\n",
      "f1         100000 non-null float64\n",
      "f2         100000 non-null float64\n",
      "product    100000 non-null float64\n",
      "dtypes: float64(4), object(1)\n",
      "memory usage: 3.8+ MB\n"
     ]
    }
   ],
   "source": [
    "geo_1.info()"
   ]
  },
  {
   "cell_type": "code",
   "execution_count": 115,
   "metadata": {},
   "outputs": [
    {
     "data": {
      "text/plain": [
       "id          99996\n",
       "f0         100000\n",
       "f1         100000\n",
       "f2         100000\n",
       "product        12\n",
       "dtype: int64"
      ]
     },
     "execution_count": 115,
     "metadata": {},
     "output_type": "execute_result"
    }
   ],
   "source": [
    "geo_1.nunique()"
   ]
  },
  {
   "cell_type": "markdown",
   "metadata": {},
   "source": [
    "Оценочные значения объемов продукта в данном регионе не уникальны - всего 12. Это выглядит подозрительно, однако возможно просто методология расчета аппроксимировала значения по классам и приближала их к среднему в классе \n",
    "\n",
    "## Регион 2"
   ]
  },
  {
   "cell_type": "code",
   "execution_count": 207,
   "metadata": {},
   "outputs": [
    {
     "data": {
      "text/html": [
       "<div>\n",
       "<style scoped>\n",
       "    .dataframe tbody tr th:only-of-type {\n",
       "        vertical-align: middle;\n",
       "    }\n",
       "\n",
       "    .dataframe tbody tr th {\n",
       "        vertical-align: top;\n",
       "    }\n",
       "\n",
       "    .dataframe thead th {\n",
       "        text-align: right;\n",
       "    }\n",
       "</style>\n",
       "<table border=\"1\" class=\"dataframe\">\n",
       "  <thead>\n",
       "    <tr style=\"text-align: right;\">\n",
       "      <th></th>\n",
       "      <th>id</th>\n",
       "      <th>f0</th>\n",
       "      <th>f1</th>\n",
       "      <th>f2</th>\n",
       "      <th>product</th>\n",
       "    </tr>\n",
       "  </thead>\n",
       "  <tbody>\n",
       "    <tr>\n",
       "      <td>0</td>\n",
       "      <td>fwXo0</td>\n",
       "      <td>-1.146987</td>\n",
       "      <td>0.963328</td>\n",
       "      <td>-0.828965</td>\n",
       "      <td>27.758673</td>\n",
       "    </tr>\n",
       "    <tr>\n",
       "      <td>1</td>\n",
       "      <td>WJtFt</td>\n",
       "      <td>0.262778</td>\n",
       "      <td>0.269839</td>\n",
       "      <td>-2.530187</td>\n",
       "      <td>56.069697</td>\n",
       "    </tr>\n",
       "    <tr>\n",
       "      <td>2</td>\n",
       "      <td>ovLUW</td>\n",
       "      <td>0.194587</td>\n",
       "      <td>0.289035</td>\n",
       "      <td>-5.586433</td>\n",
       "      <td>62.871910</td>\n",
       "    </tr>\n",
       "    <tr>\n",
       "      <td>3</td>\n",
       "      <td>q6cA6</td>\n",
       "      <td>2.236060</td>\n",
       "      <td>-0.553760</td>\n",
       "      <td>0.930038</td>\n",
       "      <td>114.572842</td>\n",
       "    </tr>\n",
       "    <tr>\n",
       "      <td>4</td>\n",
       "      <td>WPMUX</td>\n",
       "      <td>-0.515993</td>\n",
       "      <td>1.716266</td>\n",
       "      <td>5.899011</td>\n",
       "      <td>149.600746</td>\n",
       "    </tr>\n",
       "  </tbody>\n",
       "</table>\n",
       "</div>"
      ],
      "text/plain": [
       "      id        f0        f1        f2     product\n",
       "0  fwXo0 -1.146987  0.963328 -0.828965   27.758673\n",
       "1  WJtFt  0.262778  0.269839 -2.530187   56.069697\n",
       "2  ovLUW  0.194587  0.289035 -5.586433   62.871910\n",
       "3  q6cA6  2.236060 -0.553760  0.930038  114.572842\n",
       "4  WPMUX -0.515993  1.716266  5.899011  149.600746"
      ]
     },
     "execution_count": 207,
     "metadata": {},
     "output_type": "execute_result"
    }
   ],
   "source": [
    "geo_2 = pd.read_csv('/datasets/geo_data_2.csv')\n",
    "\n",
    "geo_2.head()"
   ]
  },
  {
   "cell_type": "code",
   "execution_count": 117,
   "metadata": {
    "scrolled": true
   },
   "outputs": [
    {
     "name": "stdout",
     "output_type": "stream",
     "text": [
      "<class 'pandas.core.frame.DataFrame'>\n",
      "RangeIndex: 100000 entries, 0 to 99999\n",
      "Data columns (total 5 columns):\n",
      "id         100000 non-null object\n",
      "f0         100000 non-null float64\n",
      "f1         100000 non-null float64\n",
      "f2         100000 non-null float64\n",
      "product    100000 non-null float64\n",
      "dtypes: float64(4), object(1)\n",
      "memory usage: 3.8+ MB\n"
     ]
    }
   ],
   "source": [
    "geo_2.info()"
   ]
  },
  {
   "cell_type": "code",
   "execution_count": 118,
   "metadata": {},
   "outputs": [
    {
     "data": {
      "text/plain": [
       "id          99996\n",
       "f0         100000\n",
       "f1         100000\n",
       "f2         100000\n",
       "product    100000\n",
       "dtype: int64"
      ]
     },
     "execution_count": 118,
     "metadata": {},
     "output_type": "execute_result"
    }
   ],
   "source": [
    "geo_2.nunique()"
   ]
  },
  {
   "cell_type": "markdown",
   "metadata": {},
   "source": [
    "<font color='blue'> \n",
    "### <u>КОММЕНТАРИЙ РЕВЬЮЕРА</u>\n",
    "</font>\n",
    "<font color='green'>\n",
    "данные на базе)"
   ]
  },
  {
   "cell_type": "markdown",
   "metadata": {},
   "source": [
    "На 4 скважинах в данном регионе были произведены повторные замеры\n",
    "\n",
    "### Выведем общую статистику по регионам"
   ]
  },
  {
   "cell_type": "code",
   "execution_count": 119,
   "metadata": {},
   "outputs": [
    {
     "data": {
      "text/html": [
       "<div>\n",
       "<style scoped>\n",
       "    .dataframe tbody tr th:only-of-type {\n",
       "        vertical-align: middle;\n",
       "    }\n",
       "\n",
       "    .dataframe tbody tr th {\n",
       "        vertical-align: top;\n",
       "    }\n",
       "\n",
       "    .dataframe thead th {\n",
       "        text-align: right;\n",
       "    }\n",
       "</style>\n",
       "<table border=\"1\" class=\"dataframe\">\n",
       "  <thead>\n",
       "    <tr style=\"text-align: right;\">\n",
       "      <th></th>\n",
       "      <th>count</th>\n",
       "      <th>mean</th>\n",
       "      <th>std</th>\n",
       "      <th>min</th>\n",
       "      <th>25%</th>\n",
       "      <th>50%</th>\n",
       "      <th>75%</th>\n",
       "      <th>max</th>\n",
       "    </tr>\n",
       "  </thead>\n",
       "  <tbody>\n",
       "    <tr>\n",
       "      <td>f0</td>\n",
       "      <td>100000.0</td>\n",
       "      <td>0.500419</td>\n",
       "      <td>0.871832</td>\n",
       "      <td>-1.408605</td>\n",
       "      <td>-0.072580</td>\n",
       "      <td>0.502360</td>\n",
       "      <td>1.073581</td>\n",
       "      <td>2.362331</td>\n",
       "    </tr>\n",
       "    <tr>\n",
       "      <td>f1</td>\n",
       "      <td>100000.0</td>\n",
       "      <td>0.250143</td>\n",
       "      <td>0.504433</td>\n",
       "      <td>-0.848218</td>\n",
       "      <td>-0.200881</td>\n",
       "      <td>0.250252</td>\n",
       "      <td>0.700646</td>\n",
       "      <td>1.343769</td>\n",
       "    </tr>\n",
       "    <tr>\n",
       "      <td>f2</td>\n",
       "      <td>100000.0</td>\n",
       "      <td>2.502647</td>\n",
       "      <td>3.248248</td>\n",
       "      <td>-12.088328</td>\n",
       "      <td>0.287748</td>\n",
       "      <td>2.515969</td>\n",
       "      <td>4.715088</td>\n",
       "      <td>16.003790</td>\n",
       "    </tr>\n",
       "    <tr>\n",
       "      <td>product</td>\n",
       "      <td>100000.0</td>\n",
       "      <td>92.500000</td>\n",
       "      <td>44.288691</td>\n",
       "      <td>0.000000</td>\n",
       "      <td>56.497507</td>\n",
       "      <td>91.849972</td>\n",
       "      <td>128.564089</td>\n",
       "      <td>185.364347</td>\n",
       "    </tr>\n",
       "  </tbody>\n",
       "</table>\n",
       "</div>"
      ],
      "text/plain": [
       "            count       mean        std        min        25%        50%  \\\n",
       "f0       100000.0   0.500419   0.871832  -1.408605  -0.072580   0.502360   \n",
       "f1       100000.0   0.250143   0.504433  -0.848218  -0.200881   0.250252   \n",
       "f2       100000.0   2.502647   3.248248 -12.088328   0.287748   2.515969   \n",
       "product  100000.0  92.500000  44.288691   0.000000  56.497507  91.849972   \n",
       "\n",
       "                75%         max  \n",
       "f0         1.073581    2.362331  \n",
       "f1         0.700646    1.343769  \n",
       "f2         4.715088   16.003790  \n",
       "product  128.564089  185.364347  "
      ]
     },
     "execution_count": 119,
     "metadata": {},
     "output_type": "execute_result"
    }
   ],
   "source": [
    "geo_0.describe().T"
   ]
  },
  {
   "cell_type": "code",
   "execution_count": 120,
   "metadata": {},
   "outputs": [
    {
     "data": {
      "text/html": [
       "<div>\n",
       "<style scoped>\n",
       "    .dataframe tbody tr th:only-of-type {\n",
       "        vertical-align: middle;\n",
       "    }\n",
       "\n",
       "    .dataframe tbody tr th {\n",
       "        vertical-align: top;\n",
       "    }\n",
       "\n",
       "    .dataframe thead th {\n",
       "        text-align: right;\n",
       "    }\n",
       "</style>\n",
       "<table border=\"1\" class=\"dataframe\">\n",
       "  <thead>\n",
       "    <tr style=\"text-align: right;\">\n",
       "      <th></th>\n",
       "      <th>count</th>\n",
       "      <th>mean</th>\n",
       "      <th>std</th>\n",
       "      <th>min</th>\n",
       "      <th>25%</th>\n",
       "      <th>50%</th>\n",
       "      <th>75%</th>\n",
       "      <th>max</th>\n",
       "    </tr>\n",
       "  </thead>\n",
       "  <tbody>\n",
       "    <tr>\n",
       "      <td>f0</td>\n",
       "      <td>100000.0</td>\n",
       "      <td>1.141296</td>\n",
       "      <td>8.965932</td>\n",
       "      <td>-31.609576</td>\n",
       "      <td>-6.298551</td>\n",
       "      <td>1.153055</td>\n",
       "      <td>8.621015</td>\n",
       "      <td>29.421755</td>\n",
       "    </tr>\n",
       "    <tr>\n",
       "      <td>f1</td>\n",
       "      <td>100000.0</td>\n",
       "      <td>-4.796579</td>\n",
       "      <td>5.119872</td>\n",
       "      <td>-26.358598</td>\n",
       "      <td>-8.267985</td>\n",
       "      <td>-4.813172</td>\n",
       "      <td>-1.332816</td>\n",
       "      <td>18.734063</td>\n",
       "    </tr>\n",
       "    <tr>\n",
       "      <td>f2</td>\n",
       "      <td>100000.0</td>\n",
       "      <td>2.494541</td>\n",
       "      <td>1.703572</td>\n",
       "      <td>-0.018144</td>\n",
       "      <td>1.000021</td>\n",
       "      <td>2.011479</td>\n",
       "      <td>3.999904</td>\n",
       "      <td>5.019721</td>\n",
       "    </tr>\n",
       "    <tr>\n",
       "      <td>product</td>\n",
       "      <td>100000.0</td>\n",
       "      <td>68.825000</td>\n",
       "      <td>45.944423</td>\n",
       "      <td>0.000000</td>\n",
       "      <td>26.953261</td>\n",
       "      <td>57.085625</td>\n",
       "      <td>107.813044</td>\n",
       "      <td>137.945408</td>\n",
       "    </tr>\n",
       "  </tbody>\n",
       "</table>\n",
       "</div>"
      ],
      "text/plain": [
       "            count       mean        std        min        25%        50%  \\\n",
       "f0       100000.0   1.141296   8.965932 -31.609576  -6.298551   1.153055   \n",
       "f1       100000.0  -4.796579   5.119872 -26.358598  -8.267985  -4.813172   \n",
       "f2       100000.0   2.494541   1.703572  -0.018144   1.000021   2.011479   \n",
       "product  100000.0  68.825000  45.944423   0.000000  26.953261  57.085625   \n",
       "\n",
       "                75%         max  \n",
       "f0         8.621015   29.421755  \n",
       "f1        -1.332816   18.734063  \n",
       "f2         3.999904    5.019721  \n",
       "product  107.813044  137.945408  "
      ]
     },
     "execution_count": 120,
     "metadata": {},
     "output_type": "execute_result"
    }
   ],
   "source": [
    "geo_1.describe().T"
   ]
  },
  {
   "cell_type": "code",
   "execution_count": 121,
   "metadata": {},
   "outputs": [
    {
     "data": {
      "text/html": [
       "<div>\n",
       "<style scoped>\n",
       "    .dataframe tbody tr th:only-of-type {\n",
       "        vertical-align: middle;\n",
       "    }\n",
       "\n",
       "    .dataframe tbody tr th {\n",
       "        vertical-align: top;\n",
       "    }\n",
       "\n",
       "    .dataframe thead th {\n",
       "        text-align: right;\n",
       "    }\n",
       "</style>\n",
       "<table border=\"1\" class=\"dataframe\">\n",
       "  <thead>\n",
       "    <tr style=\"text-align: right;\">\n",
       "      <th></th>\n",
       "      <th>count</th>\n",
       "      <th>mean</th>\n",
       "      <th>std</th>\n",
       "      <th>min</th>\n",
       "      <th>25%</th>\n",
       "      <th>50%</th>\n",
       "      <th>75%</th>\n",
       "      <th>max</th>\n",
       "    </tr>\n",
       "  </thead>\n",
       "  <tbody>\n",
       "    <tr>\n",
       "      <td>f0</td>\n",
       "      <td>100000.0</td>\n",
       "      <td>0.002023</td>\n",
       "      <td>1.732045</td>\n",
       "      <td>-8.760004</td>\n",
       "      <td>-1.162288</td>\n",
       "      <td>0.009424</td>\n",
       "      <td>1.158535</td>\n",
       "      <td>7.238262</td>\n",
       "    </tr>\n",
       "    <tr>\n",
       "      <td>f1</td>\n",
       "      <td>100000.0</td>\n",
       "      <td>-0.002081</td>\n",
       "      <td>1.730417</td>\n",
       "      <td>-7.084020</td>\n",
       "      <td>-1.174820</td>\n",
       "      <td>-0.009482</td>\n",
       "      <td>1.163678</td>\n",
       "      <td>7.844801</td>\n",
       "    </tr>\n",
       "    <tr>\n",
       "      <td>f2</td>\n",
       "      <td>100000.0</td>\n",
       "      <td>2.495128</td>\n",
       "      <td>3.473445</td>\n",
       "      <td>-11.970335</td>\n",
       "      <td>0.130359</td>\n",
       "      <td>2.484236</td>\n",
       "      <td>4.858794</td>\n",
       "      <td>16.739402</td>\n",
       "    </tr>\n",
       "    <tr>\n",
       "      <td>product</td>\n",
       "      <td>100000.0</td>\n",
       "      <td>95.000000</td>\n",
       "      <td>44.749921</td>\n",
       "      <td>0.000000</td>\n",
       "      <td>59.450441</td>\n",
       "      <td>94.925613</td>\n",
       "      <td>130.595027</td>\n",
       "      <td>190.029838</td>\n",
       "    </tr>\n",
       "  </tbody>\n",
       "</table>\n",
       "</div>"
      ],
      "text/plain": [
       "            count       mean        std        min        25%        50%  \\\n",
       "f0       100000.0   0.002023   1.732045  -8.760004  -1.162288   0.009424   \n",
       "f1       100000.0  -0.002081   1.730417  -7.084020  -1.174820  -0.009482   \n",
       "f2       100000.0   2.495128   3.473445 -11.970335   0.130359   2.484236   \n",
       "product  100000.0  95.000000  44.749921   0.000000  59.450441  94.925613   \n",
       "\n",
       "                75%         max  \n",
       "f0         1.158535    7.238262  \n",
       "f1         1.163678    7.844801  \n",
       "f2         4.858794   16.739402  \n",
       "product  130.595027  190.029838  "
      ]
     },
     "execution_count": 121,
     "metadata": {},
     "output_type": "execute_result"
    }
   ],
   "source": [
    "geo_2.describe().T"
   ]
  },
  {
   "cell_type": "markdown",
   "metadata": {},
   "source": [
    "Выводы по этапу:\n",
    "\n",
    "- Данные успешно загружены и соотносимы между собой\n",
    "\n",
    "- Пропуски отсутствуют, полных дубликатов также не обнаружено (как минимум 3 столбца - уникальны)\n",
    "\n",
    "- Некоторые id повторяются, однако это не является проблемой, так как они предоставляют нам дополнительные сведения для моделей, хоть и взяты с одного источника. Более того, он не понадобится нам в дальнейшем.\n",
    "\n",
    "- Статистика информативна только по продукту: самое маленькое среднее в выборках - в регионе с индексом 1."
   ]
  },
  {
   "cell_type": "markdown",
   "metadata": {},
   "source": [
    "# 2. Обучение и проверка модели"
   ]
  },
  {
   "cell_type": "code",
   "execution_count": 122,
   "metadata": {},
   "outputs": [],
   "source": [
    "from sklearn.model_selection import train_test_split\n",
    "from sklearn.metrics import mean_squared_error\n",
    "from sklearn.metrics import mean_absolute_error\n",
    "from sklearn.metrics import r2_score\n",
    "from sklearn.model_selection import GridSearchCV\n",
    "from sklearn.linear_model import LinearRegression"
   ]
  },
  {
   "cell_type": "code",
   "execution_count": 123,
   "metadata": {},
   "outputs": [],
   "source": [
    "def grid_search(model, param_grid, cv, x, y):\n",
    "        grid_model = GridSearchCV(model, param_grid=param_grid, cv=cv, verbose=1, n_jobs=-1)\n",
    "        grid_model.fit(x, y)\n",
    "        best_estimator = grid_model.best_estimator_\n",
    "        return best_estimator"
   ]
  },
  {
   "cell_type": "code",
   "execution_count": 124,
   "metadata": {},
   "outputs": [],
   "source": [
    "def visualize(data,title,x ='product', y ='predicted'):\n",
    "    plt.figure(figsize=(15,10))\n",
    "    ax = sns.regplot(x ='product',y = 'predicted', x_bins=100, data = data).set_title(title)"
   ]
  },
  {
   "cell_type": "code",
   "execution_count": 125,
   "metadata": {},
   "outputs": [],
   "source": [
    "def visualize_dist(data1, data2, title, bins=100):\n",
    "    _,ax = plt.subplots(figsize=(10,10))\n",
    "    \n",
    "    ax.hist(data1, bins = bins, color = 'red', alpha = 0.65, label = 'real')\n",
    "    ax.hist(data2, bins = bins, color = 'blue', alpha = 0.65, label = 'data2_name')\n",
    "        \n",
    "    ax.axvline(data1.mean(),linestyle = '--', color = 'lime', label = 'Real')\n",
    "                \n",
    "    ax.axvline(data2.mean(),linestyle = '--', color = 'coral', label = 'Predicted')\n",
    "                \n",
    "    #ax.set_ylabel(y_label)\n",
    "    #ax.set_xlabel(x_label)\n",
    "    ax.set_title(title)\n",
    "    ax.legend(loc='best')"
   ]
  },
  {
   "cell_type": "code",
   "execution_count": 126,
   "metadata": {},
   "outputs": [],
   "source": [
    "param_grid = {'fit_intercept':[True, False], 'normalize':[True, False], 'copy_X':[True, False]}"
   ]
  },
  {
   "cell_type": "code",
   "execution_count": 127,
   "metadata": {},
   "outputs": [],
   "source": [
    "scores = []"
   ]
  },
  {
   "cell_type": "code",
   "execution_count": 128,
   "metadata": {},
   "outputs": [],
   "source": [
    "lin = LinearRegression()"
   ]
  },
  {
   "cell_type": "markdown",
   "metadata": {},
   "source": [
    "### Регион 1"
   ]
  },
  {
   "cell_type": "code",
   "execution_count": 129,
   "metadata": {},
   "outputs": [],
   "source": [
    "X_train_1, X_test_1, y_train_1, y_test_1 = train_test_split(\\\n",
    "                                geo_0.iloc[:,1:-1], geo_0['product'], test_size=0.25, random_state=42)"
   ]
  },
  {
   "cell_type": "code",
   "execution_count": 130,
   "metadata": {},
   "outputs": [
    {
     "data": {
      "text/plain": [
       "((75000, 3), (75000,))"
      ]
     },
     "execution_count": 130,
     "metadata": {},
     "output_type": "execute_result"
    }
   ],
   "source": [
    "X_train_1.shape, y_train_1.shape"
   ]
  },
  {
   "cell_type": "code",
   "execution_count": 131,
   "metadata": {},
   "outputs": [
    {
     "name": "stdout",
     "output_type": "stream",
     "text": [
      "Fitting 4 folds for each of 8 candidates, totalling 32 fits\n"
     ]
    },
    {
     "name": "stderr",
     "output_type": "stream",
     "text": [
      "[Parallel(n_jobs=-1)]: Using backend SequentialBackend with 1 concurrent workers.\n",
      "[Parallel(n_jobs=-1)]: Done  32 out of  32 | elapsed:    3.1s finished\n"
     ]
    }
   ],
   "source": [
    "lin_1 = grid_search(lin, param_grid, 4, X_train_1, y_train_1)"
   ]
  },
  {
   "cell_type": "code",
   "execution_count": 132,
   "metadata": {},
   "outputs": [],
   "source": [
    "y_predict_1 = lin_1.predict(X_test_1)"
   ]
  },
  {
   "cell_type": "code",
   "execution_count": 133,
   "metadata": {},
   "outputs": [],
   "source": [
    "region_1_report = pd.DataFrame(y_test_1)\n",
    "region_1_report['predicted'] = y_predict_1"
   ]
  },
  {
   "cell_type": "code",
   "execution_count": 134,
   "metadata": {},
   "outputs": [
    {
     "data": {
      "text/html": [
       "<div>\n",
       "<style scoped>\n",
       "    .dataframe tbody tr th:only-of-type {\n",
       "        vertical-align: middle;\n",
       "    }\n",
       "\n",
       "    .dataframe tbody tr th {\n",
       "        vertical-align: top;\n",
       "    }\n",
       "\n",
       "    .dataframe thead th {\n",
       "        text-align: right;\n",
       "    }\n",
       "</style>\n",
       "<table border=\"1\" class=\"dataframe\">\n",
       "  <thead>\n",
       "    <tr style=\"text-align: right;\">\n",
       "      <th></th>\n",
       "      <th>product</th>\n",
       "      <th>predicted</th>\n",
       "    </tr>\n",
       "  </thead>\n",
       "  <tbody>\n",
       "    <tr>\n",
       "      <td>46784</td>\n",
       "      <td>153.639837</td>\n",
       "      <td>176.536104</td>\n",
       "    </tr>\n",
       "    <tr>\n",
       "      <td>27658</td>\n",
       "      <td>140.631646</td>\n",
       "      <td>176.274510</td>\n",
       "    </tr>\n",
       "    <tr>\n",
       "      <td>6496</td>\n",
       "      <td>178.879516</td>\n",
       "      <td>173.249504</td>\n",
       "    </tr>\n",
       "    <tr>\n",
       "      <td>65743</td>\n",
       "      <td>176.807828</td>\n",
       "      <td>172.802708</td>\n",
       "    </tr>\n",
       "    <tr>\n",
       "      <td>93716</td>\n",
       "      <td>130.985681</td>\n",
       "      <td>172.744977</td>\n",
       "    </tr>\n",
       "  </tbody>\n",
       "</table>\n",
       "</div>"
      ],
      "text/plain": [
       "          product   predicted\n",
       "46784  153.639837  176.536104\n",
       "27658  140.631646  176.274510\n",
       "6496   178.879516  173.249504\n",
       "65743  176.807828  172.802708\n",
       "93716  130.985681  172.744977"
      ]
     },
     "execution_count": 134,
     "metadata": {},
     "output_type": "execute_result"
    }
   ],
   "source": [
    "region_1_report.sort_values('predicted', ascending=False).head()"
   ]
  },
  {
   "cell_type": "markdown",
   "metadata": {},
   "source": []
  },
  {
   "cell_type": "code",
   "execution_count": 28,
   "metadata": {},
   "outputs": [
    {
     "data": {
      "image/png": "[encoded data removed]",
      "text/plain": [
       "<Figure size 1080x720 with 1 Axes>"
      ]
     },
     "metadata": {
      "needs_background": "light"
     },
     "output_type": "display_data"
    }
   ],
   "source": [
    "visualize(region_1_report, 'Регрессия для 1-го региона')"
   ]
  },
  {
   "cell_type": "markdown",
   "metadata": {},
   "source": [
    "### Расчет метрик и среднего значения"
   ]
  },
  {
   "cell_type": "code",
   "execution_count": 29,
   "metadata": {},
   "outputs": [
    {
     "name": "stdout",
     "output_type": "stream",
     "text": [
      "Метрики для региона 1:\n",
      "Корень среднеквадратичной ошибки - 37.76\n",
      "Абсолютная средняя ошибка  - 31.05\n",
      "R2-Score - 0.27\n",
      "\n",
      "Среднее значение для региона - 92.40, настоящее среднее - 92.33\n"
     ]
    }
   ],
   "source": [
    "mse_1 = mean_squared_error(y_test_1, y_predict_1 )\n",
    "rmse_1 = mse_1 ** 0.5\n",
    "\n",
    "mae_1 = mean_absolute_error(y_test_1, y_predict_1)\n",
    "\n",
    "r2_1 = r2_score(y_test_1, y_predict_1 )\n",
    "\n",
    "mean_1 = np.mean(region_1_report['predicted'])\n",
    "mean_1_true = np.mean(region_1_report['product'])\n",
    "\n",
    "print(f'Метрики для региона 1:\\nКорень среднеквадратичной ошибки - \\\n",
    "{rmse_1:.2f}\\nАбсолютная средняя ошибка  - {mae_1:.2f}\\nR2-Score - {r2_1:.2f}\\\n",
    "\\n\\nСреднее значение для региона - {mean_1:.2f}, настоящее среднее - {mean_1_true:.2f}')\n"
   ]
  },
  {
   "cell_type": "code",
   "execution_count": 30,
   "metadata": {},
   "outputs": [
    {
     "data": {
      "text/plain": [
       "[['region_1',\n",
       "  37.75660035026169,\n",
       "  31.047681538788183,\n",
       "  0.2728287328173471,\n",
       "  92.3987999065777,\n",
       "  92.32595637084387]]"
      ]
     },
     "execution_count": 30,
     "metadata": {},
     "output_type": "execute_result"
    }
   ],
   "source": [
    "scores.append(['region_1',  rmse_1, mae_1, r2_1, mean_1, mean_1_true])\n",
    "scores"
   ]
  },
  {
   "cell_type": "markdown",
   "metadata": {},
   "source": [
    "Вывод по первому региону:\n",
    "\n",
    "- Модель показала спорную эффективность в предсказании значении скважины – по сути она предсказывает аппроксимировала к среднему значению показатели по разным месторождениям. Отсюда логичный вывод, что у нас недостаток \n",
    "\n",
    "- Средний запас сырья предсказанный моделью - 92,4 тыс. баррелей\n",
    "\n",
    "- Корень из среднеквадратической ошибки (RMSE) - 37,75 тыс. баррелей\n",
    "\n",
    "- Абсолютная ошибка - 31 тыс. баррелей\n",
    "\n",
    "Таким образом, мы получили достаточно широкий разброс значений относительно действительного для данного региона. Проделаем ту же операцию с остальными."
   ]
  },
  {
   "cell_type": "markdown",
   "metadata": {},
   "source": [
    "## Регион 2"
   ]
  },
  {
   "cell_type": "code",
   "execution_count": 151,
   "metadata": {},
   "outputs": [],
   "source": [
    "X_train_2, X_test_2, y_train_2, y_test_2 = train_test_split(\\\n",
    "                                geo_1.iloc[:,1:-1], geo_1['product'], test_size=0.25, random_state=42)"
   ]
  },
  {
   "cell_type": "code",
   "execution_count": 152,
   "metadata": {},
   "outputs": [
    {
     "name": "stdout",
     "output_type": "stream",
     "text": [
      "Fitting 4 folds for each of 8 candidates, totalling 32 fits\n"
     ]
    },
    {
     "name": "stderr",
     "output_type": "stream",
     "text": [
      "[Parallel(n_jobs=-1)]: Using backend SequentialBackend with 1 concurrent workers.\n",
      "[Parallel(n_jobs=-1)]: Done  32 out of  32 | elapsed:    3.6s finished\n"
     ]
    }
   ],
   "source": [
    "lin_2 = grid_search(lin, param_grid, 4, X_train_2, y_train_2)"
   ]
  },
  {
   "cell_type": "code",
   "execution_count": 153,
   "metadata": {},
   "outputs": [],
   "source": [
    "y_predict_2 = lin_2.predict(X_test_2)"
   ]
  },
  {
   "cell_type": "code",
   "execution_count": 154,
   "metadata": {},
   "outputs": [],
   "source": [
    "region_2_report = pd.DataFrame(y_test_2)\n",
    "region_2_report['predicted'] = y_predict_2\n",
    "\n"
   ]
  },
  {
   "cell_type": "code",
   "execution_count": 35,
   "metadata": {},
   "outputs": [
    {
     "data": {
      "image/png": "[encoded data removed]",
      "text/plain": [
       "<Figure size 1080x720 with 1 Axes>"
      ]
     },
     "metadata": {
      "needs_background": "light"
     },
     "output_type": "display_data"
    }
   ],
   "source": [
    "visualize(region_2_report, 'Регрессия для 2-го региона')"
   ]
  },
  {
   "cell_type": "code",
   "execution_count": 36,
   "metadata": {},
   "outputs": [
    {
     "name": "stdout",
     "output_type": "stream",
     "text": [
      "Метрики для региона 2:\n",
      "Корень среднеквадратичной ошибки - 0.89\n",
      "Абсолютная средняя ошибка  - 0.72\n",
      "R2-Score - 1.00\n",
      "\n",
      "Среднее значение для региона - 68.71, настоящее среднее - 68.73\n"
     ]
    }
   ],
   "source": [
    "mse_2 = mean_squared_error(y_test_2, y_predict_2 )\n",
    "rmse_2 = mse_2 ** 0.5\n",
    "\n",
    "mae_2 = mean_absolute_error(y_test_2, y_predict_2)\n",
    "\n",
    "r2_2 = r2_score(y_test_2, y_predict_2 )\n",
    "\n",
    "mean_2 = np.mean(region_2_report['predicted'])\n",
    "mean_2_true = np.mean(region_2_report['product'])\n",
    "\n",
    "print(f'Метрики для региона 2:\\nКорень среднеквадратичной ошибки - \\\n",
    "{rmse_2:.2f}\\nАбсолютная средняя ошибка  - {mae_2:.2f}\\nR2-Score - {r2_2:.2f}\\\n",
    "\\n\\nСреднее значение для региона - {mean_2:.2f}, настоящее среднее - {mean_2_true:.2f}')\n"
   ]
  },
  {
   "cell_type": "code",
   "execution_count": 37,
   "metadata": {},
   "outputs": [],
   "source": [
    "scores.append(['region_2',  rmse_2, mae_2, r2_2, mean_2, mean_2_true])"
   ]
  },
  {
   "cell_type": "markdown",
   "metadata": {},
   "source": [
    "Вывод по второму региону:\n",
    "\n",
    "- Модель показала спорную эффективность в предсказании значении скважины – по сути она предсказывает аппроксимировала к среднему значению показатели по разным месторождениям. Отсюда логичный вывод, что у нас недостаток \n",
    "\n",
    "- Средний запас сырья предсказанный моделью - 68.71 тыс. баррелей, реальный - 68.73\n",
    "\n",
    "- Корень из среднеквадратической ошибки (RMSE) - 0.89 тыс. баррелей\n",
    "\n",
    "- Абсолютная ошибка - 0.72 тыс. баррелей\n",
    "\n",
    "- R2-Score - 1\n",
    "\n",
    "Таким образом, мы получили очень хорошие оценки, следовательно низкая вариация объектом по целевому признаку в регионе или связь между факторными переменными и целевой – более явная. Перейдем к третьему региону"
   ]
  },
  {
   "cell_type": "markdown",
   "metadata": {},
   "source": [
    "## Регион 3"
   ]
  },
  {
   "cell_type": "code",
   "execution_count": 38,
   "metadata": {},
   "outputs": [],
   "source": [
    "X_train_3, X_test_3, y_train_3, y_test_3 = train_test_split(\\\n",
    "                                geo_2.iloc[:,1:-1], geo_2['product'], test_size=0.25, random_state=42)"
   ]
  },
  {
   "cell_type": "code",
   "execution_count": 39,
   "metadata": {},
   "outputs": [
    {
     "name": "stdout",
     "output_type": "stream",
     "text": [
      "Fitting 4 folds for each of 8 candidates, totalling 32 fits\n"
     ]
    },
    {
     "name": "stderr",
     "output_type": "stream",
     "text": [
      "[Parallel(n_jobs=-1)]: Using backend SequentialBackend with 1 concurrent workers.\n",
      "[Parallel(n_jobs=-1)]: Done  32 out of  32 | elapsed:    3.3s finished\n"
     ]
    }
   ],
   "source": [
    "lin_3 = grid_search(lin, param_grid, 4, X_train_3, y_train_3)"
   ]
  },
  {
   "cell_type": "code",
   "execution_count": 40,
   "metadata": {},
   "outputs": [],
   "source": [
    "y_predict_3 = lin_3.predict(X_test_3)"
   ]
  },
  {
   "cell_type": "code",
   "execution_count": 41,
   "metadata": {},
   "outputs": [],
   "source": [
    "region_3_report = pd.DataFrame(y_test_3)\n",
    "region_3_report['predicted'] = y_predict_3"
   ]
  },
  {
   "cell_type": "code",
   "execution_count": 42,
   "metadata": {},
   "outputs": [
    {
     "data": {
      "image/png": "[encoded data removed]",
      "text/plain": [
       "<Figure size 1080x720 with 1 Axes>"
      ]
     },
     "metadata": {
      "needs_background": "light"
     },
     "output_type": "display_data"
    }
   ],
   "source": [
    "visualize(region_3_report, 'Регрессия для 3-го региона')"
   ]
  },
  {
   "cell_type": "code",
   "execution_count": 43,
   "metadata": {},
   "outputs": [
    {
     "name": "stdout",
     "output_type": "stream",
     "text": [
      "Метрики для региона 3:\n",
      "Корень среднеквадратичной ошибки - 40.15\n",
      "Абсолютная средняя ошибка  - 32.90\n",
      "R2-Score - 0.20\n",
      "\n",
      "Среднее значение для региона - 94.77, настоящее среднее - 95.15\n"
     ]
    }
   ],
   "source": [
    "mse_3 = mean_squared_error(y_test_3, y_predict_3 )\n",
    "rmse_3 = mse_3 ** 0.5\n",
    "\n",
    "mae_3 = mean_absolute_error(y_test_3, y_predict_3)\n",
    "\n",
    "r2_3 = r2_score(y_test_3, y_predict_3)\n",
    "\n",
    "mean_3 = np.mean(region_3_report['predicted'])\n",
    "mean_3_true = np.mean(region_3_report['product'])\n",
    "\n",
    "print(f'Метрики для региона 3:\\nКорень среднеквадратичной ошибки - \\\n",
    "{rmse_3:.2f}\\nАбсолютная средняя ошибка  - {mae_3:.2f}\\nR2-Score - {r2_3:.2f}\\\n",
    "\\n\\nСреднее значение для региона - {mean_3:.2f}, настоящее среднее - {mean_3_true:.2f}')\n"
   ]
  },
  {
   "cell_type": "code",
   "execution_count": 44,
   "metadata": {},
   "outputs": [],
   "source": [
    "scores.append(['region_3',  rmse_3, mae_3, r2_3, mean_3, mean_3_true])"
   ]
  },
  {
   "cell_type": "markdown",
   "metadata": {},
   "source": [
    "Вывод по второму региону:\n",
    "\n",
    "- Модель показала похожие результирующие показатели по сравнению с 1-ым регионом, нежели, чем со второым\n",
    "\n",
    "- Средний запас сырья предсказанный моделью - 94.77 тыс. баррелей, реальный - 95.15\n",
    "\n",
    "- Корень из среднеквадратической ошибки (RMSE) - 40,15 тыс. баррелей\n",
    "\n",
    "- Абсолютная ошибка - 32.90 тыс. баррелей\n",
    "\n",
    "- R2-Score - 0.2\n",
    "\n",
    "**Таким образом, мы получили схожие результаты, как в первом регионе**"
   ]
  },
  {
   "cell_type": "markdown",
   "metadata": {},
   "source": [
    "## Посмотрим на распределение ответов в каждом из регионов\n",
    "\n",
    "### Регион 1"
   ]
  },
  {
   "cell_type": "code",
   "execution_count": 45,
   "metadata": {},
   "outputs": [
    {
     "data": {
      "image/png": "[encoded data removed]",
      "text/plain": [
       "<Figure size 720x720 with 1 Axes>"
      ]
     },
     "metadata": {
      "needs_background": "light"
     },
     "output_type": "display_data"
    }
   ],
   "source": [
    "visualize_dist(region_1_report['product'],region_1_report['predicted'],'Распределение ответов и реальных значений (1)')"
   ]
  },
  {
   "cell_type": "markdown",
   "metadata": {},
   "source": [
    "### Регион 2"
   ]
  },
  {
   "cell_type": "code",
   "execution_count": 46,
   "metadata": {},
   "outputs": [
    {
     "data": {
      "image/png": "[encoded data removed]",
      "text/plain": [
       "<Figure size 720x720 with 1 Axes>"
      ]
     },
     "metadata": {
      "needs_background": "light"
     },
     "output_type": "display_data"
    }
   ],
   "source": [
    "visualize_dist(region_2_report['product'],region_2_report['predicted'],'Распределение ответов и реальных значений (2)')"
   ]
  },
  {
   "cell_type": "markdown",
   "metadata": {},
   "source": [
    "### Регион 3"
   ]
  },
  {
   "cell_type": "code",
   "execution_count": 47,
   "metadata": {},
   "outputs": [
    {
     "data": {
      "image/png": "[encoded data removed]",
      "text/plain": [
       "<Figure size 720x720 with 1 Axes>"
      ]
     },
     "metadata": {
      "needs_background": "light"
     },
     "output_type": "display_data"
    }
   ],
   "source": [
    "visualize_dist(region_3_report['product'],region_3_report['predicted'],'Распределение ответов и реальных значений (3)')"
   ]
  },
  {
   "cell_type": "markdown",
   "metadata": {},
   "source": [
    "Таким образом, мы явном можем увидеть то, что\n",
    " \n",
    " - **в регионе 1 и 3 модель линейной регрессии \"усреднила запасы\", плотность её оценок гораздо выше, чем реальные значения запасов.**\n",
    "\n",
    "\n",
    " - **в регионе 2 - месторождения разбились на группы по параметрам, что заставляет задуматься о том, что факторные и целевая переменные были приведены к некоему усредненному значению и лишь затем переданы в работу.**\n",
    "\n",
    "### Результаты работы модели в разных регионах"
   ]
  },
  {
   "cell_type": "code",
   "execution_count": 48,
   "metadata": {},
   "outputs": [],
   "source": [
    "df_scores = pd.DataFrame(data = scores, columns =['region','RMSE', 'MAE', 'R2-Score', 'Predicted_mean', 'Real_mean'])\n"
   ]
  },
  {
   "cell_type": "code",
   "execution_count": 49,
   "metadata": {},
   "outputs": [
    {
     "data": {
      "text/html": [
       "<style  type=\"text/css\" >\n",
       "    #T_3e4e2d78_ffdc_11ea_9dbe_02420a393713row1_col3 {\n",
       "            background-color:  lightblue;\n",
       "        }    #T_3e4e2d78_ffdc_11ea_9dbe_02420a393713row2_col1 {\n",
       "            background-color:  lightblue;\n",
       "        }    #T_3e4e2d78_ffdc_11ea_9dbe_02420a393713row2_col2 {\n",
       "            background-color:  lightblue;\n",
       "        }    #T_3e4e2d78_ffdc_11ea_9dbe_02420a393713row2_col4 {\n",
       "            background-color:  lightblue;\n",
       "        }    #T_3e4e2d78_ffdc_11ea_9dbe_02420a393713row2_col5 {\n",
       "            background-color:  lightblue;\n",
       "        }</style><table id=\"T_3e4e2d78_ffdc_11ea_9dbe_02420a393713\" ><thead>    <tr>        <th class=\"blank level0\" ></th>        <th class=\"col_heading level0 col0\" >region</th>        <th class=\"col_heading level0 col1\" >RMSE</th>        <th class=\"col_heading level0 col2\" >MAE</th>        <th class=\"col_heading level0 col3\" >R2-Score</th>        <th class=\"col_heading level0 col4\" >Predicted_mean</th>        <th class=\"col_heading level0 col5\" >Real_mean</th>    </tr></thead><tbody>\n",
       "                <tr>\n",
       "                        <th id=\"T_3e4e2d78_ffdc_11ea_9dbe_02420a393713level0_row0\" class=\"row_heading level0 row0\" >0</th>\n",
       "                        <td id=\"T_3e4e2d78_ffdc_11ea_9dbe_02420a393713row0_col0\" class=\"data row0 col0\" >region_1</td>\n",
       "                        <td id=\"T_3e4e2d78_ffdc_11ea_9dbe_02420a393713row0_col1\" class=\"data row0 col1\" >37.7566</td>\n",
       "                        <td id=\"T_3e4e2d78_ffdc_11ea_9dbe_02420a393713row0_col2\" class=\"data row0 col2\" >31.0477</td>\n",
       "                        <td id=\"T_3e4e2d78_ffdc_11ea_9dbe_02420a393713row0_col3\" class=\"data row0 col3\" >0.272829</td>\n",
       "                        <td id=\"T_3e4e2d78_ffdc_11ea_9dbe_02420a393713row0_col4\" class=\"data row0 col4\" >92.3988</td>\n",
       "                        <td id=\"T_3e4e2d78_ffdc_11ea_9dbe_02420a393713row0_col5\" class=\"data row0 col5\" >92.326</td>\n",
       "            </tr>\n",
       "            <tr>\n",
       "                        <th id=\"T_3e4e2d78_ffdc_11ea_9dbe_02420a393713level0_row1\" class=\"row_heading level0 row1\" >1</th>\n",
       "                        <td id=\"T_3e4e2d78_ffdc_11ea_9dbe_02420a393713row1_col0\" class=\"data row1 col0\" >region_2</td>\n",
       "                        <td id=\"T_3e4e2d78_ffdc_11ea_9dbe_02420a393713row1_col1\" class=\"data row1 col1\" >0.89028</td>\n",
       "                        <td id=\"T_3e4e2d78_ffdc_11ea_9dbe_02420a393713row1_col2\" class=\"data row1 col2\" >0.717012</td>\n",
       "                        <td id=\"T_3e4e2d78_ffdc_11ea_9dbe_02420a393713row1_col3\" class=\"data row1 col3\" >0.999625</td>\n",
       "                        <td id=\"T_3e4e2d78_ffdc_11ea_9dbe_02420a393713row1_col4\" class=\"data row1 col4\" >68.7129</td>\n",
       "                        <td id=\"T_3e4e2d78_ffdc_11ea_9dbe_02420a393713row1_col5\" class=\"data row1 col5\" >68.7254</td>\n",
       "            </tr>\n",
       "            <tr>\n",
       "                        <th id=\"T_3e4e2d78_ffdc_11ea_9dbe_02420a393713level0_row2\" class=\"row_heading level0 row2\" >2</th>\n",
       "                        <td id=\"T_3e4e2d78_ffdc_11ea_9dbe_02420a393713row2_col0\" class=\"data row2 col0\" >region_3</td>\n",
       "                        <td id=\"T_3e4e2d78_ffdc_11ea_9dbe_02420a393713row2_col1\" class=\"data row2 col1\" >40.1459</td>\n",
       "                        <td id=\"T_3e4e2d78_ffdc_11ea_9dbe_02420a393713row2_col2\" class=\"data row2 col2\" >32.897</td>\n",
       "                        <td id=\"T_3e4e2d78_ffdc_11ea_9dbe_02420a393713row2_col3\" class=\"data row2 col3\" >0.196347</td>\n",
       "                        <td id=\"T_3e4e2d78_ffdc_11ea_9dbe_02420a393713row2_col4\" class=\"data row2 col4\" >94.771</td>\n",
       "                        <td id=\"T_3e4e2d78_ffdc_11ea_9dbe_02420a393713row2_col5\" class=\"data row2 col5\" >95.151</td>\n",
       "            </tr>\n",
       "    </tbody></table>"
      ],
      "text/plain": [
       "<pandas.io.formats.style.Styler at 0x7fae3db06850>"
      ]
     },
     "execution_count": 49,
     "metadata": {},
     "output_type": "execute_result"
    }
   ],
   "source": [
    "df_scores.style.highlight_max(color='lightblue', axis = 0)"
   ]
  },
  {
   "cell_type": "markdown",
   "metadata": {},
   "source": [
    "### Выводы по данной части:\n",
    "\n",
    "1. В каждом регионе были построены модели с соответствующим RMSE (корень среднеквадратичной ошибки) :\n",
    "    - Регион 1 - 37.7566\n",
    "    - Регион 2 - 0.89028\n",
    "    - Регион 3 - 40.1459\n",
    "\n",
    "\n",
    "2. MAE (абсолютная ошибка):\n",
    "    - Регион 1 - 31.05\n",
    "    - Регион 2 - 0.71\n",
    "    - Регион 3 - 32.89\n",
    "\n",
    "\n",
    "3. R2-Score (коэффициент детерминации):\n",
    "    - Регион 1 - 0.27\n",
    "    - Регион 2 - 0.99\n",
    "    - Регион 3 - 0.19\n",
    " \n",
    " \n",
    "4. Среднее (тыс. баррелей)\n",
    "    - Предсказанное среднее в 1-м регионе - 92.4, реальное - 92.3 \n",
    "    - Предсказанное среднее в 2-м регионе - 68.7, реальное - 68.7\n",
    "    - Предсказанное среднее в 3-м регионе - 94.7, реальное - 95.15\n",
    "    \n",
    "    \n",
    "    \n",
    "5. Основываясь на графическом представлении распределений реальных и предсказанных значений, мы можем заключить, что регион 1 и 2 были \"усреднены\" по показаниям запасов в связи с недостаточной полной признаков (распределение предсказаний намного более плотное, чем ответов). То есть, они были существенно аппроксимированы к среднему значению в регионе. В регионе 2 значения факторных и целевой переменной, скорее всего, были существенным образом стандартизированны (Предположим, что нам дали усредненные значения в группах)\n",
    "\n",
    "\n",
    "6. Таким образом, на полученных данных модели оказались малопригодны. Для 1 и 3-го по предсказанием на условно \"сырых\" данных - необходимо нарастить количество признаков, чтобы добиться лучшего результата, для 2-го представить полные данные"
   ]
  },
  {
   "cell_type": "markdown",
   "metadata": {},
   "source": [
    "# 3. Подготовка к расчёту прибыли\n",
    "\n",
    "Сохраним ключевые значения констант для расчетов:\n",
    "\n",
    "- Общий бюджет - 10 млрд. рублей\n",
    "\n",
    "- Доход с единицы признака - 450 рублей * 10^3\n",
    "\n",
    "- Исследуемые скважины - 500\n",
    "\n",
    "- Отбор по 200 лучших\n",
    "\n",
    "**Константа бюджета (рубли)**"
   ]
  },
  {
   "cell_type": "code",
   "execution_count": 135,
   "metadata": {},
   "outputs": [
    {
     "data": {
      "text/plain": [
       "10000000000"
      ]
     },
     "execution_count": 135,
     "metadata": {},
     "output_type": "execute_result"
    }
   ],
   "source": [
    "budget = 10**10\n",
    "budget"
   ]
  },
  {
   "cell_type": "markdown",
   "metadata": {},
   "source": [
    "**Константа дохода с единицы `product` (рубли/тыс.баррелей)**"
   ]
  },
  {
   "cell_type": "code",
   "execution_count": 136,
   "metadata": {},
   "outputs": [
    {
     "data": {
      "text/plain": [
       "450000"
      ]
     },
     "execution_count": 136,
     "metadata": {},
     "output_type": "execute_result"
    }
   ],
   "source": [
    "revenue_per_well = 450000\n",
    "\n",
    "revenue_per_well"
   ]
  },
  {
   "cell_type": "markdown",
   "metadata": {},
   "source": [
    "**Посчитаем минимально необходимое количество продукции на каждой скважине в разрабатываемом регионе:**"
   ]
  },
  {
   "cell_type": "code",
   "execution_count": 137,
   "metadata": {},
   "outputs": [
    {
     "name": "stdout",
     "output_type": "stream",
     "text": [
      "На каждой скважине требуется как минимум 111 тыс. баррелей\n",
      "Для окупаемости бюджета в регионе требуется освоить всего 22222 тыс.баррелей\n"
     ]
    }
   ],
   "source": [
    "min_product_single = int(budget/(revenue_per_well*200))\n",
    "min_product_sum = int(budget/(revenue_per_well))\n",
    "\n",
    "print(f'На каждой скважине требуется как минимум {min_product_single}\\\n",
    " тыс. баррелей\\nДля окупаемости бюджета в регионе требуется освоить всего {min_product_sum} тыс.баррелей')"
   ]
  },
  {
   "cell_type": "markdown",
   "metadata": {},
   "source": [
    "Получили, что для окупаемости бюджета в 10 млрд. рублей нужно, чтобы в среднем на скважинах было как минимум 111 тыс. баррелей запаса.\n",
    "\n",
    "Таким образом, наша задача сводится к поиску такого региона, в котором наша модель наиболее удовлетворительно предсказывает запасы на скважине. \n",
    "\n",
    "Функция расчет прибыли должна по предсказаниям по шахте давать прогноз прибыли:"
   ]
  },
  {
   "cell_type": "code",
   "execution_count": 76,
   "metadata": {},
   "outputs": [],
   "source": [
    "def profit_(data, col_1 ='product', col_2 = 'predicted'):\n",
    "    \n",
    "    wells = data.sort_values(by = col_2 , ascending=False)\n",
    "    good_wells = wells.iloc[:200]\n",
    "    total_revenue = np.sum(good_wells[col_1]) * revenue_per_well \n",
    "    profit = total_revenue - budget\n",
    "    return profit"
   ]
  },
  {
   "cell_type": "code",
   "execution_count": 191,
   "metadata": {},
   "outputs": [
    {
     "ename": "TypeError",
     "evalue": "profit() missing 1 required positional argument: 'predictions'",
     "output_type": "error",
     "traceback": [
      "\u001b[0;31m---------------------------------------------------------------------------\u001b[0m",
      "\u001b[0;31mTypeError\u001b[0m                                 Traceback (most recent call last)",
      "\u001b[0;32m<ipython-input-191-2a21842720a1>\u001b[0m in \u001b[0;36m<module>\u001b[0;34m\u001b[0m\n\u001b[0;32m----> 1\u001b[0;31m print(f'Максимальная прибыль первого региона - ', profit(region_1_report)\\\n\u001b[0m\u001b[1;32m      2\u001b[0m       \u001b[0;34m,\u001b[0m\u001b[0;34m'\\nМаксимальная прибыль второго региона - '\u001b[0m\u001b[0;34m,\u001b[0m\u001b[0mprofit\u001b[0m\u001b[0;34m(\u001b[0m\u001b[0mregion_2_report\u001b[0m\u001b[0;34m)\u001b[0m\u001b[0;31m\\\u001b[0m\u001b[0;34m\u001b[0m\u001b[0;34m\u001b[0m\u001b[0m\n\u001b[1;32m      3\u001b[0m      ,'\\nМаксимальная прибыль третьего региона - ',profit(region_3_report))\n",
      "\u001b[0;31mTypeError\u001b[0m: profit() missing 1 required positional argument: 'predictions'"
     ]
    }
   ],
   "source": [
    "print(f'Максимальная прибыль первого региона - ', profit(region_1_report)\\\n",
    "      ,'\\nМаксимальная прибыль второго региона - ',profit(region_2_report)\\\n",
    "     ,'\\nМаксимальная прибыль третьего региона - ',profit(region_3_report))"
   ]
  },
  {
   "cell_type": "markdown",
   "metadata": {},
   "source": [
    "Данные показатели иллюстрируют поведение в \"тепличных\" условиях, когда мы можем разведать все месторождения и без дополнительной процедуры поиска точного значения запасов.\n",
    "\n",
    "**Алгоритм проверки регионов:**\n",
    "\n",
    "1) Извлечь 500 наблюдений из тестовой выборки\n",
    "\n",
    "2) Выбрать лучшие 200 по оценке модели\n",
    "\n",
    "3) Сохранить результат прибыльности выборки\n",
    "\n",
    "4) Повторить для 1000 выборок\n",
    "\n",
    "5) Сохранить результат в массив"
   ]
  },
  {
   "cell_type": "code",
   "execution_count": 192,
   "metadata": {},
   "outputs": [],
   "source": [
    "def bootstrap(data, size = 500, iterations = 1000):\n",
    "    \n",
    "    profit_results = []\n",
    "    state = np.random.RandomState(42)\n",
    "    \n",
    "    for i in range(0, iterations):\n",
    "        comp_sample = data.sample(size, replace = True, random_state = state)\n",
    "        sample_profit = profit(comp_sample)\n",
    "        \n",
    "        profit_results.append(sample_profit)\n",
    "        \n",
    "    return profit_results"
   ]
  },
  {
   "cell_type": "code",
   "execution_count": null,
   "metadata": {},
   "outputs": [],
   "source": []
  },
  {
   "cell_type": "markdown",
   "metadata": {},
   "source": [
    "# 4. Расчёт прибыли и рисков "
   ]
  },
  {
   "cell_type": "code",
   "execution_count": 79,
   "metadata": {},
   "outputs": [],
   "source": [
    "import scipy.stats as st\n",
    "\n",
    "revenue_report = []"
   ]
  },
  {
   "cell_type": "code",
   "execution_count": 80,
   "metadata": {},
   "outputs": [],
   "source": [
    "def compute_risk(array):\n",
    "    total = len(array)\n",
    "    negative = 0\n",
    "    for mean in array:\n",
    "        if mean < 0:\n",
    "            negative +=1\n",
    "    \n",
    "    return negative / total"
   ]
  },
  {
   "cell_type": "markdown",
   "metadata": {},
   "source": [
    "### Регион 1\n",
    "\n",
    "**Бустрапим:**"
   ]
  },
  {
   "cell_type": "code",
   "execution_count": 81,
   "metadata": {},
   "outputs": [],
   "source": [
    "region_1_bootstrap = bootstrap(region_1_report)"
   ]
  },
  {
   "cell_type": "code",
   "execution_count": 82,
   "metadata": {},
   "outputs": [],
   "source": [
    "region_1_profits = np.divide(region_1_bootstrap, 10**9)"
   ]
  },
  {
   "cell_type": "markdown",
   "metadata": {},
   "source": [
    "**Вычисляем важные показатели:**"
   ]
  },
  {
   "cell_type": "code",
   "execution_count": 83,
   "metadata": {},
   "outputs": [],
   "source": [
    "mean_reg1 = np.mean(region_1_profits)\n",
    "median_reg1 = np.median(region_1_profits)\n",
    "lower_reg1 = np.quantile(region_1_profits, .025)\n",
    "conf_interval_reg1 = st.t.interval(0.95, len(region_1_profits)-1, \n",
    "                                    mean_reg1)\n",
    "confidence_interval_1 = (np.quantile(region_1_profits, 0.025), np.quantile(region_1_profits, 0.975))\n",
    "                         \n",
    "risks_1 = compute_risk(region_1_profits)"
   ]
  },
  {
   "cell_type": "markdown",
   "metadata": {},
   "source": [
    "**Визуализируем**"
   ]
  },
  {
   "cell_type": "code",
   "execution_count": 84,
   "metadata": {},
   "outputs": [
    {
     "data": {
      "text/plain": [
       "<matplotlib.lines.Line2D at 0x7fae3e056f90>"
      ]
     },
     "execution_count": 84,
     "metadata": {},
     "output_type": "execute_result"
    },
    {
     "data": {
      "image/png": "[encoded data removed]",
      "text/plain": [
       "<Figure size 432x288 with 1 Axes>"
      ]
     },
     "metadata": {
      "needs_background": "light"
     },
     "output_type": "display_data"
    }
   ],
   "source": [
    "ax = sns.distplot(region_1_bootstrap)\n",
    "ax.axvline(np.quantile(region_1_bootstrap, 0.025),linestyle = '--',color='r')"
   ]
  },
  {
   "cell_type": "markdown",
   "metadata": {},
   "source": [
    "**Добавляем в отчет**"
   ]
  },
  {
   "cell_type": "code",
   "execution_count": 85,
   "metadata": {},
   "outputs": [
    {
     "data": {
      "text/plain": [
       "[['region_1',\n",
       "  0.3995754780542297,\n",
       "  0.40378087879384517,\n",
       "  -0.11046789533197227,\n",
       "  (-1.5627659830792189, 2.361916939187678),\n",
       "  (-0.11046789533197227, 0.8974603277178793),\n",
       "  0.06]]"
      ]
     },
     "execution_count": 85,
     "metadata": {},
     "output_type": "execute_result"
    }
   ],
   "source": [
    "revenue_report.append(['region_1', mean_reg1,median_reg1,\\\n",
    "                       lower_reg1,conf_interval_reg1,\\\n",
    "                       confidence_interval_1,risks_1])\n",
    "\n",
    "revenue_report"
   ]
  },
  {
   "cell_type": "markdown",
   "metadata": {},
   "source": [
    "### Регион 2\n",
    "\n",
    "**Бутстрапим:**"
   ]
  },
  {
   "cell_type": "code",
   "execution_count": 86,
   "metadata": {},
   "outputs": [],
   "source": [
    "region_2_bootstrap = bootstrap(region_2_report)\n",
    "\n",
    "region_2_profits = np.divide(region_2_bootstrap, 10**9)"
   ]
  },
  {
   "cell_type": "markdown",
   "metadata": {},
   "source": [
    "**Вычисляем важные показатели:**"
   ]
  },
  {
   "cell_type": "code",
   "execution_count": 87,
   "metadata": {},
   "outputs": [],
   "source": [
    "mean_reg2 = np.mean(region_2_profits)\n",
    "median_reg2 = np.median(region_2_profits)\n",
    "lower_reg2 = np.quantile(region_2_profits, .025)\n",
    "conf_interval_reg2 = st.t.interval(0.95, len(region_2_profits)-1, \n",
    "                                    mean_reg2)\n",
    "\n",
    "confidence_interval_2 = (np.quantile(region_2_profits, 0.025), np.quantile(region_2_profits, 0.975))\n",
    "                         \n",
    "risks_2 = compute_risk(region_2_profits)"
   ]
  },
  {
   "cell_type": "markdown",
   "metadata": {},
   "source": [
    "**Визуализируем**"
   ]
  },
  {
   "cell_type": "code",
   "execution_count": 88,
   "metadata": {},
   "outputs": [
    {
     "data": {
      "text/plain": [
       "<matplotlib.lines.Line2D at 0x7fae46b770d0>"
      ]
     },
     "execution_count": 88,
     "metadata": {},
     "output_type": "execute_result"
    },
    {
     "data": {
      "image/png": "[encoded data removed]",
      "text/plain": [
       "<Figure size 432x288 with 1 Axes>"
      ]
     },
     "metadata": {
      "needs_background": "light"
     },
     "output_type": "display_data"
    }
   ],
   "source": [
    "ax = sns.distplot(region_2_bootstrap)\n",
    "ax.axvline(np.quantile(region_2_bootstrap, 0.025),linestyle = '--',color='r')"
   ]
  },
  {
   "cell_type": "markdown",
   "metadata": {},
   "source": [
    "**Добавляем в отчет**"
   ]
  },
  {
   "cell_type": "code",
   "execution_count": 89,
   "metadata": {},
   "outputs": [],
   "source": [
    "revenue_report.append(['region_2', mean_reg2,median_reg2,lower_reg2,conf_interval_reg2,confidence_interval_2,risks_2])"
   ]
  },
  {
   "cell_type": "markdown",
   "metadata": {},
   "source": [
    "### Регион 3\n",
    "\n",
    "**Бутстрапим**"
   ]
  },
  {
   "cell_type": "code",
   "execution_count": 90,
   "metadata": {},
   "outputs": [],
   "source": [
    "region_3_bootstrap = bootstrap(region_3_report)\n",
    "\n",
    "region_3_profits = np.divide(region_3_bootstrap, 10**9)"
   ]
  },
  {
   "cell_type": "markdown",
   "metadata": {},
   "source": [
    "**Вычисляем важные показатели:**"
   ]
  },
  {
   "cell_type": "code",
   "execution_count": 91,
   "metadata": {},
   "outputs": [],
   "source": [
    "mean_reg3 = np.mean(region_3_profits)\n",
    "lower_reg3 = np.quantile(region_3_profits, .025)\n",
    "median_reg3 = np.median(region_3_profits)\n",
    "conf_interval_reg3 = st.t.interval(0.95, len(region_3_profits)-1, \n",
    "                                    mean_reg2)\n",
    "\n",
    "#дополнение\n",
    "\n",
    "confidence_interval_3 = (np.quantile(region_3_profits, 0.025), np.quantile(region_3_profits, 0.975))\n",
    "                         \n",
    "risks_3 = compute_risk(region_3_profits)"
   ]
  },
  {
   "cell_type": "markdown",
   "metadata": {},
   "source": [
    "**Визуализируем**"
   ]
  },
  {
   "cell_type": "code",
   "execution_count": 92,
   "metadata": {},
   "outputs": [
    {
     "data": {
      "text/plain": [
       "<matplotlib.lines.Line2D at 0x7fae3e8d8b90>"
      ]
     },
     "execution_count": 92,
     "metadata": {},
     "output_type": "execute_result"
    },
    {
     "data": {
      "image/png": "[encoded data removed]",
      "text/plain": [
       "<Figure size 432x288 with 1 Axes>"
      ]
     },
     "metadata": {
      "needs_background": "light"
     },
     "output_type": "display_data"
    }
   ],
   "source": [
    "ax = sns.distplot(region_3_bootstrap)\n",
    "ax.axvline(np.quantile(region_3_bootstrap, 0.025),linestyle = '--',color='r')"
   ]
  },
  {
   "cell_type": "code",
   "execution_count": 93,
   "metadata": {},
   "outputs": [],
   "source": [
    "revenue_report.append(['region_3', mean_reg3,median_reg3,lower_reg3,conf_interval_reg3,confidence_interval_3,risks_3])"
   ]
  },
  {
   "cell_type": "markdown",
   "metadata": {},
   "source": [
    "## Отчет о прибыльности и общий вывод"
   ]
  },
  {
   "cell_type": "code",
   "execution_count": 94,
   "metadata": {},
   "outputs": [
    {
     "data": {
      "text/html": [
       "<style  type=\"text/css\" >\n",
       "    #T_061b227e_ffde_11ea_9dbe_02420a393713row1_col1 {\n",
       "            background-color:  lightgreen;\n",
       "        }    #T_061b227e_ffde_11ea_9dbe_02420a393713row1_col2 {\n",
       "            background-color:  lightgreen;\n",
       "        }    #T_061b227e_ffde_11ea_9dbe_02420a393713row1_col3 {\n",
       "            background-color:  lightgreen;\n",
       "        }    #T_061b227e_ffde_11ea_9dbe_02420a393713row2_col6 {\n",
       "            background-color:  lightgreen;\n",
       "        }</style><table id=\"T_061b227e_ffde_11ea_9dbe_02420a393713\" ><thead>    <tr>        <th class=\"blank level0\" ></th>        <th class=\"col_heading level0 col0\" >Регион</th>        <th class=\"col_heading level0 col1\" >Среднее</th>        <th class=\"col_heading level0 col2\" >Медиана</th>        <th class=\"col_heading level0 col3\" >Граница в 2,5%</th>        <th class=\"col_heading level0 col4\" >Доверительный интервал 95% - стат тест</th>        <th class=\"col_heading level0 col5\" >Доверительный интервал 95% - Bootstrap</th>        <th class=\"col_heading level0 col6\" >Риски, доля</th>    </tr></thead><tbody>\n",
       "                <tr>\n",
       "                        <th id=\"T_061b227e_ffde_11ea_9dbe_02420a393713level0_row0\" class=\"row_heading level0 row0\" >0</th>\n",
       "                        <td id=\"T_061b227e_ffde_11ea_9dbe_02420a393713row0_col0\" class=\"data row0 col0\" >region_1</td>\n",
       "                        <td id=\"T_061b227e_ffde_11ea_9dbe_02420a393713row0_col1\" class=\"data row0 col1\" >0.399575</td>\n",
       "                        <td id=\"T_061b227e_ffde_11ea_9dbe_02420a393713row0_col2\" class=\"data row0 col2\" >0.403781</td>\n",
       "                        <td id=\"T_061b227e_ffde_11ea_9dbe_02420a393713row0_col3\" class=\"data row0 col3\" >-0.110468</td>\n",
       "                        <td id=\"T_061b227e_ffde_11ea_9dbe_02420a393713row0_col4\" class=\"data row0 col4\" >(-1.5627659830792189, 2.361916939187678)</td>\n",
       "                        <td id=\"T_061b227e_ffde_11ea_9dbe_02420a393713row0_col5\" class=\"data row0 col5\" >(-0.11046789533197227, 0.8974603277178793)</td>\n",
       "                        <td id=\"T_061b227e_ffde_11ea_9dbe_02420a393713row0_col6\" class=\"data row0 col6\" >0.06</td>\n",
       "            </tr>\n",
       "            <tr>\n",
       "                        <th id=\"T_061b227e_ffde_11ea_9dbe_02420a393713level0_row1\" class=\"row_heading level0 row1\" >1</th>\n",
       "                        <td id=\"T_061b227e_ffde_11ea_9dbe_02420a393713row1_col0\" class=\"data row1 col0\" >region_2</td>\n",
       "                        <td id=\"T_061b227e_ffde_11ea_9dbe_02420a393713row1_col1\" class=\"data row1 col1\" >0.452049</td>\n",
       "                        <td id=\"T_061b227e_ffde_11ea_9dbe_02420a393713row1_col2\" class=\"data row1 col2\" >0.448141</td>\n",
       "                        <td id=\"T_061b227e_ffde_11ea_9dbe_02420a393713row1_col3\" class=\"data row1 col3\" >0.0616845</td>\n",
       "                        <td id=\"T_061b227e_ffde_11ea_9dbe_02420a393713row1_col4\" class=\"data row1 col4\" >(-1.5102925702269903, 2.414390352039907)</td>\n",
       "                        <td id=\"T_061b227e_ffde_11ea_9dbe_02420a393713row1_col5\" class=\"data row1 col5\" >(0.061684479654226736, 0.8453401775073849)</td>\n",
       "                        <td id=\"T_061b227e_ffde_11ea_9dbe_02420a393713row1_col6\" class=\"data row1 col6\" >0.015</td>\n",
       "            </tr>\n",
       "            <tr>\n",
       "                        <th id=\"T_061b227e_ffde_11ea_9dbe_02420a393713level0_row2\" class=\"row_heading level0 row2\" >2</th>\n",
       "                        <td id=\"T_061b227e_ffde_11ea_9dbe_02420a393713row2_col0\" class=\"data row2 col0\" >region_3</td>\n",
       "                        <td id=\"T_061b227e_ffde_11ea_9dbe_02420a393713row2_col1\" class=\"data row2 col1\" >0.37501</td>\n",
       "                        <td id=\"T_061b227e_ffde_11ea_9dbe_02420a393713row2_col2\" class=\"data row2 col2\" >0.372647</td>\n",
       "                        <td id=\"T_061b227e_ffde_11ea_9dbe_02420a393713row2_col3\" class=\"data row2 col3\" >-0.144767</td>\n",
       "                        <td id=\"T_061b227e_ffde_11ea_9dbe_02420a393713row2_col4\" class=\"data row2 col4\" >(-1.5102925702269903, 2.414390352039907)</td>\n",
       "                        <td id=\"T_061b227e_ffde_11ea_9dbe_02420a393713row2_col5\" class=\"data row2 col5\" >(-0.14476672730489268, 0.8883904035342213)</td>\n",
       "                        <td id=\"T_061b227e_ffde_11ea_9dbe_02420a393713row2_col6\" class=\"data row2 col6\" >0.08</td>\n",
       "            </tr>\n",
       "    </tbody></table>"
      ],
      "text/plain": [
       "<pandas.io.formats.style.Styler at 0x7fae8554f050>"
      ]
     },
     "execution_count": 94,
     "metadata": {},
     "output_type": "execute_result"
    }
   ],
   "source": [
    "df_profits = pd.DataFrame(data = revenue_report, columns =['Регион','Среднее', \\\n",
    "                'Медиана','Граница в 2,5%', 'Доверительный интервал 95% - стат тест',\\\n",
    "                'Доверительный интервал 95% - Bootstrap', 'Риски, доля'])\n",
    "\n",
    "df_profits.style.highlight_max(color='lightgreen', axis = 0)\n"
   ]
  },
  {
   "cell_type": "markdown",
   "metadata": {},
   "source": [
    "# Новый вывод\n",
    "\n",
    "**Исходя из представленных данных - наилучший регион для разработки: регион № 1, несмотря на то что лучшая средняя выручка и риски у региона № 2.**\n",
    "\n",
    "\n",
    "Результаты в отношении региона № 2 детерменированы характером представленных данных, поэтому не могут приниматься в расчет до валидации у поставщика данных. (Неявная категоризация/стандартизация)\n",
    "\n",
    "\n",
    "Принимая во внимание близость качества моделей, предсказавших запасы в регионе № 1 и 3: средняя выручка в регионе № 1 (0.40 млрд. рублей) больше выручки в регионе № 3 (0.38), равно как и 2.5%-квантиль (-0.11 млрд. рублей в первом реионе против -0.17 млрд. рублей в регионе № 3).\n",
    "\n",
    "\n",
    "1. Средняя выручка по регионам:\n",
    "\n",
    "    - регион № 1: 0.40 млрд. рублей,\n",
    "    - регион № 2: 0.45 млрд. рублей,\n",
    "    - регион № 3: 0.37 млрд. рублей.\n",
    "    \n",
    "    \n",
    "2. Медиана (практически совпадает со средним):\n",
    "\n",
    "    - регион № 1: 0.40 млрд. рублей,\n",
    "    - регион № 2: 0.45 млрд. рублей,\n",
    "    - регион № 3: 0.37 млрд. рублей.\n",
    "\n",
    "\n",
    "3. Исследование показало, что исходя из представленных данных, риск убытков отсутвует, 2.5%-квантиль для регионов:\n",
    "\n",
    "    - регион № 1: -0.11 млрд. рублей, верхний - 0.89 млрд. рублей\n",
    "    - регион № 2: 0.06 млрд. рублей, верхний - 0.84 млрд. рублей\n",
    "    - регион № 3: -0.14 млрд. рублей, верхний - 0.88 млрд. рублей\n",
    "    \n",
    "    \n",
    "    \n",
    "    \n",
    "4. Всего лишь с 5% вероятностью мы можем утверждать, что наши результаты были получены случайно и реальные показатели оценок прибыли отличаются серьезно от полученных на модели. Если это истинно, то уход в убытки не должен превысить 1,5 млрд (для всех регионов)\n",
    "\n",
    "\n",
    "5. Процент рисков отбора неудачных скважин:\n",
    "    - регион № 1: 6%\n",
    "    - регион № 2: 1.5%\n",
    "    - регион № 3: 8%\n",
    "    \n",
    "\n",
    "\n",
    "\n",
    "Исходя из результатов исследования - следует принять во внимание, что модель малопригодна для настоящего прогнозирования данных, а значит требуется уточнение факторных фичей и апробация других моделей (например, регрессионного дерева) [хотя CatBoost показал себя примерно также(((]\n"
   ]
  }
 ],
 "metadata": {
  "kernelspec": {
   "display_name": "Python 3 (ipykernel)",
   "language": "python",
   "name": "python3"
  },
  "language_info": {
   "codemirror_mode": {
    "name": "ipython",
    "version": 3
   },
   "file_extension": ".py",
   "mimetype": "text/x-python",
   "name": "python",
   "nbconvert_exporter": "python",
   "pygments_lexer": "ipython3",
   "version": "3.9.6"
  }
 },
 "nbformat": 4,
 "nbformat_minor": 2
}
